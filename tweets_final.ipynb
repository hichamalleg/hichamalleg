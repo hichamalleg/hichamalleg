{
  "nbformat": 4,
  "nbformat_minor": 0,
  "metadata": {
    "colab": {
      "provenance": [],
      "authorship_tag": "ABX9TyMeB3pGbM0z9bTpf+Ddm3vn",
      "include_colab_link": true
    },
    "kernelspec": {
      "name": "python3",
      "display_name": "Python 3"
    },
    "language_info": {
      "name": "python"
    }
  },
  "cells": [
    {
      "cell_type": "markdown",
      "metadata": {
        "id": "view-in-github",
        "colab_type": "text"
      },
      "source": [
        "<a href=\"https://colab.research.google.com/github/hichamalleg/hichamalleg/blob/main/tweets_final.ipynb\" target=\"_parent\"><img src=\"https://colab.research.google.com/assets/colab-badge.svg\" alt=\"Open In Colab\"/></a>"
      ]
    },
    {
      "cell_type": "code",
      "source": [
        "import pandas as pd"
      ],
      "metadata": {
        "id": "zLaeWbV9NSmw"
      },
      "execution_count": 1,
      "outputs": []
    },
    {
      "cell_type": "code",
      "execution_count": 2,
      "metadata": {
        "colab": {
          "base_uri": "https://localhost:8080/"
        },
        "id": "_zCuAIfhPvce",
        "outputId": "b2515890-b48a-43ca-c198-266802866712"
      },
      "outputs": [
        {
          "output_type": "stream",
          "name": "stdout",
          "text": [
            "Collecting snscrape\n",
            "  Downloading snscrape-0.7.0.20230622-py3-none-any.whl.metadata (4.9 kB)\n",
            "Requirement already satisfied: requests[socks] in /usr/local/lib/python3.10/dist-packages (from snscrape) (2.32.3)\n",
            "Requirement already satisfied: lxml in /usr/local/lib/python3.10/dist-packages (from snscrape) (5.3.0)\n",
            "Requirement already satisfied: beautifulsoup4 in /usr/local/lib/python3.10/dist-packages (from snscrape) (4.12.3)\n",
            "Requirement already satisfied: filelock in /usr/local/lib/python3.10/dist-packages (from snscrape) (3.16.1)\n",
            "Requirement already satisfied: soupsieve>1.2 in /usr/local/lib/python3.10/dist-packages (from beautifulsoup4->snscrape) (2.6)\n",
            "Requirement already satisfied: charset-normalizer<4,>=2 in /usr/local/lib/python3.10/dist-packages (from requests[socks]->snscrape) (3.4.0)\n",
            "Requirement already satisfied: idna<4,>=2.5 in /usr/local/lib/python3.10/dist-packages (from requests[socks]->snscrape) (3.10)\n",
            "Requirement already satisfied: urllib3<3,>=1.21.1 in /usr/local/lib/python3.10/dist-packages (from requests[socks]->snscrape) (2.2.3)\n",
            "Requirement already satisfied: certifi>=2017.4.17 in /usr/local/lib/python3.10/dist-packages (from requests[socks]->snscrape) (2024.12.14)\n",
            "Requirement already satisfied: PySocks!=1.5.7,>=1.5.6 in /usr/local/lib/python3.10/dist-packages (from requests[socks]->snscrape) (1.7.1)\n",
            "Downloading snscrape-0.7.0.20230622-py3-none-any.whl (74 kB)\n",
            "\u001b[2K   \u001b[90m━━━━━━━━━━━━━━━━━━━━━━━━━━━━━━━━━━━━━━━━\u001b[0m \u001b[32m74.8/74.8 kB\u001b[0m \u001b[31m1.2 MB/s\u001b[0m eta \u001b[36m0:00:00\u001b[0m\n",
            "\u001b[?25hInstalling collected packages: snscrape\n",
            "Successfully installed snscrape-0.7.0.20230622\n"
          ]
        }
      ],
      "source": [
        "pip install snscrape"
      ]
    },
    {
      "cell_type": "code",
      "source": [
        "import snscrape.modules.twitter as snt"
      ],
      "metadata": {
        "id": "-lYXpKEwRaPv"
      },
      "execution_count": 3,
      "outputs": []
    },
    {
      "cell_type": "code",
      "source": [
        "from datetime import datetime, timedelta"
      ],
      "metadata": {
        "id": "ZvDDSB1AV_c9"
      },
      "execution_count": 4,
      "outputs": []
    },
    {
      "cell_type": "code",
      "source": [
        "start_date = datetime(2019,1,1)\n",
        "\n",
        "stop_date = datetime(2019,1,31)\n",
        "\n",
        "num_days = (stop_date - start_date).days + 1\n"
      ],
      "metadata": {
        "id": "lD6hj78aWLqJ"
      },
      "execution_count": 5,
      "outputs": []
    },
    {
      "cell_type": "code",
      "source": [
        "tweets = []\n",
        "dates=[]\n",
        "query = 'Tesla'\n",
        "num_tweets = 10"
      ],
      "metadata": {
        "id": "vhy6ss4zrVaB"
      },
      "execution_count": 6,
      "outputs": []
    },
    {
      "cell_type": "code",
      "source": [
        "for day in range(num_days):\n",
        "  start_date = start_date + timedelta(days = 1)\n",
        "  end_date = start_date + timedelta(days=1)\n",
        "\n",
        "  for i,tweet in enumerate(snt.TwitterSearchScraper(query + ' since:' + start_date.strftime('%Y-%m-%d') + ' until:' + end_date.strftime('%Y-%m-%d')).get_items()):\n",
        "    tweets.append(tweet.rawContent)\n",
        "    dates.append(tweet.date)\n",
        "    if i+1 == num_tweets:\n",
        "      break\n",
        "\n",
        "\n",
        "  print(start_date,end_date)\n",
        "\n",
        "  if start_date == stop_date:\n",
        "    break\n"
      ],
      "metadata": {
        "colab": {
          "base_uri": "https://localhost:8080/",
          "height": 428
        },
        "id": "r1zNc7TAhRhi",
        "outputId": "cad592b5-1c35-480e-bf85-d94444be0e74"
      },
      "execution_count": 7,
      "outputs": [
        {
          "output_type": "stream",
          "name": "stderr",
          "text": [
            "ERROR:snscrape.base:Error retrieving https://twitter.com/search?f=live&lang=en&q=Tesla+since%3A2019-01-02+until%3A2019-01-03&src=spelling_expansion_revert_click: SSLError(MaxRetryError(\"HTTPSConnectionPool(host='twitter.com', port=443): Max retries exceeded with url: /search?f=live&lang=en&q=Tesla+since%3A2019-01-02+until%3A2019-01-03&src=spelling_expansion_revert_click (Caused by SSLError(SSLCertVerificationError(1, '[SSL: CERTIFICATE_VERIFY_FAILED] certificate verify failed: unable to get local issuer certificate (_ssl.c:1007)')))\"))\n",
            "CRITICAL:snscrape.base:4 requests to https://twitter.com/search?f=live&lang=en&q=Tesla+since%3A2019-01-02+until%3A2019-01-03&src=spelling_expansion_revert_click failed, giving up.\n",
            "CRITICAL:snscrape.base:Errors: SSLError(MaxRetryError(\"HTTPSConnectionPool(host='twitter.com', port=443): Max retries exceeded with url: /search?f=live&lang=en&q=Tesla+since%3A2019-01-02+until%3A2019-01-03&src=spelling_expansion_revert_click (Caused by SSLError(SSLCertVerificationError(1, '[SSL: CERTIFICATE_VERIFY_FAILED] certificate verify failed: unable to get local issuer certificate (_ssl.c:1007)')))\")), SSLError(MaxRetryError(\"HTTPSConnectionPool(host='twitter.com', port=443): Max retries exceeded with url: /search?f=live&lang=en&q=Tesla+since%3A2019-01-02+until%3A2019-01-03&src=spelling_expansion_revert_click (Caused by SSLError(SSLCertVerificationError(1, '[SSL: CERTIFICATE_VERIFY_FAILED] certificate verify failed: unable to get local issuer certificate (_ssl.c:1007)')))\")), SSLError(MaxRetryError(\"HTTPSConnectionPool(host='twitter.com', port=443): Max retries exceeded with url: /search?f=live&lang=en&q=Tesla+since%3A2019-01-02+until%3A2019-01-03&src=spelling_expansion_revert_click (Caused by SSLError(SSLCertVerificationError(1, '[SSL: CERTIFICATE_VERIFY_FAILED] certificate verify failed: unable to get local issuer certificate (_ssl.c:1007)')))\")), SSLError(MaxRetryError(\"HTTPSConnectionPool(host='twitter.com', port=443): Max retries exceeded with url: /search?f=live&lang=en&q=Tesla+since%3A2019-01-02+until%3A2019-01-03&src=spelling_expansion_revert_click (Caused by SSLError(SSLCertVerificationError(1, '[SSL: CERTIFICATE_VERIFY_FAILED] certificate verify failed: unable to get local issuer certificate (_ssl.c:1007)')))\"))\n"
          ]
        },
        {
          "output_type": "error",
          "ename": "ScraperException",
          "evalue": "4 requests to https://twitter.com/search?f=live&lang=en&q=Tesla+since%3A2019-01-02+until%3A2019-01-03&src=spelling_expansion_revert_click failed, giving up.",
          "traceback": [
            "\u001b[0;31m---------------------------------------------------------------------------\u001b[0m",
            "\u001b[0;31mScraperException\u001b[0m                          Traceback (most recent call last)",
            "\u001b[0;32m<ipython-input-7-ed1789c8cfa3>\u001b[0m in \u001b[0;36m<cell line: 1>\u001b[0;34m()\u001b[0m\n\u001b[1;32m      3\u001b[0m   \u001b[0mend_date\u001b[0m \u001b[0;34m=\u001b[0m \u001b[0mstart_date\u001b[0m \u001b[0;34m+\u001b[0m \u001b[0mtimedelta\u001b[0m\u001b[0;34m(\u001b[0m\u001b[0mdays\u001b[0m\u001b[0;34m=\u001b[0m\u001b[0;36m1\u001b[0m\u001b[0;34m)\u001b[0m\u001b[0;34m\u001b[0m\u001b[0;34m\u001b[0m\u001b[0m\n\u001b[1;32m      4\u001b[0m \u001b[0;34m\u001b[0m\u001b[0m\n\u001b[0;32m----> 5\u001b[0;31m   \u001b[0;32mfor\u001b[0m \u001b[0mi\u001b[0m\u001b[0;34m,\u001b[0m\u001b[0mtweet\u001b[0m \u001b[0;32min\u001b[0m \u001b[0menumerate\u001b[0m\u001b[0;34m(\u001b[0m\u001b[0msnt\u001b[0m\u001b[0;34m.\u001b[0m\u001b[0mTwitterSearchScraper\u001b[0m\u001b[0;34m(\u001b[0m\u001b[0mquery\u001b[0m \u001b[0;34m+\u001b[0m \u001b[0;34m' since:'\u001b[0m \u001b[0;34m+\u001b[0m \u001b[0mstart_date\u001b[0m\u001b[0;34m.\u001b[0m\u001b[0mstrftime\u001b[0m\u001b[0;34m(\u001b[0m\u001b[0;34m'%Y-%m-%d'\u001b[0m\u001b[0;34m)\u001b[0m \u001b[0;34m+\u001b[0m \u001b[0;34m' until:'\u001b[0m \u001b[0;34m+\u001b[0m \u001b[0mend_date\u001b[0m\u001b[0;34m.\u001b[0m\u001b[0mstrftime\u001b[0m\u001b[0;34m(\u001b[0m\u001b[0;34m'%Y-%m-%d'\u001b[0m\u001b[0;34m)\u001b[0m\u001b[0;34m)\u001b[0m\u001b[0;34m.\u001b[0m\u001b[0mget_items\u001b[0m\u001b[0;34m(\u001b[0m\u001b[0;34m)\u001b[0m\u001b[0;34m)\u001b[0m\u001b[0;34m:\u001b[0m\u001b[0;34m\u001b[0m\u001b[0;34m\u001b[0m\u001b[0m\n\u001b[0m\u001b[1;32m      6\u001b[0m     \u001b[0mtweets\u001b[0m\u001b[0;34m.\u001b[0m\u001b[0mappend\u001b[0m\u001b[0;34m(\u001b[0m\u001b[0mtweet\u001b[0m\u001b[0;34m.\u001b[0m\u001b[0mrawContent\u001b[0m\u001b[0;34m)\u001b[0m\u001b[0;34m\u001b[0m\u001b[0;34m\u001b[0m\u001b[0m\n\u001b[1;32m      7\u001b[0m     \u001b[0mdates\u001b[0m\u001b[0;34m.\u001b[0m\u001b[0mappend\u001b[0m\u001b[0;34m(\u001b[0m\u001b[0mtweet\u001b[0m\u001b[0;34m.\u001b[0m\u001b[0mdate\u001b[0m\u001b[0;34m)\u001b[0m\u001b[0;34m\u001b[0m\u001b[0;34m\u001b[0m\u001b[0m\n",
            "\u001b[0;32m/usr/local/lib/python3.10/dist-packages/snscrape/modules/twitter.py\u001b[0m in \u001b[0;36mget_items\u001b[0;34m(self)\u001b[0m\n\u001b[1;32m   1761\u001b[0m                 \u001b[0mpaginationParams\u001b[0m \u001b[0;34m=\u001b[0m \u001b[0;34m{\u001b[0m\u001b[0;34m'variables'\u001b[0m\u001b[0;34m:\u001b[0m \u001b[0mpaginationVariables\u001b[0m\u001b[0;34m,\u001b[0m \u001b[0;34m'features'\u001b[0m\u001b[0;34m:\u001b[0m \u001b[0mfeatures\u001b[0m\u001b[0;34m}\u001b[0m\u001b[0;34m\u001b[0m\u001b[0;34m\u001b[0m\u001b[0m\n\u001b[1;32m   1762\u001b[0m \u001b[0;34m\u001b[0m\u001b[0m\n\u001b[0;32m-> 1763\u001b[0;31m                 \u001b[0;32mfor\u001b[0m \u001b[0mobj\u001b[0m \u001b[0;32min\u001b[0m \u001b[0mself\u001b[0m\u001b[0;34m.\u001b[0m\u001b[0m_iter_api_data\u001b[0m\u001b[0;34m(\u001b[0m\u001b[0;34m'https://twitter.com/i/api/graphql/7jT5GT59P8IFjgxwqnEdQw/SearchTimeline'\u001b[0m\u001b[0;34m,\u001b[0m \u001b[0m_TwitterAPIType\u001b[0m\u001b[0;34m.\u001b[0m\u001b[0mGRAPHQL\u001b[0m\u001b[0;34m,\u001b[0m \u001b[0mparams\u001b[0m\u001b[0;34m,\u001b[0m \u001b[0mpaginationParams\u001b[0m\u001b[0;34m,\u001b[0m \u001b[0mcursor\u001b[0m \u001b[0;34m=\u001b[0m \u001b[0mself\u001b[0m\u001b[0;34m.\u001b[0m\u001b[0m_cursor\u001b[0m\u001b[0;34m,\u001b[0m \u001b[0minstructionsPath\u001b[0m \u001b[0;34m=\u001b[0m \u001b[0;34m[\u001b[0m\u001b[0;34m'data'\u001b[0m\u001b[0;34m,\u001b[0m \u001b[0;34m'search_by_raw_query'\u001b[0m\u001b[0;34m,\u001b[0m \u001b[0;34m'search_timeline'\u001b[0m\u001b[0;34m,\u001b[0m \u001b[0;34m'timeline'\u001b[0m\u001b[0;34m,\u001b[0m \u001b[0;34m'instructions'\u001b[0m\u001b[0;34m]\u001b[0m\u001b[0;34m)\u001b[0m\u001b[0;34m:\u001b[0m\u001b[0;34m\u001b[0m\u001b[0;34m\u001b[0m\u001b[0m\n\u001b[0m\u001b[1;32m   1764\u001b[0m                         \u001b[0;32myield\u001b[0m \u001b[0;32mfrom\u001b[0m \u001b[0mself\u001b[0m\u001b[0;34m.\u001b[0m\u001b[0m_graphql_timeline_instructions_to_tweets\u001b[0m\u001b[0;34m(\u001b[0m\u001b[0mobj\u001b[0m\u001b[0;34m[\u001b[0m\u001b[0;34m'data'\u001b[0m\u001b[0;34m]\u001b[0m\u001b[0;34m[\u001b[0m\u001b[0;34m'search_by_raw_query'\u001b[0m\u001b[0;34m]\u001b[0m\u001b[0;34m[\u001b[0m\u001b[0;34m'search_timeline'\u001b[0m\u001b[0;34m]\u001b[0m\u001b[0;34m[\u001b[0m\u001b[0;34m'timeline'\u001b[0m\u001b[0;34m]\u001b[0m\u001b[0;34m[\u001b[0m\u001b[0;34m'instructions'\u001b[0m\u001b[0;34m]\u001b[0m\u001b[0;34m)\u001b[0m\u001b[0;34m\u001b[0m\u001b[0;34m\u001b[0m\u001b[0m\n\u001b[1;32m   1765\u001b[0m \u001b[0;34m\u001b[0m\u001b[0m\n",
            "\u001b[0;32m/usr/local/lib/python3.10/dist-packages/snscrape/modules/twitter.py\u001b[0m in \u001b[0;36m_iter_api_data\u001b[0;34m(self, endpoint, apiType, params, paginationParams, cursor, direction, instructionsPath)\u001b[0m\n\u001b[1;32m    913\u001b[0m                 \u001b[0;32mwhile\u001b[0m \u001b[0;32mTrue\u001b[0m\u001b[0;34m:\u001b[0m\u001b[0;34m\u001b[0m\u001b[0;34m\u001b[0m\u001b[0m\n\u001b[1;32m    914\u001b[0m                         \u001b[0m_logger\u001b[0m\u001b[0;34m.\u001b[0m\u001b[0minfo\u001b[0m\u001b[0;34m(\u001b[0m\u001b[0;34mf'Retrieving scroll page {cursor}'\u001b[0m\u001b[0;34m)\u001b[0m\u001b[0;34m\u001b[0m\u001b[0;34m\u001b[0m\u001b[0m\n\u001b[0;32m--> 915\u001b[0;31m                         \u001b[0mobj\u001b[0m \u001b[0;34m=\u001b[0m \u001b[0mself\u001b[0m\u001b[0;34m.\u001b[0m\u001b[0m_get_api_data\u001b[0m\u001b[0;34m(\u001b[0m\u001b[0mendpoint\u001b[0m\u001b[0;34m,\u001b[0m \u001b[0mapiType\u001b[0m\u001b[0;34m,\u001b[0m \u001b[0mreqParams\u001b[0m\u001b[0;34m,\u001b[0m \u001b[0minstructionsPath\u001b[0m \u001b[0;34m=\u001b[0m \u001b[0minstructionsPath\u001b[0m\u001b[0;34m)\u001b[0m\u001b[0;34m\u001b[0m\u001b[0;34m\u001b[0m\u001b[0m\n\u001b[0m\u001b[1;32m    916\u001b[0m                         \u001b[0;32myield\u001b[0m \u001b[0mobj\u001b[0m\u001b[0;34m\u001b[0m\u001b[0;34m\u001b[0m\u001b[0m\n\u001b[1;32m    917\u001b[0m \u001b[0;34m\u001b[0m\u001b[0m\n",
            "\u001b[0;32m/usr/local/lib/python3.10/dist-packages/snscrape/modules/twitter.py\u001b[0m in \u001b[0;36m_get_api_data\u001b[0;34m(self, endpoint, apiType, params, instructionsPath)\u001b[0m\n\u001b[1;32m    881\u001b[0m \u001b[0;34m\u001b[0m\u001b[0m\n\u001b[1;32m    882\u001b[0m         \u001b[0;32mdef\u001b[0m \u001b[0m_get_api_data\u001b[0m\u001b[0;34m(\u001b[0m\u001b[0mself\u001b[0m\u001b[0;34m,\u001b[0m \u001b[0mendpoint\u001b[0m\u001b[0;34m,\u001b[0m \u001b[0mapiType\u001b[0m\u001b[0;34m,\u001b[0m \u001b[0mparams\u001b[0m\u001b[0;34m,\u001b[0m \u001b[0minstructionsPath\u001b[0m \u001b[0;34m=\u001b[0m \u001b[0;32mNone\u001b[0m\u001b[0;34m)\u001b[0m\u001b[0;34m:\u001b[0m\u001b[0;34m\u001b[0m\u001b[0;34m\u001b[0m\u001b[0m\n\u001b[0;32m--> 883\u001b[0;31m                 \u001b[0mself\u001b[0m\u001b[0;34m.\u001b[0m\u001b[0m_ensure_guest_token\u001b[0m\u001b[0;34m(\u001b[0m\u001b[0;34m)\u001b[0m\u001b[0;34m\u001b[0m\u001b[0;34m\u001b[0m\u001b[0m\n\u001b[0m\u001b[1;32m    884\u001b[0m                 \u001b[0;32mif\u001b[0m \u001b[0mapiType\u001b[0m \u001b[0;32mis\u001b[0m \u001b[0m_TwitterAPIType\u001b[0m\u001b[0;34m.\u001b[0m\u001b[0mGRAPHQL\u001b[0m\u001b[0;34m:\u001b[0m\u001b[0;34m\u001b[0m\u001b[0;34m\u001b[0m\u001b[0m\n\u001b[1;32m    885\u001b[0m                         \u001b[0mparams\u001b[0m \u001b[0;34m=\u001b[0m \u001b[0murllib\u001b[0m\u001b[0;34m.\u001b[0m\u001b[0mparse\u001b[0m\u001b[0;34m.\u001b[0m\u001b[0murlencode\u001b[0m\u001b[0;34m(\u001b[0m\u001b[0;34m{\u001b[0m\u001b[0mk\u001b[0m\u001b[0;34m:\u001b[0m \u001b[0mjson\u001b[0m\u001b[0;34m.\u001b[0m\u001b[0mdumps\u001b[0m\u001b[0;34m(\u001b[0m\u001b[0mv\u001b[0m\u001b[0;34m,\u001b[0m \u001b[0mseparators\u001b[0m \u001b[0;34m=\u001b[0m \u001b[0;34m(\u001b[0m\u001b[0;34m','\u001b[0m\u001b[0;34m,\u001b[0m \u001b[0;34m':'\u001b[0m\u001b[0;34m)\u001b[0m\u001b[0;34m)\u001b[0m \u001b[0;32mfor\u001b[0m \u001b[0mk\u001b[0m\u001b[0;34m,\u001b[0m \u001b[0mv\u001b[0m \u001b[0;32min\u001b[0m \u001b[0mparams\u001b[0m\u001b[0;34m.\u001b[0m\u001b[0mitems\u001b[0m\u001b[0;34m(\u001b[0m\u001b[0;34m)\u001b[0m\u001b[0;34m}\u001b[0m\u001b[0;34m,\u001b[0m \u001b[0mquote_via\u001b[0m \u001b[0;34m=\u001b[0m \u001b[0murllib\u001b[0m\u001b[0;34m.\u001b[0m\u001b[0mparse\u001b[0m\u001b[0;34m.\u001b[0m\u001b[0mquote\u001b[0m\u001b[0;34m)\u001b[0m\u001b[0;34m\u001b[0m\u001b[0;34m\u001b[0m\u001b[0m\n",
            "\u001b[0;32m/usr/local/lib/python3.10/dist-packages/snscrape/modules/twitter.py\u001b[0m in \u001b[0;36m_ensure_guest_token\u001b[0;34m(self, url)\u001b[0m\n\u001b[1;32m    823\u001b[0m                 \u001b[0;32mif\u001b[0m \u001b[0mself\u001b[0m\u001b[0;34m.\u001b[0m\u001b[0m_guestTokenManager\u001b[0m\u001b[0;34m.\u001b[0m\u001b[0mtoken\u001b[0m \u001b[0;32mis\u001b[0m \u001b[0;32mNone\u001b[0m\u001b[0;34m:\u001b[0m\u001b[0;34m\u001b[0m\u001b[0;34m\u001b[0m\u001b[0m\n\u001b[1;32m    824\u001b[0m                         \u001b[0m_logger\u001b[0m\u001b[0;34m.\u001b[0m\u001b[0minfo\u001b[0m\u001b[0;34m(\u001b[0m\u001b[0;34m'Retrieving guest token'\u001b[0m\u001b[0;34m)\u001b[0m\u001b[0;34m\u001b[0m\u001b[0;34m\u001b[0m\u001b[0m\n\u001b[0;32m--> 825\u001b[0;31m                         \u001b[0mr\u001b[0m \u001b[0;34m=\u001b[0m \u001b[0mself\u001b[0m\u001b[0;34m.\u001b[0m\u001b[0m_get\u001b[0m\u001b[0;34m(\u001b[0m\u001b[0mself\u001b[0m\u001b[0;34m.\u001b[0m\u001b[0m_baseUrl\u001b[0m \u001b[0;32mif\u001b[0m \u001b[0murl\u001b[0m \u001b[0;32mis\u001b[0m \u001b[0;32mNone\u001b[0m \u001b[0;32melse\u001b[0m \u001b[0murl\u001b[0m\u001b[0;34m,\u001b[0m \u001b[0mresponseOkCallback\u001b[0m \u001b[0;34m=\u001b[0m \u001b[0mself\u001b[0m\u001b[0;34m.\u001b[0m\u001b[0m_check_guest_token_response\u001b[0m\u001b[0;34m)\u001b[0m\u001b[0;34m\u001b[0m\u001b[0;34m\u001b[0m\u001b[0m\n\u001b[0m\u001b[1;32m    826\u001b[0m                         \u001b[0;32mif\u001b[0m \u001b[0;34m(\u001b[0m\u001b[0mmatch\u001b[0m \u001b[0;34m:=\u001b[0m \u001b[0mre\u001b[0m\u001b[0;34m.\u001b[0m\u001b[0msearch\u001b[0m\u001b[0;34m(\u001b[0m\u001b[0;34mr'document\\.cookie = decodeURIComponent\\(\"gt=(\\d+); Max-Age=10800; Domain=\\.twitter\\.com; Path=/; Secure\"\\);'\u001b[0m\u001b[0;34m,\u001b[0m \u001b[0mr\u001b[0m\u001b[0;34m.\u001b[0m\u001b[0mtext\u001b[0m\u001b[0;34m)\u001b[0m\u001b[0;34m)\u001b[0m\u001b[0;34m:\u001b[0m\u001b[0;34m\u001b[0m\u001b[0;34m\u001b[0m\u001b[0m\n\u001b[1;32m    827\u001b[0m                                 \u001b[0m_logger\u001b[0m\u001b[0;34m.\u001b[0m\u001b[0mdebug\u001b[0m\u001b[0;34m(\u001b[0m\u001b[0;34m'Found guest token in HTML'\u001b[0m\u001b[0;34m)\u001b[0m\u001b[0;34m\u001b[0m\u001b[0;34m\u001b[0m\u001b[0m\n",
            "\u001b[0;32m/usr/local/lib/python3.10/dist-packages/snscrape/base.py\u001b[0m in \u001b[0;36m_get\u001b[0;34m(self, *args, **kwargs)\u001b[0m\n\u001b[1;32m    273\u001b[0m \u001b[0;34m\u001b[0m\u001b[0m\n\u001b[1;32m    274\u001b[0m         \u001b[0;32mdef\u001b[0m \u001b[0m_get\u001b[0m\u001b[0;34m(\u001b[0m\u001b[0mself\u001b[0m\u001b[0;34m,\u001b[0m \u001b[0;34m*\u001b[0m\u001b[0margs\u001b[0m\u001b[0;34m,\u001b[0m \u001b[0;34m**\u001b[0m\u001b[0mkwargs\u001b[0m\u001b[0;34m)\u001b[0m\u001b[0;34m:\u001b[0m\u001b[0;34m\u001b[0m\u001b[0;34m\u001b[0m\u001b[0m\n\u001b[0;32m--> 275\u001b[0;31m                 \u001b[0;32mreturn\u001b[0m \u001b[0mself\u001b[0m\u001b[0;34m.\u001b[0m\u001b[0m_request\u001b[0m\u001b[0;34m(\u001b[0m\u001b[0;34m'GET'\u001b[0m\u001b[0;34m,\u001b[0m \u001b[0;34m*\u001b[0m\u001b[0margs\u001b[0m\u001b[0;34m,\u001b[0m \u001b[0;34m**\u001b[0m\u001b[0mkwargs\u001b[0m\u001b[0;34m)\u001b[0m\u001b[0;34m\u001b[0m\u001b[0;34m\u001b[0m\u001b[0m\n\u001b[0m\u001b[1;32m    276\u001b[0m \u001b[0;34m\u001b[0m\u001b[0m\n\u001b[1;32m    277\u001b[0m         \u001b[0;32mdef\u001b[0m \u001b[0m_post\u001b[0m\u001b[0;34m(\u001b[0m\u001b[0mself\u001b[0m\u001b[0;34m,\u001b[0m \u001b[0;34m*\u001b[0m\u001b[0margs\u001b[0m\u001b[0;34m,\u001b[0m \u001b[0;34m**\u001b[0m\u001b[0mkwargs\u001b[0m\u001b[0;34m)\u001b[0m\u001b[0;34m:\u001b[0m\u001b[0;34m\u001b[0m\u001b[0;34m\u001b[0m\u001b[0m\n",
            "\u001b[0;32m/usr/local/lib/python3.10/dist-packages/snscrape/base.py\u001b[0m in \u001b[0;36m_request\u001b[0;34m(self, method, url, params, data, headers, timeout, responseOkCallback, allowRedirects, proxies)\u001b[0m\n\u001b[1;32m    269\u001b[0m                         \u001b[0m_logger\u001b[0m\u001b[0;34m.\u001b[0m\u001b[0mfatal\u001b[0m\u001b[0;34m(\u001b[0m\u001b[0mmsg\u001b[0m\u001b[0;34m)\u001b[0m\u001b[0;34m\u001b[0m\u001b[0;34m\u001b[0m\u001b[0m\n\u001b[1;32m    270\u001b[0m                         \u001b[0m_logger\u001b[0m\u001b[0;34m.\u001b[0m\u001b[0mfatal\u001b[0m\u001b[0;34m(\u001b[0m\u001b[0;34mf'Errors: {\", \".join(errors)}'\u001b[0m\u001b[0;34m)\u001b[0m\u001b[0;34m\u001b[0m\u001b[0;34m\u001b[0m\u001b[0m\n\u001b[0;32m--> 271\u001b[0;31m                         \u001b[0;32mraise\u001b[0m \u001b[0mScraperException\u001b[0m\u001b[0;34m(\u001b[0m\u001b[0mmsg\u001b[0m\u001b[0;34m)\u001b[0m\u001b[0;34m\u001b[0m\u001b[0;34m\u001b[0m\u001b[0m\n\u001b[0m\u001b[1;32m    272\u001b[0m                 \u001b[0;32mraise\u001b[0m \u001b[0mRuntimeError\u001b[0m\u001b[0;34m(\u001b[0m\u001b[0;34m'Reached unreachable code'\u001b[0m\u001b[0;34m)\u001b[0m\u001b[0;34m\u001b[0m\u001b[0;34m\u001b[0m\u001b[0m\n\u001b[1;32m    273\u001b[0m \u001b[0;34m\u001b[0m\u001b[0m\n",
            "\u001b[0;31mScraperException\u001b[0m: 4 requests to https://twitter.com/search?f=live&lang=en&q=Tesla+since%3A2019-01-02+until%3A2019-01-03&src=spelling_expansion_revert_click failed, giving up."
          ]
        }
      ]
    },
    {
      "cell_type": "code",
      "source": [
        "for item in tweets:\n",
        "  print(item)"
      ],
      "metadata": {
        "colab": {
          "base_uri": "https://localhost:8080/"
        },
        "id": "XU239ccLr1-F",
        "outputId": "26cabce9-3800-448e-c373-aceb868569bd"
      },
      "execution_count": null,
      "outputs": [
        {
          "output_type": "stream",
          "name": "stdout",
          "text": [
            "More Teslas on the way to the showroom! @tesla ⁦@elonmusk⁩ #Tesla #SantaBarbara https://t.co/pKsoLkx6f2\n",
            "SIEMENS LOGO! 8 - Exercise 04 - Function NOR: https://t.co/h9BNqGweMg via @YouTube\n",
            "@RationalEtienne @Rec1pr0city @kulpability @elonmusk @scottwww @annerajb @CharlieMilton @Reuters @Breakingviews @Tesla #TeamElon\n",
            "\n",
            "AI/Men brother. https://t.co/9rVZ5y39HL\n",
            "@serenepoker Only Tesla knows for sure but we think it will be in late Q2\n",
            "Best Auto Stocks for 2019 - Should I Buy Ford Stock, Tesla Stock, GM Stock or Fiat's Stock\n",
            "\n",
            "https://t.co/ogtuuTAUBE\n",
            "@JC080496 @InsideEVs @Tesla @Ford @GMC @Chrysler don’t expect German automakers to deliver anything that will seriously compete with Tesla’s current all-electric and semi-autonomous vehicle lineup before 2020 at the earliest.\n",
            "Tesla Monhly view - #TSLA chart https://t.co/21vBOInYT3\n",
            "@BruceHoult Postscript: I don't know about Tesla. I know you like it. I like Musk. But we'll see.\n",
            "@Tesla If you are wondering why I'm censoring my comments on this, it's because I know @elonmusk doesn't like swearing &amp; in this case it's not his nor @Tesla  fault - it's bad wiring on their (the video) fault ;-)\n",
            "Good to see the local fire dept did their job +1\n",
            "@elonmusk @Forbes Meanwhile in #europe 😂 @Tesla https://t.co/WzzaLAmGtu\n",
            "@teslaownersSV @mortchad @jerswoodshop @Draketwo2 @lexiheft @DMC_Ryan @Tesla In mph of course\n",
            "I've driven every Tesla model you can buy. Here are my favorite features. https://t.co/GbPaGw1fwX\n",
            "It’s official, my next car is a Tesla\n",
            "@NikolaTeslaSays TESLA You Stay Out This Is With @Bedivere_Says And I.\n",
            "My lyft picked me up in a Tesla Model X. That was the sauciest car I’ve ever been.\n",
            "@teslaownersSV @mortchad @jerswoodshop @Draketwo2 @lexiheft @DMC_Ryan @Tesla That’s amazing? What’s your watt hour per mile driving average? I believe yoir wh/m gets used to calculate your charging rate.\n",
            "@SpiceWare @Jennerator211 @Tesla @elonmusk I like that, but there is something about the power in this\n",
            "https://t.co/l0XMiqdx31\n",
            "If @Jennerator211 hasn't seen it she might like this for something different.\n",
            "My uber driver just picked me up in a Tesla model 3, and HOLY SHIT this car is straight out of the future, its INSANE\n",
            "Trucks &amp; SUVs speweth what #Tesla taketh away as increased exhaust emissions from increased popularity of trucks and SUVs isn't helping to clean up our air. https://t.co/mI1Uxexjb6\n",
            "@zerohedge PG&amp;E must not have the same accountants that Tesla uses, to cook the books.\n",
            "And when you buy a @Tesla to your wife and she goes to gas station ⛽️ to charge it !!! 😂😂😂@elonmusk https://t.co/m9XLiIz8en\n",
            "久々にこういうので笑ったw\n",
            "チャットに注目 https://t.co/pjAsuNWmwv\n",
            "Gostei de um vídeo @YouTube https://t.co/4q6OvauN3O TESLA: O que ele realmente descobriu?\n",
            "@averagejosh Yeah it really is its own thing. My dad has a Tesla Model S and it's insanely nice and has crazy tech and it's a great ride.\n",
            "@ValueAnalyst1 @a_meta4 Use less Cobalt is not the secret. Many companies can do. The key is really from Japan tech leased by Tesla which provide uniform battery quality while Chinese competitors could not handle well. Of course it requires Volt in G1 must be stable. Outsiders over estimate Tesla Tech\n",
            "@orthereaboot @Thereal_ktex @WallStCynic @Trumpery45 The $3bn is mostly GF1 and GF2 as I said. They are huge buildings and huge construction projects. Tesla had spent $2bn on GF1 construction as of June-18 according to Nevada.\n",
            "@FredericLambert Run with us at the Tesla Corsa event at Buttonwillow Raceway on the 27th if you can. https://t.co/mGg1xu8clU\n",
            "@vincent13031925 @elonmusk @Tesla The beginnings of an autonomous Chinese army\n",
            "I liked a @YouTube video https://t.co/YHKcd94WCQ Buy Securities on Blockchain: Google, Apple, Tesla, Nvidia w/ Nasdaq powered Exchange\n",
            "A HUGE PROBLEM WITH THE TESLA MODEL 3!! https://t.co/calsqUpd1W  @elonmusk I’m sure you can fix this!\n",
            "@WPipperger @librab103 @UnderseaW @temp_worker @davidtayar5 But you said it is a must.\n",
            "\n",
            "Oh and Teslas automatically call emergency #s and Tesla HQ when in an accident. No need to press a stupid red button when your arm is broken in ten places\n",
            "@JimHarris I remember that tesla also had a 35k price tag for Model 3 😉. Imo the roadster is just to keep people dreaming and do free advertising for referrals. But maybe I am wrong. Lets see what happens.\n",
            "El de tu imagen de perfil es Tesla un adelantado\n",
            "@elonmusk @businessinsider Love these and agree! I’m shocked at the Tesla haters that you have to put up with Elon. The negativity from the jealous is crazy. No worries we who drive Teslas are your biggest fans. Thank you!\n",
            "@verge You only need one screen. Just ask @Tesla 😉\n",
            "@raspevana @SambaLjig to je ok. ja sam brena u ril lajfu. nego ovako kad izmastavamo sam tesla.\n",
            "@bitraj_ I think a Tesla is the perfect middle ground flex. Feel like a boss having and driving one and show off as you please\n",
            "@lebronheatand1 El tesla ya lo viste y la tundra https://t.co/4hP44ZW2XO\n",
            "I liked a @YouTube video https://t.co/atXk14VRgC 2018 Tesla Model 3 Update #1 – Here's Everything That Has Gone WRONG\n",
            "@WineCharlatan @BloombergNEF Extremely hard needle to thread, yes. A Chinese pure EV maker, or Tesla, only has one thing to worry about. Legacy OEM's as you correctly note have to tend to existing lines, while conceiving of new ones. I knew it would not go well for them, and it isn't.\n",
            "@seldo @ryanflorence Biggest difference is usually range and charging times. Super hard to find anything besides a Tesla with long range (over 250 miles) and supports supercharging for road trips. (Tesla's can charge 170 miles in 30 minutes).\n",
            "В Tesla объявили снижение цен на все свои авто https://t.co/4lVkcaSjq1 https://t.co/5TlkTVPIly\n",
            "I added a video to a @YouTube playlist https://t.co/Ixq85id2w9 Going Solar with TESLA\n",
            "I liked a @YouTube video https://t.co/Ixq85id2w9 Going Solar with TESLA\n",
            "@elonmusk @Tesla We're waiting for you guys in Brazil!\n",
            "@Tesla_Bear No, that is not true, and it has been answered extensively, starting with this thread: https://t.co/3Fs4Q9xqpW\n",
            "@elonmusk @ChrisEvans @Tesla Engineering #ItJustWorks https://t.co/tODAB6pUse\n",
            "Anlaşılan Tesla'nın elektrikli otomobilleri Çin'deki üretim bandından bizim yerli otomobilden çok daha önce inecek. Tesla’nın Çin’deki dev fabrikasının temelleri atıldı  via Digital Age https://t.co/iE4h0P0ThB\n",
            "@tryghin @ellievan65 The lithium batteries are not toxic, though they do have some dangers.  There is no free lunch, but no other transportation medium can get there as quickly off current infrastructure (e.g., hydrogen). The range is not a problem (Chevy Bold, Tesla 3) &amp; the costs are coming down.\n",
            "@CryptoShillNye @Tesla @elonmusk\n",
            "@DanPriceSeattle @elonmusk @Tesla Awesome.  😊❤\n",
            "I’m looking towards a Tesla model 3,but yeah chargers look mean\n",
            "🍁 Tesla dei Canales: Primeros barcos portacontenedores eléctricos... https://t.co/Z65iNa5U29\n",
            "@Tesla Service is what Tesla should focus, customer care, 1hr + wait time to talk to a service department, every time...\n",
            "This goes back to Sandy Munro’s first tear-down comments about fighter-jet tech in Model 3. @Tesla is putting military/industrial grade quality into consumer products, while positioning for eye-watering margins.\n",
            "@ex_Tesla @g_schelle I feel like early adopters are well aware of that, not only if they buy Tesla. The first model year of most manufacturers or first software builds all have some teething problems.\n",
            "@juanburgos Soy especialista en innovación y patentes 🙄👊💥\n",
            "What a headline: Tesla kills robot https://t.co/acHQ8joVEe\n",
            "Nothing is more frustrating that staying a resort where you can't get answers to your questions. This last weekend at @CaesarsPalace, not only were the humans unknowledgeable, but their personal concierge, \"Ivy\", is a bot.\n",
            "\n",
            "Also my Tesla got damaged while in valet. https://t.co/SEz6S9O0Yo\n",
            "Un #Tesla en piloto automático atropella un #robot autónomo en el #CES\n",
            "https://t.co/0Ean6XP890 https://t.co/5qiXCSDYCm\n",
            "@elonmusk A Tesla made in China WILL NOT BE BOUGHT BY THE American Consumer Soldier.\n",
            "Enough transfer of jobs, wealth and technology to China\n",
            "Tesla may offer an option on the upcoming Roadster sports car to enable drivers to float above the ground using thrusters from SpaceX 🚀 https://t.co/PcAihjHSA3\n",
            "This is why I’m getting a Tesla\n",
            "@elonmusk Whoa, For Real? Can i test drive it. I would dare myself to it if that's from @elonmusk  and @Tesla .\n",
            "#Elon has his firmly unwavering confidence:\n",
            "  #Tesla EVs would hook people up immediately after their first use.\n",
            "#ElectricCar: Can China's electric car start up Byton beat Elon Musk's Tesla ... https://t.co/oMHSaOYTjZ\n",
            "@28delayslater I mean… they will spread anything that puts Tesla in a negative light. Even if it only convinces one person to sell all their Tesla stock, it’s worth it for them, no? Anything that gives them a 5 minute window to cover is probably game at this point…\n",
            "I'm sure all the @Tesla owners are feeling pretty good atm⚡️ “People are waiting in long lines for fuel in Mexico”\n",
            "\n",
            "https://t.co/Xz8E4AXSea\n",
            "I have some autographed album covers that I have decided to sell, already framed too. \n",
            "\n",
            "If you're interested, PM me for info.\n",
            "\n",
            "Motley Crue \n",
            "Fleetwood Mac\n",
            "Jefferson Starship\n",
            "Judas Priest\n",
            "Night Ranger\n",
            "Paul Stanley-Kiss\n",
            "Tesla\n",
            "@franco_esca es fácil el tesla detecto que no era un ser vivo con inteligencia 🤣🤣\n",
            "@GerberKawasaki @elonmusk Wish there was a special honk sequence like mating call that could be used when another Tesla is in close proximity\n",
            "I liked a @YouTube video https://t.co/wOSmL0VnzD Everything Wrong with my Salvage Tesla after one year\n",
            "@EnerTuition @Tweetermeyer @Tesla Did you ask him about $tsla death Watch? 😂\n",
            "ブレドラレオン簡単に当てられるアクア最強やん\n",
            "@Trefor1 of @WSJ reported Monday that $TSLA \"started construction of its new China factory.\" The clear implication was that Tesla had secured funding for the factory. If that were true, the 8-K was due today. Will Trefor up his game and ask where it is? https://t.co/H0LvMqqzkd\n",
            "@elonmusk if not for Tesla, most of these cars would not exist now.\n",
            "@mguindin Imagino que los traen de allá fuera porque hasta donde tengo entendido no hay un concesionario Tesla aquí, ¿o me equivoco?\n",
            "@HeigoPaartalu @Tesla Thank you for helping to save the planet\n",
            "@CNBC @elonmusk Way to go Tesla. The abalone custom paint job will take your breath away\n",
            "@Elektro_Robin @RammTammTamm @AndiScheuer Nun ja, die aufwendigen Showrooms an zugkräftigen Plätzen würde ich schon einer gewissen Marketingstrategie zuordnen. Und wenn #Tesla kontaktiert, dann durchaus ambitioniert, man könnte es auch aufdringlich nennen.\n",
            "I liked a @YouTube video https://t.co/lTTwBBCuCK Tesla Model X: Strange Quirks and Cool Features\n",
            "@slye @Tesla @KelleyBlueBook Better red than dead! https://t.co/WEEHcmObju\n",
            "Following 2 straight failed raises, SpaceX is forced to cut 10% of workforce.\n",
            "\n",
            "Like $tsla, SpaceX is no longer a growth company. Like Tesla, it’s still valued for now as if it were. \n",
            "\n",
            "https://t.co/lG6AfCrQyt\n",
            "@Matthew_Wachter @elonmusk @Tesla Oh Behalf of all NW Ohioans, we need more Teslas.\n",
            "They’ve announced this sort of thing before. I’d like to believe them but...  they will probably follow up with more PR that says launching in 2020, 300 mile range, charge to 80% in 30 minutes. They won’t talk about the fact they have no battery supply secured .\n",
            "@ClinicalPharmV @realDonaldTrump Beep boop\n",
            "@ValueAnalyst1 That includes an opinion that may or may not be valid, but it has nothing to do with what these charts are showing. In fact I should ask, what is the definition of \"Working capital\" in the above chart because again, Tesla's is negative\n",
            "@martinengwicht @28delayslater @Smack_Check @ValueAnalyst1 @gwestr @EcoHeliGuy @zshahan3 @BarkMSmeagol @Tesla @markbspeigeI Martin you were not supposed to tell him that. This was supposed to be our secret!\n",
            "@T0MStep you’re actually a shitty engineer? You don’t even invent TESLA\n",
            "@IAmJitsu Tesla Boy if you don’t already know!\n",
            "Did a Russian Robotics Company Fake This Tesla-Robot Crash? https://t.co/ZKOuVSqDSr\n",
            "Circulaba hace rato por Av. Patria a 50 Km/Hr para tratar de sacarle 15 Km/Lt a mi camnionetita, me rebasó a madres un Tesla valiéndole güevos el mundo. Pinche mamón...\n",
            "I'm in the tesla store on my phone and a worker moved bc he thought I was taking a picture but I was just looking at this https://t.co/p7N0QEsUq1\n",
            "@Apple Please seriously consider a hostile takeover on @Tesla I think you and @elonmusk would be a perfect match. His vision and @Apple funds can make an ideal relationship\n",
            "Okay, now I'M having trouble breathing from laughing so hard.\n",
            "Oh my god - Bender is Dead?\n",
            "\n",
            "#Tesla #Futurama @LibsNoFun #benderquotes\n",
            "Been super slow around home so I relocated to wilmingtoncoast for work tonight. Charging up before starting work ⚡⚡⚡\n",
            "\n",
            "#supercharger #lovethisplaza #tesla #models #purpletesla… https://t.co/oSyC8GUa9x\n",
            "@MTrider16 @StarshipHopper Yup. I call him Space Stig because he always wants to go faster than me.\n",
            "@Hterefit Quizá @lopezobrador_ quiere fomentar subconscientemente el activismo ambientalista mediante el abandono del consumo de combustibles fósiles y la compra de automóviles eléctricos.\n",
            "\n",
            "O... quizá estoy tratando de justificar su idiocia. ¡Tesla me ilumine!.\n",
            "اليابان دولة مساحتها صغيرة سكانها 130 مليون نسمة، لا مجاعة ولا حروب ولا صراعات ولا نزاعات عرقية أو دينية، الفائض الياباني يفوق الأمريكي، اليابان لا تتوفر على بترول ولا على معادن ... اليابان تعتمد على الإنسان وذكائه.\n",
            "Cuál crisis? Muy buena campaña @arsinuhe pero muy mal auto es mejor @Tesla\n",
            "Daimler is beating Tesla to making semi-autonomous big rigs https://t.co/SDkJ3ESM7S\n",
            "@lorakolodny @Toyx3 @jcmlima @Tesla https://t.co/ksTmroblVQ\n",
            "@slye @Tesla @KelleyBlueBook Red is so sharp https://t.co/vN6ggTTHhf\n",
            "@josefajram @Tesla @sgutroj fuckkkkkk\n",
            "@rchwms @Tool @Tesla Squawking at the wrong tool\n",
            "I just saw my neighbor drying his freshly washed new @Tesla with a leaf blower. Creative, but I think that negates any energy savings from EV ownership. ⚡️\n",
            "Η Tesla ξαναρίχνει τις τιμές της στην Κίνα https://t.co/7X5tZWrQzT μέσω του χρήστη @Energos.gr\n",
            "@ForagerSteve I am confident VW will be an EV leader and run rings around Tesla in about 3 years time. Big uncertainty for me is capex and margins/RoA (too much completion). That said I am long all three Germans. Those P/Es and div yields don’t make sense longer term!\n",
            "Robô autônomo é atropelado e morto por carro sem motorista da Tesla https://t.co/sLR53IMiPm\n",
            "@nhparks @The_PlugSeeker @TilmanWinkler @markbspiegel @lumguts @Tesla @elonmusk @ecocars1 @She_sElectric @pluginadventure @106Euan @jtchivers @RenaultZoeClub @BethLilyRace @EVRevShow @steph_thornhill You'd be better if looking at Mazda if you need a manufacturer that's going nowhere fast\n",
            "@SteveBareman @Tesla Yes. A little more complicated for us city people with street parking.\n",
            "@ClarkDennisM @Tesla @VW @ElectrifyAm @PorscheNewsroom @AudiOfficial So they’re all entering the EV market with a more expensive charging option than @tesla did?\n",
            "CES 2019 | Carro da Tesla atropela robô em estacionamento do evento  https://t.co/vdhDJwf9Kx\n",
            "Albert Einstein, Nikola Tesla and Charles Steinmetz. Um Físico, um Gênio e um Matemático. https://t.co/oTGduBMn6F\n",
            "@cvpayne Innovation? What’s the innovation to be? Tesla? Electric cars are a century old. Netflix/entertainment? Not innovation. AI, virtual reality, nanobots? Maybe. Look for that small company that is out there, not any company on your list, Charles.\n",
            "@blindsniper1973 @mortchad We have a way to remove it that will be included in the instructions.  We just didn’t want to advertise it\n",
            "How to prevent super charger ICEing? #tech #transport #ev #Tesla #innovation https://t.co/9QAbe4AyE1\n",
            "Rent Tesla Model X in Europe  https://t.co/FfJxbfBK6W RT @LurentoHQ https://t.co/BIAkOpL4Tw\n",
            "@SteveBareman @Tesla Garage life is so good*\n",
            "@stevesi \"Competition\" is the one case that Tesla bears cite that is in fact very bullish.\n",
            "https://t.co/81zbYK5ccG #technology #cybersecurity #tesla #teslamotors #teslamodel3 #electriccar #electricvehicle #evs https://t.co/HDXT7UI35U\n",
            "I liked a @YouTube video https://t.co/ka594doku5 oops.. Testing TESLA's PERFORMANCE MODEL 3\n",
            "[ And he’ll need it. A little bit of Tesla’s free energy goes a long way. It won’t be long before his escape pod’s reserves are totally drained. ]\n",
            "\n",
            "Eaten? Uh, no, I haven’t..\n",
            "Interesting video comparing the 'fit and finish' of a Mercedes to a #Tesla.\n",
            "\n",
            "https://t.co/pFJfKGFdnh\n",
            "@Tesla ☝️@apkirch (I will not give up)\n",
            "@Tesla Someday over the 🌈 I will own one💕\n",
            "@Teslatunity #thehustle #dedication\n",
            "Audi is bringing its all-electric supercar to production to compete with new Tesla Roadster https://t.co/6xK8hFLylS https://t.co/6Opr4p9B5O\n",
            "Mi è piaciuto un video di @YouTube: https://t.co/eV3YjGyxvm oops.. Testing TESLA's PERFORMANCE MODEL 3\n",
            "https://t.co/rA5j2CQLwu Tesla free energy :-) https://t.co/rA5j2CQLwu\n",
            "@ex_Tesla Haha\n",
            "@EdJusticeJr @Hintzmann @Tesla Yep lets move back to horses to get us around\n",
            "@ElectrekCo @FredericLambert Keep the interior camera recording continuously. Tesla cars should communicate to HQ when a breakin is detected, ie a door is opened, and have other dashcam cameras in nearby parked. Tesla cars activate as well. Then perhaps one camera will catch the suspect(s).\n",
            "Zoshlings aren't my speciality, so I passed Roswell along to scientist Tamara Tesla for further examination. She is doubting their legitimacy.\n",
            "I liked a @YouTube video https://t.co/DC3N7pSTv7 Tesla Model 3 Review 1 Year Later\n",
            "@LikeTeslaKim Kim, just send them to reddit so they can stay up2date with all the issues Tesla clients are reporting. Tesla Service is the single weakest point of Tesla as company, it can kill the brand as we all love if they dont fix it. Yesterday!\n",
            "\n",
            "https://t.co/iCshDPFF1b\n",
            "@EdJusticeJr @Hintzmann @Tesla It does and its known so that's reason enough to move away from EVs? You do know there are still improvement being done to batteries and the entire EV in general so give them some time to get around that issue, just because they have issue now doesn't mean they always will\n",
            "@jimcramer Buy @Tesla\n",
            "@Alandbru @mayemusk @tesla_china @elonmusk @Tesla Nice photos, too bad they are all empty.\n",
            "@erik_tesla porra eu moro na zona sul, acha meio termo ai\n",
            "#NowPlaying - Tesla - The Way It Is - https://t.co/E3bHKw6VUZ - #ClassicRock\n",
            "How much gasoline tax do Tesla drivers pay?  I drive a hybrid and have reduced my fuel consumption by 40% for the past 5 years.  My guess is gas tax revenue has only one way to go... ⬇️ Looks like a new way to raise funds is needed.\n",
            "@Teslarati Clearly Ford is giving up to the evident reality as well. With both Rivian and Tesla preparing a pickup truck they didn't want to get behind in this tech revolution. Let's see what they come up with.\n",
            "Prescott Bush was instrumental in creating the CIA. Prescott was business manager for Tesla and present at the death of Tesla.\n",
            "The Nazi war criminals were placed into the CIA operations Rusty and Paperclip. Nazis were the Brains behind, mk ultra, Tavistock, Serco, and rockets.\n",
            "How’s Trumps grandfather the same person that worked on the supposed time machine after Tesla? 🤓\n",
            "\n",
            "@Kharel_Otis @Shilorine y’all check this out\n",
            "@tesla_truth @elonmusk If I could add one feature to our 3, this would be it...hands down. Way too many curbs hit in our S and 3. Really really really hope they figure out a way to make this happen without the low front camera.\n",
            "Chastened Elon Musk resists urge to gloat about Tesla profit https://t.co/V97KK9oaTd\n",
            "@teslaownersSV @elonmusk @TheEllenShow @Tesla @TeslaMotorsClub I have no idea. First it unlocked the door while I was driving on the freeway. Then the door keep remaining as opened, so not able to lock the car. Then act like this.....is it safe to drive?!\n",
            "Dear God, I’ve been seeing a lot of Tesla’s lately. Could this be a sign??\n",
            "It appears that @twitter is trying to compete with @Tesla but it's not a very impressive effort. https://t.co/lyba4HQ40u\n",
            "I would think so. The only reason I haven’t bought a Tesla is I fear they will go out of business and I’ll need repairs/maintenance\n",
            "@CassandraTSLAQ Agree 100% but it's not just a Tesla thing, isn't it. Maybe we'll get a whole set of new rules after Tesla's implosion. It's truly disturbing that these people are allowed to proclaim nonsense while refusing to talk about the real issues like the risk of running out of cash\n",
            "Tesla Is Cutting 7 Percent of Its Workforce To Reduce Model 3 Price https://t.co/Ax1F12dyyQ\n",
            "@Hugoreloaded I just wish they weren’t fucking sports cars. Just give me a Tesla family sedan or something simple and practical that is also fully electric.\n",
            "@natisho As both an Apple &amp; Tesla Bull, I get horribly conflicted when they poach staff from each other.\n",
            "@tesla_25 Educação, Ensino, Treinamento, Doutrinação ....\n",
            "JOBS IN UAE\n",
            "*****************\n",
            "Country Delivery Manager - Dubai and Jordan - Tesla - Dubai\n",
            "https://t.co/H9EbHZ514G \n",
            "*****************\n",
            "\n",
            "Must have and maintain a valid driver’s license and an acceptable and safe driving record. Part of your r ... \r ... https://t.co/CoxmH7FhbN\n",
            "Have a feeling the SEC is forcing Elon Musks hand with this latest announcement. $TSLA $TSLAQ #Tesla\n",
            "Thankfully my mom was safe from the Tesla layoffs. I would have been screwed if that happened.\n",
            "Además, las fábricas de Tesla son en su gran parte automatizadas, por lo que esos despidos pueden deberse a ingenieros que han programado esas máquinas, y que como la empresa no prevé una expansión actualmente, se les despide porque no se les requiere ahora mismo\n",
            "Ahhh, what a difference the Sun can make!  #Texas #Tesla #Solar https://t.co/SotagxHFSw\n",
            "Tesla’s Navigate on Autopilot was my CES road trip companion https://t.co/WSCf6sGn3h\n",
            "Tesla fired 7% of its workforce 🏦\n",
            "The new Toyota Supra wants smoke with Porsche 👀🔥\n",
            "View the Hottest car show in LA of 2018 🎬\n",
            "Read more.. https://t.co/fPqf645zsL https://t.co/4iGk4NhgSD\n",
            "now printing @Tesla plug holder 🔌 https://t.co/o7I1W4Zp0h https://t.co/Ze4LcuaIrE\n",
            "@teslainventory @Tesla @elonmusk Awd vs fwd what did you expect?\n",
            "@slcuervo Saúl, con todo el respeto pero a mi me parece muy feo estéticamente. No entiendo esa necesidad de hacer los VE de estética más bien poco agraciada, claro ejemplo el Sapo, perdón Leaf. Tan solo Tesla y alguno más se salvan. Pero bueno, si ofrecen autonomía...\n",
            "@forstall_ @awall_alex @MaireDowling @BrianPendleton @Tesla @elonmusk Perhaps you can ask and find out if they made the right choice for them. I wouldn’t because it’s too much of upfront cost and a long possible return on that kind of investment in my area.\n",
            "ajlind7 #tesla https://t.co/BuxuVMIh4H\n",
            "Grosse augmentation des prix de la recharge Tesla via SuperChargers ; qui se souvient de Musk qui présentait l'échange de batterie minute, en disant :\"maintenant, on pourra choisir entre la recharge rapide...ou gratuite\" loool\n",
            "The End of Tesla Cars https://t.co/rOEEehiBGX\n",
            "@PizzaMaskeTK Ich lach mich so schlapp wie er sich ein handschuhfach machen lässt. Den Tesla Typen nervt und im nächsten Atemzug sagt Hey da gab es doch eine rückrufaktion für die Lenkung lmao\n",
            "Tesla Layoffs Spur Market Blowback: Have Social Justice Warriors Started Day Trading? https://t.co/Yh3Xkcvy8N\n",
            "@MashiRafael Still waiting for Tesla... 🤣🤣🤣\n",
            "Me ha gustado un vídeo de @YouTube (https://t.co/nauXdrjKhQ - MYSTERY MAN FACE REVEAL (Mixing Minerals for Tesla &amp; Searching How To\n",
            "Will Tesla and Elon Musk Win in 2019? https://t.co/D83UslHNpO https://t.co/b6zfU2dYcF\n",
            "@megahanmama @Tesla https://t.co/Zxz0BauBlC\n",
            "Tesla Layoffs Spur Market Blowback: Have Social Justice Warriors Started Day Trading? https://t.co/Hc9yKSzFCT #ElonMusk #Tesla https://t.co/GFjUKnIZSN\n",
            "Tesla @marcoarment @atpfm @siracusa @caseyliss\n",
            "haha yeah I am a hit a tesla on the highway i’m so serious im just a lil xan made me the voices keep doing stupid shit this mother of I swear to you die all white wrist, white guy and your ass nigga of\n",
            "@mcjamez @tesla_truth Unless the blind fold is porous enough to see through, he could definitely get nailed for reckless endangerment\n",
            "#Tesla has $920 million in debt that's coming due — and it could wipe out a large chunk of its cash https://t.co/TDI4f7fBJ8 https://t.co/cJAp49EfAK\n",
            "@ElHombreInglese @Tesla -25F here in Toronto last night, my Mx drives just fine, and in fact breezes through the snow on the roads. Start up your car from your app and warm the car seats and even steering wheel before driving, can’t imagine buying anything else!\n",
            "¿Qué busca China en Tesla? https://t.co/7TUuwvJMgw\n",
            "❯❯ Vydali jsme nový článek na https://t.co/pWTfZ1LBJD. https://t.co/XNuwZwvJeM – Tesla vydala novou zprávu týkající se počtu nehod za čtvrté čtvrtletí https://t.co/arfPdd3TQE\n",
            "Dan luz verde a Tesla para que su Model 3 llegue a Europa - https://t.co/FvZitks3Ft https://t.co/jIAPsua4pa\n",
            "Cómo es la llave/tarjeta de un Tesla por dentro https://t.co/EJ6v6fLAaj https://t.co/lbII4KxlAI\n",
            "“ 'Thank you @elonmusk…’ I thought, picturing Musk’s cherry-red first run Tesla at the entrance to his compound on Mars”\n",
            "\n",
            "#FutureWar\n",
            "#AI\n",
            "#TheBridgeWrites\n",
            "\n",
            "https://t.co/SqUVfL999a\n",
            "@Tesla @Wisam_AlRawi 😍\n",
            "Take a picture in your Tesla with your AirPods in your ears in head to toe Givenchy flashing your Cartier pinky ring and your American Express black card @ShawnMendes\n",
            "#Tesla dives, but analysts stay bullish: Job cuts signal 'productivity gains' https://t.co/aTp6xwxKFv https://t.co/VLZWnycRId\n",
            "Got another ticket of 98 dollars so NOW MY DAD WANTS TO COME IN AND FINALLY DO MY SMOG CHECK like nigga where was you at day of i fixed the car dumb bitch wasting 400 bucks so im step behind to get my tesla....\n",
            "@elonmusk @thecla6771 Hello Elon, i wonder if Tesla came with new smart/intelligent systems to overcome the traffic issue. More like IoT and IoV technologies which enables cars and traffic lights to communicate, rather than the usual pre-timed traffic lights.\n",
            "@elonmusk @teslamodel3fan @Tesla Can you elaborate on this this feature?\n",
            "This is the reason why it will take a really long time to catch Tesla, if ever, by traditional, or how I like to call them, legacy car manufacturers.\n",
            "@dmbfanmd @elonmusk @Tesla You could buy long, clear, thick rubber strips on your doors without ruining the look too much? 🤔\n",
            "@teslamodel3fan @elonmusk @Tesla Good deal, thanks to you.\n",
            "teslamodel3fan Tesla Since it’s part of safety &amp; security, all cars with AP2+ hardware will get it\n",
            "@dmbfanmd @elonmusk @Tesla Wow, people have never been this upset with other automakers with the same issues.\n",
            "@blindgossipcom Elon Musk, Tesla\n",
            "@DianaDzhaketov Go as a Tesla\n",
            "@TeeeDaGee Omm been that! 2019 going straight for that Tesla\n",
            "First Electric Trucks In The US Not From Tesla https://t.co/lAs0XuChtz\n",
            "@Whiteboy7thst Tesla dropping. You gonna make another gaming athlete play and buy 200k when it's at 250 a share?\n",
            "Super-Scientist Tamara Tesla called to say the new star seems to be melting the snow on Mount Sillimanjaro.\n",
            "@Drix97 Vale 70K porque es la versión mas tocha, Tesla lo que hace es primero sacar las versiones tochas, obtener el rango de beneficio y después meter las versiones baratas, en europa sale sobre junio la versión de 35K, en España valdrá alrededor de 40K aproximadamente\n",
            "Message of a Rainbow で無限に泣いてる\n",
            "Overheard in @UNLVEngineering. @elonmusk @Tesla https://t.co/Je3sq1nDPg\n",
            "@titifenycia @theblovedwizard @Tesla Nissan. É o de entrada, não sei quanto está o zero km agora, lembro de ter pago 28k, pq minha esposa tem empresa... Mas bem bonzinho, e econômico\n",
            "J'aime une vidéo @YouTube : \"TIP41C Slayer Exciter Tesla Coil : Impressive Results @ Only 12V!!!\" à l'adresse\n",
            "@skygridai @Boeing @AuroraFlightSci That's the best a billion $ aerospace developer can build? Embarrassing. U can do better @Boeing @BoeingCEO \n",
            "Stats for range, speed, charge rate? What infrastructure will it use, @Tesla superchargers?\n",
            "The price for 2013 Tesla Model S is $36,995 now. Take a look: https://t.co/OnkZSBWSCo\n",
            "Mi gata se llama Tesla. Le digo:\n",
            "\n",
            "Tesla\n",
            "Tesla María\n",
            "Tesla Tatiana \n",
            "Gordis\n",
            "Princesa\n",
            "Enanita \n",
            "Tesli\n",
            "Quién es esa gatita tan hermosa\n",
            "Si me vas a seguir mordiendo, no juego más\n",
            "@AlterViggo @tesla_truth @markbspiegel Me too! https://t.co/4646crcMRO\n",
            "@UrLocalTankie @turnageb not to denigrate the point of this post b/c i absolutely agree but tesla also was anti-women's liberation/ a proponent of eugenics so maybe not the best illustration of the scientific nature of Not Being A Shitheel (aka being a socialist)\n",
            "The Tesla Model 3 is finally approved for European roads https://t.co/24vAY2tDxb https://t.co/BK4hrl3nxF\n",
            "Tesla Model 3 tops resale value ranking, report says https://t.co/y2H4XKNGe3 https://t.co/hRbQkvcX2w\n",
            "@tesla_truth @Model3Owners Mark Spiegel will probably see this 🤣🤣🤣 https://t.co/mX4YgL93TC\n",
            "Tesla gets clearance to begin Model 3 deliveries in Europe https://t.co/edahYTl8T8 https://t.co/E197HztjCL\n",
            "i dont drive no tesla i got too much clout\n",
            "#80sHairBands #NP: Tesla - The Way It Is LISTEN NOW https://t.co/lrvfDECyQG\n",
            "@JebKinnison @PhenomenalPoto Not sure I agree with premise that other car companies wouldn’t have made evs w/o tesla. W/o tesla offering ice manufacturers zev credits their incentive to make evs would have been more immediate and higher. We’ll never know, but like most received wisdom it’s way too pat.\n",
            "@chadhuber @ex_Tesla That's a Muskian rhetorical tactic. Reply to a question you don't want to answer w/ a question. You learned well from your master.\n",
            "\n",
            "BTW, my guess is &gt;50%, or &gt;20X top manufactures.\n",
            "@MikeFos88218598 @ex_Tesla @PJHORNAK @CadieThompson @matousekmark @S_Padival @SteveHamel16 Doxxed???!!!\n",
            "Probably True..... But with Degradation I want RANGE !!! And after I will decide to use it only a few times a year or more often. No @Daimler #Tesla and #Model3  way ahead\n",
            "@Tesla @elonmusk Cash burning mode?\n",
            "@TESLA_N_TRUMP @WhiteHouse @realDonaldTrump First, I'm not a Dem. Second, you are right, I'm never satisfied - I have high standards for our government leaders - and our country. You seem to believe in low taxes and small government, which begs the question why you would support government waste.\n",
            "@TeslaQBear1 @NuovaRealta @ex_Tesla @MikeFos88218598 @PJHORNAK @CadieThompson @matousekmark @S_Padival I'm way too tired I can't even read posts anymore! 🙃\n",
            "@Tesla @elonmusk What kind of romance are you after with 5 people?\n",
            "@BullMeechum3 @howiedubz @occulturalism @G1G1_G @jasonawright7 @speng_c @therealroseanne @Sambyhere @jrc74vg8 @mba382 @DilaraEsengil @OpenThePrimary @bchapman151 @OneVoiceUS @amyfaistlynch @GrannyPi @Shawty4Short @Gruvedawg @Delaluz_321 @ElisaYoder @4AllFreeSpeech @diamondgirl2222 @FedupWithSwamp @Mr_Assange @BrutalVeracity @vestonash @EveTweets @EmporioRaoul @realDonaldTrump @hollylandes @stickyhammer @Hollyberry1964 @PaulyDeathwish @SL_OKC @rosarelli @kc3scuba @LeeLighthorse @__valv @JohnJay18034096 @ThePromiseMAGA @OnWithLogic @ObamaTruth1 @stmhazel @LizCrokin @captainrln There's pretty solid circumstantial evidence that supports the idea that Tesla didn't have an accountant. If he did, he had like, the worst one ever.\n",
            "Navigate on Autopilot is connected to your Wipers...brilliant #Tesla  https://t.co/KRHaKkyLQK https://t.co/2oYStSqOic\n",
            "Hey @Model3Owners if you are having issues with break ins definitely buy the drop lock by @tesla_raj. Members get a discount with siliconvalleyowners https://t.co/Ky3p3W8zB6\n",
            "@Tesla @elonmusk Can you guys please send me one?\n",
            "@SpaceX @solarcity @Tesla @TheBoringComp PLEASE MAKE IT TO THE BOSS!!! WE HERE IN BRAZIL BEG YOU, THE RESCUING WORK JUST STOPPED NOW. OVER 200 PEOPLE STILL OUT THERE, UNDER THE MUD POSSIBLY SOME ALIVE\n",
            "Sviđa mi se videozapis https://t.co/XHcpf0mmB6 SURPRISING MY BEST FRIEND WITH A NEW TESLA!! s usluge @YouTube\n",
            "@elonmusk May I have a Tesla for my birthday. That'd be so cool 😂\n",
            "@jeffwilcox You can check the state of the vehicle with the API and decide to wake it up or not. I'm not sure yet if simply checking the state impacts the battery or if it's just a status server-side at Tesla. I don't do a wake up call.\n",
            "I have just finished crunching the numbers and here is the latest #Solar Production report.  #Charts #Tesla (https://t.co/CnUWWTHVo9) #IOT #SmartHome https://t.co/jESRLLW3sa\n",
            "@InsideEVs @elonmusk @Tesla .\n",
            "@nicoleexdurann I think I drive a Tesla now\n",
            "@BoredElonMusk As cars are made more and more quiet, sound sensors to detect emergency vehicle siren and advice driver to give way safely should be a good addition to Tesla cars.\n",
            "@Cola_tesla Зажали гады соус! 😠\n",
            "@elonmusk I have an idea for a video game. It's an alternate universe game based on Nicola Tesla's technology.\n",
            "Reply to this tweet if interested.\n",
            "@MrBeastYT @elonmusk Eww a tesla\n",
            "@StephenKing @elonmusk Any chance of getting exclusive book readings and music channel on our Tesla’s? I tried to get Python Channel as well, but alas, @EricIdle was not interested in showing us the Bright Side of Life! So time to go dark and stormy!\n",
            "I have just finished crunching the numbers and here is the latest #Solar Production report.  #Charts #Tesla (https://t.co/CnUWWTHVo9) #IOT #SmartHome https://t.co/TDcCj9hCLn\n",
            "@MrBeastYT @elonmusk Unfortunately some of us bad boys can’t afford Tesla’s 😤😓\n",
            "@elonmusk @MrBeastYT Buy me a Tesla and I'll buy your merch\n",
            "@mattsalleemusic take a pic with ur tesla or it didn’t happen\n",
            "@elonmusk How was it Mr Musk that u decided to use Tesla's NAME. HE IS SOMEONE DEAR TO ME.  SO ARE YOU CLOSE TO THE FAMILY?  SPEAKING TRUTH\n",
            "@MKBHD If someone already has a Tesla can they still use the referral?\n",
            "@onebigchaz @Timcast Not if. When. The only if is whether it’s this decade or next decade. It’s not just Tesla working on this. All the major car/truck manufacturers are working on autonomous vehicles. They want to either have 1 driver leading multiple trucks or no drivers at all.\n",
            "so funny   \n",
            "Saudi Arabia slashes exposure to Tesla via hedging deal https://t.co/ghcieHpaO1 via @financialtimes\n",
            "@Trumpery45 @BarkMSmeagol Your assertion is that only Tesla can do body work? Wow.. who knew. I can get all the work done I need in Lithuania without a single service centre in the country. They must be secretly sending LT Teslas to Germany and skipping the queues to get quick repairs on the cheap.\n",
            "Tesla ordua: 85 irratsaioa https://t.co/gT8Zi2YYMp https://t.co/zzbE7fTthj\n",
            "@TeslaNY @evannex_com @elonmusk @Tesla great\n",
            "【囲碁AIお役立ち情報】研究会ではたまにベンチマークなどもやっています。普段使いのAWS p3=Tesla v100 ではスレッド数6~8が探索が速いようです。ちなみに、最近スレッド数によっても候補手が変わることがあると知りました。これにはビックリ。\n",
            "Will Tesla Report A Q1 Loss? : https://t.co/vXSkql5o3C #EVs #electriccars\n",
            "Made a call to Tesla, and found out my old managers were fired, just a few weeks after I left. I should be surprised but sadly I'm not. Still love the company's goals and visions, but they need to work on their internal issues now if they want to succeed\n",
            "@tesla @teslasupport @elonmusk this may seem petty, but since 48.12 update to my 3, when streaming music from my phone, album art displayed on screen no longer matches album art on my phone. Instead art is pulled from online,  often resulting in no art or the wrong art. Thanks.\n",
            "@Model3Owners What's your guess for Montreal delivery at this point? Ordered 2.5 months ago. LR AWD Red/White... @Tesla where is my car?\n",
            "#evs #electricvehicles #electricvehicles #fintech #apple #tesla #elon #musk #inc https://t.co/qlbCEyrFBF\n",
            "@ShortingIsFun Am all in to cut costs. But shouldn’t come at the cost of existing customer commitments. I just feel sad as am a huge believer in Tesla\n",
            "TESLA EARNINGS are tomorrow. Curious who will be on the call in terms of executives.\n",
            "@BackAftaThis Need more Tesla and Cadillac talk\n",
            "@Tesla Not pictured: My son's sweaty legs leaving marks on my black seats after basketball practice.  😟They wipe right off though.  😁\n",
            "@rocketL49 @elonmusk @Tesla Cashtags look like this $tsla not like this #tsla\n",
            "@elonmusk @MrBeastYT Use code mark2702 to help US get a free Tesla roadster\n",
            "@Tesla_Bear I've shared the method with @TeslaCharts he can vouch for confidence level without revealing the source. I'd rather like to know how it trends in Feb so can't say more.\n",
            "An Editorial from earlier today:  \n",
            "Musk’s folly: Working employees to the bone could ruin Tesla \n",
            "https://t.co/zds567T5OV via @PittsburghPG\n",
            "\n",
            "$TSLA\n",
            "CEOs de la Industria Automotriz se preparan para etapa de cambio: @KPMG\n",
            "@KPMGMEXICO @VictorKPMG @ToyotaMex @BMWMex @Tesla \n",
            "https://t.co/FAcx3jBDT8 https://t.co/f2HL6IrF2y\n",
            "@celldweller @Tesla @elonmusk You're a cool dad, man.\n",
            "\"Tesla’s Model Y is coming in 2020\" https://t.co/yG19qrUNeO\n",
            "JUST IN: Tesla's CFO Deepak Ahuja is leaving the company https://t.co/dNF1flokJU\n",
            "So lief das Weihnachtsquartal bei #Tesla, #Facebook, #Microsoft und #Paypal https://t.co/SOwqEPo9VI via @SPIEGELONLINE\n",
            "Oh no, I've spent so much time hating on Elon Musk that my phone's decided that Tesla is one of my main interests in the news\n",
            "Tesla CFO to retire from company; shares -3.9% https://t.co/Z9raCb8dPN $TSLA\n",
            "Tesla Pickup Truck: Elon Musk Teases Possible Reveal Date in Earnings Call: https://t.co/tPBxkbzBr1\n",
            "Tesla CFO to retire from company; shares -3.9% $TSLA https://t.co/JJv7F7YQcB\n",
            "Elon says Tesla might unveil its pickup truck “this summer” https://t.co/xaFSXyLw7R https://t.co/sT3iuOsVxU\n",
            "Tesla’s Model Y is coming in 2020 https://t.co/1Hn2LQVVUb by @kirstenkorosec https://t.co/fwv6eCHPPr\n",
            "@AlterViggo @Tesla Cc: @EVNewsDaily your answer to the question of the week 👆\n",
            "Pink dildo Karma car  \"Tesla\"  #Smule: https://t.co/BGm3wLO6NN\n",
            "Tesla is betting big on China, and here's what Elon Musk had to say about it https://t.co/H6WxEJ32nJ\n",
            "@BubblesChita @affenkaefig @BillRMcDermott Persönliche Kommunikation kann effektiver sein! @elonmusk Elon Musk, CEO von Tesla, hat über 24 Millionen Follower. Tesla selbst hat gerade mal 6 Mio.\n",
            "Musk rend publics les brevets de Tesla pour aider à sauver la Terre https://t.co/eyDIeeMslt\n",
            "@elonmusknt @28delayslater @ValueAnalyst1 Everyone knows Tesla will go bankrupt in March so it doesn’t matter if there’s competition.\n",
            "Si se educas a un hombre, simplemente se educa a un individuo, pero si se educa a una mujer se estará educando a una familia“. NIKOLA TESLA\n",
            "@McHoffa @teslabros @TriTexan @Tesla Holy crap I need this steering wheel. How/where!?\n",
            "If you’re on the hunt for a new car and don’t test a model 3, you’re doing yourself a disservice. I’ll never go back. Best car ever. @tesla #model3 #american\n",
            "\n",
            "The Tesla Model 3 Killed the Rest of American Luxury https://t.co/NNRCpjtnF6 via @jalopnik\n",
            "Do ppl rent Tesla’s with no tint to flex? Lmaooo waste\n"
          ]
        }
      ]
    },
    {
      "cell_type": "code",
      "source": [
        "final = []\n",
        "for day in range(num_days):\n",
        "  start_date = start_date + timedelta(days = 1)\n",
        "  end_date = start_date + timedelta(days=1)\n",
        "  tweets=[]\n",
        "  for i,tweet in enumerate(snt.TwitterSearchScraper(query + ' since:' + start_date.strftime('%Y-%m-%d') + ' until:' + end_date.strftime('%Y-%m-%d')).get_items()):\n",
        "    tweets.append(tweet.rawContent)\n",
        "    dates.append(tweet.date)\n",
        "    if i+1 == num_tweets:\n",
        "      break\n",
        "\n",
        "\n",
        "  print(start_date,end_date)\n",
        "\n",
        "  if start_date == stop_date:\n",
        "    break\n"
      ],
      "metadata": {
        "colab": {
          "base_uri": "https://localhost:8080/",
          "height": 480
        },
        "id": "KXSW5vAANo9n",
        "outputId": "b34d8247-87eb-4984-d532-812d95baf78a"
      },
      "execution_count": null,
      "outputs": [
        {
          "output_type": "stream",
          "name": "stderr",
          "text": [
            "ERROR:snscrape.base:Error retrieving https://twitter.com/i/api/graphql/7jT5GT59P8IFjgxwqnEdQw/SearchTimeline?variables=%7B%22rawQuery%22%3A%22Tesla%20since%3A2019-01-03%20until%3A2019-01-04%22%2C%22count%22%3A20%2C%22product%22%3A%22Latest%22%2C%22withDownvotePerspective%22%3Afalse%2C%22withReactionsMetadata%22%3Afalse%2C%22withReactionsPerspective%22%3Afalse%7D&features=%7B%22rweb_lists_timeline_redesign_enabled%22%3Afalse%2C%22blue_business_profile_image_shape_enabled%22%3Afalse%2C%22responsive_web_graphql_exclude_directive_enabled%22%3Atrue%2C%22verified_phone_label_enabled%22%3Afalse%2C%22creator_subscriptions_tweet_preview_api_enabled%22%3Afalse%2C%22responsive_web_graphql_timeline_navigation_enabled%22%3Atrue%2C%22responsive_web_graphql_skip_user_profile_image_extensions_enabled%22%3Afalse%2C%22tweetypie_unmention_optimization_enabled%22%3Atrue%2C%22vibe_api_enabled%22%3Atrue%2C%22responsive_web_edit_tweet_api_enabled%22%3Atrue%2C%22graphql_is_translatable_rweb_tweet_is_translatable_enabled%22%3Atrue%2C%22view_counts_everywhere_api_enabled%22%3Atrue%2C%22longform_notetweets_consumption_enabled%22%3Atrue%2C%22tweet_awards_web_tipping_enabled%22%3Afalse%2C%22freedom_of_speech_not_reach_fetch_enabled%22%3Afalse%2C%22standardized_nudges_misinfo%22%3Atrue%2C%22tweet_with_visibility_results_prefer_gql_limited_actions_policy_enabled%22%3Afalse%2C%22interactive_text_enabled%22%3Atrue%2C%22responsive_web_text_conversations_enabled%22%3Afalse%2C%22longform_notetweets_rich_text_read_enabled%22%3Afalse%2C%22longform_notetweets_inline_media_enabled%22%3Afalse%2C%22responsive_web_enhance_cards_enabled%22%3Afalse%2C%22responsive_web_twitter_blue_verified_badge_is_enabled%22%3Atrue%7D: blocked (404)\n",
            "CRITICAL:snscrape.base:4 requests to https://twitter.com/i/api/graphql/7jT5GT59P8IFjgxwqnEdQw/SearchTimeline?variables=%7B%22rawQuery%22%3A%22Tesla%20since%3A2019-01-03%20until%3A2019-01-04%22%2C%22count%22%3A20%2C%22product%22%3A%22Latest%22%2C%22withDownvotePerspective%22%3Afalse%2C%22withReactionsMetadata%22%3Afalse%2C%22withReactionsPerspective%22%3Afalse%7D&features=%7B%22rweb_lists_timeline_redesign_enabled%22%3Afalse%2C%22blue_business_profile_image_shape_enabled%22%3Afalse%2C%22responsive_web_graphql_exclude_directive_enabled%22%3Atrue%2C%22verified_phone_label_enabled%22%3Afalse%2C%22creator_subscriptions_tweet_preview_api_enabled%22%3Afalse%2C%22responsive_web_graphql_timeline_navigation_enabled%22%3Atrue%2C%22responsive_web_graphql_skip_user_profile_image_extensions_enabled%22%3Afalse%2C%22tweetypie_unmention_optimization_enabled%22%3Atrue%2C%22vibe_api_enabled%22%3Atrue%2C%22responsive_web_edit_tweet_api_enabled%22%3Atrue%2C%22graphql_is_translatable_rweb_tweet_is_translatable_enabled%22%3Atrue%2C%22view_counts_everywhere_api_enabled%22%3Atrue%2C%22longform_notetweets_consumption_enabled%22%3Atrue%2C%22tweet_awards_web_tipping_enabled%22%3Afalse%2C%22freedom_of_speech_not_reach_fetch_enabled%22%3Afalse%2C%22standardized_nudges_misinfo%22%3Atrue%2C%22tweet_with_visibility_results_prefer_gql_limited_actions_policy_enabled%22%3Afalse%2C%22interactive_text_enabled%22%3Atrue%2C%22responsive_web_text_conversations_enabled%22%3Afalse%2C%22longform_notetweets_rich_text_read_enabled%22%3Afalse%2C%22longform_notetweets_inline_media_enabled%22%3Afalse%2C%22responsive_web_enhance_cards_enabled%22%3Afalse%2C%22responsive_web_twitter_blue_verified_badge_is_enabled%22%3Atrue%7D failed, giving up.\n",
            "CRITICAL:snscrape.base:Errors: blocked (404), blocked (404), blocked (404), blocked (404)\n"
          ]
        },
        {
          "output_type": "error",
          "ename": "ScraperException",
          "evalue": "ignored",
          "traceback": [
            "\u001b[0;31m---------------------------------------------------------------------------\u001b[0m",
            "\u001b[0;31mScraperException\u001b[0m                          Traceback (most recent call last)",
            "\u001b[0;32m<ipython-input-8-53cb60bc6076>\u001b[0m in \u001b[0;36m<cell line: 2>\u001b[0;34m()\u001b[0m\n\u001b[1;32m      4\u001b[0m   \u001b[0mend_date\u001b[0m \u001b[0;34m=\u001b[0m \u001b[0mstart_date\u001b[0m \u001b[0;34m+\u001b[0m \u001b[0mtimedelta\u001b[0m\u001b[0;34m(\u001b[0m\u001b[0mdays\u001b[0m\u001b[0;34m=\u001b[0m\u001b[0;36m1\u001b[0m\u001b[0;34m)\u001b[0m\u001b[0;34m\u001b[0m\u001b[0;34m\u001b[0m\u001b[0m\n\u001b[1;32m      5\u001b[0m   \u001b[0mtweets\u001b[0m\u001b[0;34m=\u001b[0m\u001b[0;34m[\u001b[0m\u001b[0;34m]\u001b[0m\u001b[0;34m\u001b[0m\u001b[0;34m\u001b[0m\u001b[0m\n\u001b[0;32m----> 6\u001b[0;31m   \u001b[0;32mfor\u001b[0m \u001b[0mi\u001b[0m\u001b[0;34m,\u001b[0m\u001b[0mtweet\u001b[0m \u001b[0;32min\u001b[0m \u001b[0menumerate\u001b[0m\u001b[0;34m(\u001b[0m\u001b[0msnt\u001b[0m\u001b[0;34m.\u001b[0m\u001b[0mTwitterSearchScraper\u001b[0m\u001b[0;34m(\u001b[0m\u001b[0mquery\u001b[0m \u001b[0;34m+\u001b[0m \u001b[0;34m' since:'\u001b[0m \u001b[0;34m+\u001b[0m \u001b[0mstart_date\u001b[0m\u001b[0;34m.\u001b[0m\u001b[0mstrftime\u001b[0m\u001b[0;34m(\u001b[0m\u001b[0;34m'%Y-%m-%d'\u001b[0m\u001b[0;34m)\u001b[0m \u001b[0;34m+\u001b[0m \u001b[0;34m' until:'\u001b[0m \u001b[0;34m+\u001b[0m \u001b[0mend_date\u001b[0m\u001b[0;34m.\u001b[0m\u001b[0mstrftime\u001b[0m\u001b[0;34m(\u001b[0m\u001b[0;34m'%Y-%m-%d'\u001b[0m\u001b[0;34m)\u001b[0m\u001b[0;34m)\u001b[0m\u001b[0;34m.\u001b[0m\u001b[0mget_items\u001b[0m\u001b[0;34m(\u001b[0m\u001b[0;34m)\u001b[0m\u001b[0;34m)\u001b[0m\u001b[0;34m:\u001b[0m\u001b[0;34m\u001b[0m\u001b[0;34m\u001b[0m\u001b[0m\n\u001b[0m\u001b[1;32m      7\u001b[0m     \u001b[0mtweets\u001b[0m\u001b[0;34m.\u001b[0m\u001b[0mappend\u001b[0m\u001b[0;34m(\u001b[0m\u001b[0mtweet\u001b[0m\u001b[0;34m.\u001b[0m\u001b[0mrawContent\u001b[0m\u001b[0;34m)\u001b[0m\u001b[0;34m\u001b[0m\u001b[0;34m\u001b[0m\u001b[0m\n\u001b[1;32m      8\u001b[0m     \u001b[0mdates\u001b[0m\u001b[0;34m.\u001b[0m\u001b[0mappend\u001b[0m\u001b[0;34m(\u001b[0m\u001b[0mtweet\u001b[0m\u001b[0;34m.\u001b[0m\u001b[0mdate\u001b[0m\u001b[0;34m)\u001b[0m\u001b[0;34m\u001b[0m\u001b[0;34m\u001b[0m\u001b[0m\n",
            "\u001b[0;32m/usr/local/lib/python3.10/dist-packages/snscrape/modules/twitter.py\u001b[0m in \u001b[0;36mget_items\u001b[0;34m(self)\u001b[0m\n\u001b[1;32m   1761\u001b[0m                 \u001b[0mpaginationParams\u001b[0m \u001b[0;34m=\u001b[0m \u001b[0;34m{\u001b[0m\u001b[0;34m'variables'\u001b[0m\u001b[0;34m:\u001b[0m \u001b[0mpaginationVariables\u001b[0m\u001b[0;34m,\u001b[0m \u001b[0;34m'features'\u001b[0m\u001b[0;34m:\u001b[0m \u001b[0mfeatures\u001b[0m\u001b[0;34m}\u001b[0m\u001b[0;34m\u001b[0m\u001b[0;34m\u001b[0m\u001b[0m\n\u001b[1;32m   1762\u001b[0m \u001b[0;34m\u001b[0m\u001b[0m\n\u001b[0;32m-> 1763\u001b[0;31m                 \u001b[0;32mfor\u001b[0m \u001b[0mobj\u001b[0m \u001b[0;32min\u001b[0m \u001b[0mself\u001b[0m\u001b[0;34m.\u001b[0m\u001b[0m_iter_api_data\u001b[0m\u001b[0;34m(\u001b[0m\u001b[0;34m'https://twitter.com/i/api/graphql/7jT5GT59P8IFjgxwqnEdQw/SearchTimeline'\u001b[0m\u001b[0;34m,\u001b[0m \u001b[0m_TwitterAPIType\u001b[0m\u001b[0;34m.\u001b[0m\u001b[0mGRAPHQL\u001b[0m\u001b[0;34m,\u001b[0m \u001b[0mparams\u001b[0m\u001b[0;34m,\u001b[0m \u001b[0mpaginationParams\u001b[0m\u001b[0;34m,\u001b[0m \u001b[0mcursor\u001b[0m \u001b[0;34m=\u001b[0m \u001b[0mself\u001b[0m\u001b[0;34m.\u001b[0m\u001b[0m_cursor\u001b[0m\u001b[0;34m,\u001b[0m \u001b[0minstructionsPath\u001b[0m \u001b[0;34m=\u001b[0m \u001b[0;34m[\u001b[0m\u001b[0;34m'data'\u001b[0m\u001b[0;34m,\u001b[0m \u001b[0;34m'search_by_raw_query'\u001b[0m\u001b[0;34m,\u001b[0m \u001b[0;34m'search_timeline'\u001b[0m\u001b[0;34m,\u001b[0m \u001b[0;34m'timeline'\u001b[0m\u001b[0;34m,\u001b[0m \u001b[0;34m'instructions'\u001b[0m\u001b[0;34m]\u001b[0m\u001b[0;34m)\u001b[0m\u001b[0;34m:\u001b[0m\u001b[0;34m\u001b[0m\u001b[0;34m\u001b[0m\u001b[0m\n\u001b[0m\u001b[1;32m   1764\u001b[0m                         \u001b[0;32myield\u001b[0m \u001b[0;32mfrom\u001b[0m \u001b[0mself\u001b[0m\u001b[0;34m.\u001b[0m\u001b[0m_graphql_timeline_instructions_to_tweets\u001b[0m\u001b[0;34m(\u001b[0m\u001b[0mobj\u001b[0m\u001b[0;34m[\u001b[0m\u001b[0;34m'data'\u001b[0m\u001b[0;34m]\u001b[0m\u001b[0;34m[\u001b[0m\u001b[0;34m'search_by_raw_query'\u001b[0m\u001b[0;34m]\u001b[0m\u001b[0;34m[\u001b[0m\u001b[0;34m'search_timeline'\u001b[0m\u001b[0;34m]\u001b[0m\u001b[0;34m[\u001b[0m\u001b[0;34m'timeline'\u001b[0m\u001b[0;34m]\u001b[0m\u001b[0;34m[\u001b[0m\u001b[0;34m'instructions'\u001b[0m\u001b[0;34m]\u001b[0m\u001b[0;34m)\u001b[0m\u001b[0;34m\u001b[0m\u001b[0;34m\u001b[0m\u001b[0m\n\u001b[1;32m   1765\u001b[0m \u001b[0;34m\u001b[0m\u001b[0m\n",
            "\u001b[0;32m/usr/local/lib/python3.10/dist-packages/snscrape/modules/twitter.py\u001b[0m in \u001b[0;36m_iter_api_data\u001b[0;34m(self, endpoint, apiType, params, paginationParams, cursor, direction, instructionsPath)\u001b[0m\n\u001b[1;32m    913\u001b[0m                 \u001b[0;32mwhile\u001b[0m \u001b[0;32mTrue\u001b[0m\u001b[0;34m:\u001b[0m\u001b[0;34m\u001b[0m\u001b[0;34m\u001b[0m\u001b[0m\n\u001b[1;32m    914\u001b[0m                         \u001b[0m_logger\u001b[0m\u001b[0;34m.\u001b[0m\u001b[0minfo\u001b[0m\u001b[0;34m(\u001b[0m\u001b[0;34mf'Retrieving scroll page {cursor}'\u001b[0m\u001b[0;34m)\u001b[0m\u001b[0;34m\u001b[0m\u001b[0;34m\u001b[0m\u001b[0m\n\u001b[0;32m--> 915\u001b[0;31m                         \u001b[0mobj\u001b[0m \u001b[0;34m=\u001b[0m \u001b[0mself\u001b[0m\u001b[0;34m.\u001b[0m\u001b[0m_get_api_data\u001b[0m\u001b[0;34m(\u001b[0m\u001b[0mendpoint\u001b[0m\u001b[0;34m,\u001b[0m \u001b[0mapiType\u001b[0m\u001b[0;34m,\u001b[0m \u001b[0mreqParams\u001b[0m\u001b[0;34m,\u001b[0m \u001b[0minstructionsPath\u001b[0m \u001b[0;34m=\u001b[0m \u001b[0minstructionsPath\u001b[0m\u001b[0;34m)\u001b[0m\u001b[0;34m\u001b[0m\u001b[0;34m\u001b[0m\u001b[0m\n\u001b[0m\u001b[1;32m    916\u001b[0m                         \u001b[0;32myield\u001b[0m \u001b[0mobj\u001b[0m\u001b[0;34m\u001b[0m\u001b[0;34m\u001b[0m\u001b[0m\n\u001b[1;32m    917\u001b[0m \u001b[0;34m\u001b[0m\u001b[0m\n",
            "\u001b[0;32m/usr/local/lib/python3.10/dist-packages/snscrape/modules/twitter.py\u001b[0m in \u001b[0;36m_get_api_data\u001b[0;34m(self, endpoint, apiType, params, instructionsPath)\u001b[0m\n\u001b[1;32m    884\u001b[0m                 \u001b[0;32mif\u001b[0m \u001b[0mapiType\u001b[0m \u001b[0;32mis\u001b[0m \u001b[0m_TwitterAPIType\u001b[0m\u001b[0;34m.\u001b[0m\u001b[0mGRAPHQL\u001b[0m\u001b[0;34m:\u001b[0m\u001b[0;34m\u001b[0m\u001b[0;34m\u001b[0m\u001b[0m\n\u001b[1;32m    885\u001b[0m                         \u001b[0mparams\u001b[0m \u001b[0;34m=\u001b[0m \u001b[0murllib\u001b[0m\u001b[0;34m.\u001b[0m\u001b[0mparse\u001b[0m\u001b[0;34m.\u001b[0m\u001b[0murlencode\u001b[0m\u001b[0;34m(\u001b[0m\u001b[0;34m{\u001b[0m\u001b[0mk\u001b[0m\u001b[0;34m:\u001b[0m \u001b[0mjson\u001b[0m\u001b[0;34m.\u001b[0m\u001b[0mdumps\u001b[0m\u001b[0;34m(\u001b[0m\u001b[0mv\u001b[0m\u001b[0;34m,\u001b[0m \u001b[0mseparators\u001b[0m \u001b[0;34m=\u001b[0m \u001b[0;34m(\u001b[0m\u001b[0;34m','\u001b[0m\u001b[0;34m,\u001b[0m \u001b[0;34m':'\u001b[0m\u001b[0;34m)\u001b[0m\u001b[0;34m)\u001b[0m \u001b[0;32mfor\u001b[0m \u001b[0mk\u001b[0m\u001b[0;34m,\u001b[0m \u001b[0mv\u001b[0m \u001b[0;32min\u001b[0m \u001b[0mparams\u001b[0m\u001b[0;34m.\u001b[0m\u001b[0mitems\u001b[0m\u001b[0;34m(\u001b[0m\u001b[0;34m)\u001b[0m\u001b[0;34m}\u001b[0m\u001b[0;34m,\u001b[0m \u001b[0mquote_via\u001b[0m \u001b[0;34m=\u001b[0m \u001b[0murllib\u001b[0m\u001b[0;34m.\u001b[0m\u001b[0mparse\u001b[0m\u001b[0;34m.\u001b[0m\u001b[0mquote\u001b[0m\u001b[0;34m)\u001b[0m\u001b[0;34m\u001b[0m\u001b[0;34m\u001b[0m\u001b[0m\n\u001b[0;32m--> 886\u001b[0;31m                 \u001b[0mr\u001b[0m \u001b[0;34m=\u001b[0m \u001b[0mself\u001b[0m\u001b[0;34m.\u001b[0m\u001b[0m_get\u001b[0m\u001b[0;34m(\u001b[0m\u001b[0mendpoint\u001b[0m\u001b[0;34m,\u001b[0m \u001b[0mparams\u001b[0m \u001b[0;34m=\u001b[0m \u001b[0mparams\u001b[0m\u001b[0;34m,\u001b[0m \u001b[0mheaders\u001b[0m \u001b[0;34m=\u001b[0m \u001b[0mself\u001b[0m\u001b[0;34m.\u001b[0m\u001b[0m_apiHeaders\u001b[0m\u001b[0;34m,\u001b[0m \u001b[0mresponseOkCallback\u001b[0m \u001b[0;34m=\u001b[0m \u001b[0mfunctools\u001b[0m\u001b[0;34m.\u001b[0m\u001b[0mpartial\u001b[0m\u001b[0;34m(\u001b[0m\u001b[0mself\u001b[0m\u001b[0;34m.\u001b[0m\u001b[0m_check_api_response\u001b[0m\u001b[0;34m,\u001b[0m \u001b[0mapiType\u001b[0m \u001b[0;34m=\u001b[0m \u001b[0mapiType\u001b[0m\u001b[0;34m,\u001b[0m \u001b[0minstructionsPath\u001b[0m \u001b[0;34m=\u001b[0m \u001b[0minstructionsPath\u001b[0m\u001b[0;34m)\u001b[0m\u001b[0;34m)\u001b[0m\u001b[0;34m\u001b[0m\u001b[0;34m\u001b[0m\u001b[0m\n\u001b[0m\u001b[1;32m    887\u001b[0m                 \u001b[0;32mreturn\u001b[0m \u001b[0mr\u001b[0m\u001b[0;34m.\u001b[0m\u001b[0m_snscrapeObj\u001b[0m\u001b[0;34m\u001b[0m\u001b[0;34m\u001b[0m\u001b[0m\n\u001b[1;32m    888\u001b[0m \u001b[0;34m\u001b[0m\u001b[0m\n",
            "\u001b[0;32m/usr/local/lib/python3.10/dist-packages/snscrape/base.py\u001b[0m in \u001b[0;36m_get\u001b[0;34m(self, *args, **kwargs)\u001b[0m\n\u001b[1;32m    273\u001b[0m \u001b[0;34m\u001b[0m\u001b[0m\n\u001b[1;32m    274\u001b[0m         \u001b[0;32mdef\u001b[0m \u001b[0m_get\u001b[0m\u001b[0;34m(\u001b[0m\u001b[0mself\u001b[0m\u001b[0;34m,\u001b[0m \u001b[0;34m*\u001b[0m\u001b[0margs\u001b[0m\u001b[0;34m,\u001b[0m \u001b[0;34m**\u001b[0m\u001b[0mkwargs\u001b[0m\u001b[0;34m)\u001b[0m\u001b[0;34m:\u001b[0m\u001b[0;34m\u001b[0m\u001b[0;34m\u001b[0m\u001b[0m\n\u001b[0;32m--> 275\u001b[0;31m                 \u001b[0;32mreturn\u001b[0m \u001b[0mself\u001b[0m\u001b[0;34m.\u001b[0m\u001b[0m_request\u001b[0m\u001b[0;34m(\u001b[0m\u001b[0;34m'GET'\u001b[0m\u001b[0;34m,\u001b[0m \u001b[0;34m*\u001b[0m\u001b[0margs\u001b[0m\u001b[0;34m,\u001b[0m \u001b[0;34m**\u001b[0m\u001b[0mkwargs\u001b[0m\u001b[0;34m)\u001b[0m\u001b[0;34m\u001b[0m\u001b[0;34m\u001b[0m\u001b[0m\n\u001b[0m\u001b[1;32m    276\u001b[0m \u001b[0;34m\u001b[0m\u001b[0m\n\u001b[1;32m    277\u001b[0m         \u001b[0;32mdef\u001b[0m \u001b[0m_post\u001b[0m\u001b[0;34m(\u001b[0m\u001b[0mself\u001b[0m\u001b[0;34m,\u001b[0m \u001b[0;34m*\u001b[0m\u001b[0margs\u001b[0m\u001b[0;34m,\u001b[0m \u001b[0;34m**\u001b[0m\u001b[0mkwargs\u001b[0m\u001b[0;34m)\u001b[0m\u001b[0;34m:\u001b[0m\u001b[0;34m\u001b[0m\u001b[0;34m\u001b[0m\u001b[0m\n",
            "\u001b[0;32m/usr/local/lib/python3.10/dist-packages/snscrape/base.py\u001b[0m in \u001b[0;36m_request\u001b[0;34m(self, method, url, params, data, headers, timeout, responseOkCallback, allowRedirects, proxies)\u001b[0m\n\u001b[1;32m    269\u001b[0m                         \u001b[0m_logger\u001b[0m\u001b[0;34m.\u001b[0m\u001b[0mfatal\u001b[0m\u001b[0;34m(\u001b[0m\u001b[0mmsg\u001b[0m\u001b[0;34m)\u001b[0m\u001b[0;34m\u001b[0m\u001b[0;34m\u001b[0m\u001b[0m\n\u001b[1;32m    270\u001b[0m                         \u001b[0m_logger\u001b[0m\u001b[0;34m.\u001b[0m\u001b[0mfatal\u001b[0m\u001b[0;34m(\u001b[0m\u001b[0;34mf'Errors: {\", \".join(errors)}'\u001b[0m\u001b[0;34m)\u001b[0m\u001b[0;34m\u001b[0m\u001b[0;34m\u001b[0m\u001b[0m\n\u001b[0;32m--> 271\u001b[0;31m                         \u001b[0;32mraise\u001b[0m \u001b[0mScraperException\u001b[0m\u001b[0;34m(\u001b[0m\u001b[0mmsg\u001b[0m\u001b[0;34m)\u001b[0m\u001b[0;34m\u001b[0m\u001b[0;34m\u001b[0m\u001b[0m\n\u001b[0m\u001b[1;32m    272\u001b[0m                 \u001b[0;32mraise\u001b[0m \u001b[0mRuntimeError\u001b[0m\u001b[0;34m(\u001b[0m\u001b[0;34m'Reached unreachable code'\u001b[0m\u001b[0;34m)\u001b[0m\u001b[0;34m\u001b[0m\u001b[0;34m\u001b[0m\u001b[0m\n\u001b[1;32m    273\u001b[0m \u001b[0;34m\u001b[0m\u001b[0m\n",
            "\u001b[0;31mScraperException\u001b[0m: 4 requests to https://twitter.com/i/api/graphql/7jT5GT59P8IFjgxwqnEdQw/SearchTimeline?variables=%7B%22rawQuery%22%3A%22Tesla%20since%3A2019-01-03%20until%3A2019-01-04%22%2C%22count%22%3A20%2C%22product%22%3A%22Latest%22%2C%22withDownvotePerspective%22%3Afalse%2C%22withReactionsMetadata%22%3Afalse%2C%22withReactionsPerspective%22%3Afalse%7D&features=%7B%22rweb_lists_timeline_redesign_enabled%22%3Afalse%2C%22blue_business_profile_image_shape_enabled%22%3Afalse%2C%22responsive_web_graphql_exclude_directive_enabled%22%3Atrue%2C%22verified_phone_label_enabled%22%3Afalse%2C%22creator_subscriptions_tweet_preview_api_enabled%22%3Afalse%2C%22responsive_web_graphql_timeline_navigation_enabled%22%3Atrue%2C%22responsive_web_graphql_skip_user_profile_image_extensions_enabled%22%3Afalse%2C%22tweetypie_unmention_optimization_enabled%22%3Atrue%2C%22vibe_api_enabled%22%3Atrue%2C%22responsive_web_edit_tweet_api_enabled%22%3Atrue%2C%22graphql_is_translatable_rweb_tweet_is_translatable_enabled%22%3Atrue%2C%22view_counts_everywhere_api_enabled%22%3Atrue%2C%22longform_notetweets_consumption_enabled%22%3Atrue%2C%22tweet_awards_web_tipping_enabled%22%3Afalse%2C%22freedom_of_speech_not_reach_fetch_enabled%22%3Afalse%2C%22standardized_nudges_misinfo%22%3Atrue%2C%22tweet_with_visibility_results_prefer_gql_limited_actions_policy_enabled%22%3Afalse%2C%22interactive_text_enabled%22%3Atrue%2C%22responsive_web_text_conversations_enabled%22%3Afalse%2C%22longform_notetweets_ric..."
          ]
        }
      ]
    },
    {
      "cell_type": "code",
      "source": [
        "for item in final:\n",
        "  print(item)"
      ],
      "metadata": {
        "colab": {
          "base_uri": "https://localhost:8080/"
        },
        "id": "YTM54UsjRUxV",
        "outputId": "8c9cb3d8-bd53-484f-c5d1-a7073388eddb"
      },
      "execution_count": null,
      "outputs": [
        {
          "output_type": "stream",
          "name": "stdout",
          "text": [
            "['Tanto documental que viste sobre Tesla dieron sus frutos @Lujicanalla', \"@stompk Well done. Now if we can only view what's hidden under the Vatican and the massive library not accessible to the public.\\n\\nIf they don't burn it down before hand, many of the answers would lie there.\\n&gt;See Nikola Tesla and his trip there when he was younger. What did he find? https://t.co/A2Fe2L5mXr\", '@teslaownersSV @YunLinSJ @tesla_raj @OscarMiranda87 For sure! And if you make it to SoCal, let me know!', \"@codeyvargas_ @Di0nysos_ @TheKevinSteele @DigitalLawrence @Koleyayyc @WWCSTX @KennethBosak @Krypticrooks @TourDeCrypto @BlakeRizzo24 @JDunsmoorEsq @mrjberlin @stunad620 @NickLTC @LTCTheRightCoin @ZogLord @Chuckdhere @NetworksManager @Dominico_LTC @DavidBowieReal He also played #Nikola #Tesla Christopher Nolan's 2006 cult film #ThePrestige. 🤓⚡️💡\\xa0$BTC https://t.co/USa7lC8NzS\", '@elonmusk @Tesla Bad marketing is good marketing 😂😊😁', '@grftn_ @elonmusk @Tesla If only they never talked to sell side analysts ...', 'Tesla needs time to investigate? Did they forget what station The Weather Channel is on? FFS...', '#Tesla libera patentes de autos eléctricos al público ~ Mundo Cyberia https://t.co/21KKKxDTfR', '#dippininmytesla 😎✌🏽 #tesla https://t.co/5Me3fQtLDI', 'Tesla Begins Sales of Cheaper Model 3 Car Variant in\\xa0China https://t.co/RzAZUDL9GQ https://t.co/vv3XP7ZPyM']\n",
            "['@tesla_unplugged Where', '@ReflexFunds @ValueAnalyst1 @incentives101 @elonmusk @Tesla 1/ In my opinion autonomy has far more to do with quality of life and given useful time back to people than it does the transition to clean energy. It will not by itself reduce the number of miles that people travel and therefore will not reduce the number of cars required.', '@elonmusk i love my tesla!! https://t.co/oN6piV38lY', '@ElNicoBellakito Hasta los cientificos (y la mismisima compañia Tesla) son mas vagos que no tuvieron la oportunidad de crear la primera máquina del tiempo de la historia de la humanidad...', '@Skater_Ricky @rocket_jenross @Tesla @elonmusk @mayemusk @PlugInFUD Yep, been to Saudi and UAE. Salaam Malicum.', '@Tesla @ConsumerReports EL3CTRON Getting her Winter Boots at work. I Love Northeast Mobile Service! And I’m not selling her, GET YOUR OWN!!! https://t.co/30IV8QczGd', 'Billionaire Musk releases all Tesla patents to help save the Earth https://t.co/BgRlandmw1 via @ABSCBNNews', '@Danbo @elonmusk @crazyhank @Tesla Works fine for me https://t.co/HllBxE4M2r', 'Tesla Model 3 Owners Vent About Polar Vortex Affecting Cars\\nhttps://t.co/h7y7SXE1eL', 'Elon Musk libera todas las patentes de autos eléctricos de Tesla para ayudar al planeta - Noticias Uruguay, LARED21 Diario Digital https://t.co/LqFm9Vd6D1']\n",
            "['Billionaire Musk releases all Tesla patents to help save the Earth https://t.co/SXzYiRmKWe', 'TESLA MOTORS, INC., Patent Portfolio Analytics @. https://t.co/yWsPGCqLhy', '@Tesla @pryszkie @manuelnvrz', 'Billionaire Musk releases all Tesla patents to help save the Earth https://t.co/ITkkefUIDw', 'Safety groups urge caution as another possibly unconscious driver in moving Tesla is caught on camera – Fox News \\u3000https://t.co/JMmA0grGup', 'Safety groups urge caution as another possibly unconscious driver in moving Tesla is caught on camera - Fox News https://t.co/QtuNXFK84z', 'I’m pretty sure if you have a Tesla you don’t NEED to drive for Uber but WANT to', '@teslectrics @Tesla @elonmusk Edit: *Someday soon', '@ElectrekCo @FredericLambert Tesla replaced my 2014 P85 HV battery with almost 140K of mikes last week due to imbalanced cells. The service was amazing and the P85 runs amazing. Can’t say enough great tings about the Tesla brand.', 'waaah ini dia.... selain BYD, Blue Bird juga pakai Tesla sebagai armada Taksinya. https://t.co/7HrvKe17kU']\n",
            "['Надо было меня отправить в Tesla на орбиту Марса, Илон Маск', '@minnesotagirl71 @Tesla Hahahaha. Brilliant!', 'Volkswagen will use Tesla batteries at its charging stations https://t.co/2qHj7nXqng #Technology #technews #puledo_tech_update', 'だいぶ楽になってきた。36.7度', 'ICYMI - The @Tesla 3 is not on an S-curve, but taking the market by storm - like a Rocket!', \"One day I'ma whip a purple Tesla roadster I stg\", \"Is Tesla's Elon Musk Making Good On Prediction That Capacitors 'Supersede' Batteries? https://t.co/LOJFJMcPpV https://t.co/pckk2q4cHt\", 'Motorista é flagrado cochilando enquanto deixa Tesla no piloto automático https://t.co/toQ4iWj0LG https://t.co/pYrIkGHRrc', 'Saw this: Designers in 2019 face all kinds of challenges. One of them: figuring out how trolls are going to turn their logos into swastikas or human genitalia.', \"A new study investigates our cousins' hunting abilities. https://t.co/15YCjeXdwx\"]\n",
            "[\"@hoonable @kawasook @danforhan @Tesla Reading the original tweet, what seems to have happened is that the module (MCU?) bricked during the update and keeps continuously trying to roll back to last known good calibration. I've had them brick during power outage while flashing and able to recover this way, on Fords.\", 'Tesla has opened an Amazon store to spread its swag far and wide: Tesla has had a brisk… https://t.co/2uHwKhAyO8', '@Faacto @Tesla @elonmusk We don’t sit in the car. By the time you need to stop to charge, everybody needs to use restroom or get food. Car is usually waiting for us', \"The Tesla Model 3 Tops Consumer Reports' Most Satisfying Cars to Own https://t.co/3dkX3dYh5u https://t.co/J6v31FoWFQ\", 'Ready pull the Tesla out the garage. Take a drive with my cream soda.\\nFeel like winter gone.', 'Tesla fecha compra da empresa de baterias Maxwell Technologies https://t.co/mBMxh32Ldk', '@SeanCoakleyFX @MacroPoloChina @Tesla Tesla having proprietary battery tech ahead of the competitions a common myth', '#Volkswagen Will Use #Tesla Batteries at U.S. Car-Charging Stations\\n\\nhttps://t.co/3Mk4LBZkjr\\n\\n#VW', \"The Tesla Model 3 Tops Consumer Reports' Most Satisfying Cars to Own\\nhttps://t.co/TixfD8sOs9\", \"The Tesla Model 3 Tops Consumer Reports' Most Satisfying Cars to Own https://t.co/kfEJVpKY9M\"]\n",
            "['@elonmusk @StrikMichael It will be worth the inconveniences - the Performance Model 3’s will bring instant joy  &amp; for years to come... \\nKeep forging forward @Tesla @elonmusk \\nThank you for grinding out a better future! https://t.co/t5cPJWzhbv', '@LikeTeslaKim - Hi Kim, greetings from U.K., love your Tesla YT channel , just post my own Road Trip from England to Scotland UK in my Leaf on my own new channel too 😄 gonna have to test drive a Tesla myself one day.', \"Out of curiosity (and seeing some other sus job listings) I looked on Tesla's website for automotive technician/lead tech jobs. Couldn't find a single one. There's listings for assistants and runners but nothing for actual techs. Odd. Do they have some kind of in house program?\", 'Tesla reduce el precio del Modelo 3 https://t.co/gquKD7RigR https://t.co/n0bx96iRmd', 'My biggest regret is not realizing that ‘instagram entrepreneur motivator’ would be a plausible career path...latest super genius idea I just saw: “on days you don’t want to work...work anyway!!!!!”   That genius was explaining that while driving a Tesla. He has 350k followers...', 'Se ninguém tiver um Tesla no Rio Grande do Sul ainda eu vou ser o primeiro.', 'Tesla starts of Model 3 deliveries in Europe, with some delays https://t.co/Y7vSbdPRdy by @fredericlambert https://t.co/j9AjGavfqx', 'One year ago SpaceX launched a Tesla Roadster atop its Falcon Heavy. @SpaceX @Erdayastronaut @NASASpaceflight #FalconHeavy https://t.co/RN8mJ81X61', 'Tesla starts of Model 3 deliveries in Europe, with some delays https://t.co/GsY6lRPNtf by fredericlambert https://t.co/rvKVs2iWLB https://t.co/5Xgz6WM8fN #bjmt', \"@Davemorton111 @MccJoni @RepAOC Oh I'm feelin ya there. One of my vehicles is a 6.0 litre silverado that I use for work. But I think with Tesla showing it can be done, others will follow.\"]\n",
            "[\"@Tesla If you'd try the car you'd know it's not against all odds.  It's the best car I've ever driven.  It's amazing and even at $50k once you add in the fuel/repair/tax savings and that the car is going to last longer than an ICE it's a no brainer.\", \"@Tesla 🙌\\n\\nCNN: The car's relatively high price is another obstacle...\\n\\nReally?! For a luxury car?\", \"Funny that Tesla didn't want to comment on cold weather performance of electric cars.Electric cars are a luxury item for very wealthy and in MN, apparently very cold drivers. AAA: Cold weather can cut electric car range over 40 percent. https://t.co/JhE1Yb0QJV\", '@Tesla 😎😎', \"@Tesla Don't allow Thief's to open the trunk, frunk, glovebox and my garage door via the display when the car alarm is going off!!!\", \"Tesla can't be measured by normal financial measures. Tesla is about something that will dramatically change the automotive, energy and space industries.\", '@Garyreichow1 @Tesla @elonmusk The used cars ;-) They are on the Tesla site.', 'AAA confirms what Tesla, BMW, Nissan electric car owners suspected — cold weather saps EV range. Even turning on the car drains power https://t.co/IFmgUaeFEB #tech #Pakistan #cs', 'Billionaire Musk releases all Tesla patents to help save the Earth https://t.co/NfLqlKWLu9', '@Tesla I need one NOW!']\n",
            "['@tesla_admiral 自分でも言いたくなる結果()', '@b_felix @SteveBareman @BarkMSmeagol @Tesla @AAAnews @WOODTV Mmmmmm. How convenient it is.', '@nic__carter Crypto bros are morons. If they didn’t guzzle it all I’d be able to use the geothermal energy in Iceland to charge my tesla in SF for free', 'Tesla has already announced last month that 7% of its workforce, which amounts to approximately 3000 employees will be fired. Now, shocking details are emerging regarding the nature of these layoffs. https://t.co/D28yjclY9p via @@CareerTsunami', '#VetoTheGND \\n\\nNY State Senator “Infuriated” At Tesla Layoffs After $750 Million Taxpayer Assistance https://t.co/aHgBOIZxN2  \\n\\nPosted on February 7, 2019@1:11pm #ZeroHedge', 'Who knew Tesla&gt;Nissan or Honda?', '@SteveBareman @BarkMSmeagol @Tesla @AAAnews @WOODTV Yeah. Getting in the car is depending on the type of engine?', '@Tesla @elonmusk Any plane to introduce hatchback/nissan leaf rival??', '@junterweger @fabianetter @swisscleantechD @ChrZeyer @8953Dietikon Im übrigen weisst Du ja, dass ich den kompletten Umstieg auf E-Mobilität befürworte und unser nächstes Auto ein Tesla wäre, würden wir ein Auto kaufen.', '@TeslaCharts Claims to be based on an email from RDW. Yet no text given, and no announcement made by $TSLA or anyone else. \\n\\nhttps://t.co/ogoZtfnuqL\\n\\nIf this turns out to not be a 100% done deal, we have reached new levels of panicked headline management at Tesla. Week to week survival mode.']\n",
            "[\"Tesla's delivery team said to be gutted in recent job cuts https://t.co/PrdQcFE5NF https://t.co/bytxvK7nFi\", \"@rocket_jenross @scottwillpenn @gwestr @GerberKawasaki @Polixenes13 @Tesla Also Jen I have been kidding around here sorry but it's amazing you have an EV #goals and you should use it how it makes you feel comfortable to use it 🌱❤️\", 'So it looks like Tesla rented a property near the airport. They had rangers set up and lots of people. Took 5 minutes.', \"@NikolaTeslaSays *As Avengers voice reaches, the rustling sound becomes a clatter... And soon, something stands up to look his way. At least, we can assume it's looking at him... Oh dear. If just a touch turned Tesla Lily... Too far, we've gone too far.* https://t.co/ZabDfMgAAa\", '@Mamakind420 @Tesla_PR @MacMarkkus @Crackmacs Many Tesla and other EV owners in Alberta, see @PluginAlberta @teslaownersAB The store closed at chinook mall but they consolidated into their large feee standing Tesla store down the road:  https://t.co/3vFczdH1iy https://t.co/Z8v5YweWXC', '@ruralleafowner @Nufkin @Tesla Mark you have nothing to worry about. I recently cancelled my reservation and they refunded my £1000 with no issues.', '@ClarkDennisM Much less so than others including Porsche. Yet I see you bashing Tesla only.', \"@AnonymousCynic @DeanSheikh1 @Tesla_Bear @4xRevenue @cppinvest @Paul_M_Huettner @orthereaboot @GatorInvestor @BSA19741 @Badger24 If they find a way to draw that down again, they have a fair amount of cushion. Not sure how to do that with European registrations though. I'd think it makes it harder for them, but they've proven to be more creative than one would think.\", \"@meamZ_MZ @nikolamotor Yes. I've seen and drove cas even older than 50 years in perfect conditions. Never heard about battery 10 years old. Moreover, you'll freeze in a Tesla in a cold winter and your battery will die for sure. https://t.co/JFGrN8hygE\", \"One of Tesla's largest investors just increased its stake https://t.co/iDfFV1fYt3 https://t.co/JDMNqicr9q\"]\n",
            "['@jamescharles Will David buy me a Tesla?', '@jamescharles Can you buy james a new Tesla?', 'My dad, who used to be plant manager at the plant that is now Tesla, just explained to me why the production is completely f*cked. y’all aren’t gonna get those cars anytime soon.', '@iSlutsky @cliffpeskin @Tesla @elonmusk I have a model x- internal temp warms up from the app within minutes. Can control heated steering wheel and seats.', '@scot_work @markbspiegel @Tesla \"I thought about linking to a Google drive spreadsheet, but I\\'m concerned about storage limits\"', 'Trying the neighborhood SuperCharger while theWife(tm) shops (@ Tesla 72Kw Supercharger in San Jose, CA) https://t.co/QNbEMTWy80 https://t.co/xs7kL4VSzY', '2016: the year that people found out that Tesla teleportation had been achieved 50 years ago by DARPA and classified ever since ....', '@BethLilyRace @QwestNorfolk A Tesla gaggle?', '@pbarbieri Puede ser. Pero a una fracción de lo que vale hoy. Pensa que ahora las grandes automotrices ya están produciendo autos eléctricos. De Tesla no se si queda algo aparte del diseño...', \"@japeyT23 No for SPX options they are cash settled so you do not need to close them out. Just onto them and the next day you'll collect any intrinsic value.\"]\n",
            "['@ex_Tesla Nothing to debate there', '@1037thebeat https://t.co/p2RZ28QOyC Subscribe to the MMP Mailing List today; to receive free political and spiritual apps, every single month! Start learning; about Nikola Tesla, Christianity, Bible Prophecy, Book of Enoch, Mysticism, Freemasonry, and much more! #android #app #apps #games', '@1037thebeat https://t.co/p2RZ28QOyC Subscribe to the MMP Mailing List today; to receive free political and spiritual apps, every single month! Start learning; about Nikola Tesla, Christianity, Bible Prophecy, Book of Enoch, Mysticism, Freemasonry, and much more! #android #app #apps #games', \"@Daminca @lithiumforum @Tesla @Hyundai Really? I called a CA dealer, and I didn't get the sense that you didn't have it yet. He also told me that it was a different charging system and said that that was why it was unavailable in WA. I wonder if that is true. Do you know?\", \"@ex_Tesla @CassandraTSLAQ @eddiemac3356 @ElonsTruths @witwwos @armyofplanters @PlugInFUD Japanese are good at back stabbing. Just ask Ghosn.\\n\\nI'm sure Pana has something, maybe CDS or something.\", '@vincent13031925 @Tesla @elonmusk World is ending in 12 years.\\nDon’t you listen to AOC?', 'Are you all charged up to 1.21 Gigawatts and headed to 1955?  Dont worry your X-Rack Cargo Carrier can handle the trip! \\n.\\n.\\nFun Easter egg by @elonmusk &amp; @Tesla \\n#backtothefuture #121gigawatt #docbrown #martycfly #fluxcapacitor #teslaeasteregg  #teslamodelx   #teslalife https://t.co/B6k2RSCbK2', 'This is my friends band on tour w/ Tesla.\\nThey rock give a listen.\\nDusty Winterrowd https://t.co/ujgaN9XLPg', 'This is my friends band on tour w/ Tesla.\\nThey rock give a listen.\\nDusty Winterrowd https://t.co/ysOZdj2Xt1', 'Si hubieses tenido que escoger entre trabajar para Edison o para Tesla-Westinghouse, por cuál te irías? — Es muy fácil escoger bando en una guerra que ya terminó y que ya sabemos quién es el ganador. https://t.co/HrV1E2MipT']\n",
            "['@don_omvr @Alvahrow @theregoesjustin Tesla, Bitcoin, Oil, Business, Big and Small, InvestInvestInvest, Market Mentality, Success.....bro', \"@GrainSurgeon @orthereaboot @RyanDoherty47 @brodieferguson @ex_Tesla @tool_grinder @TeslaCharts I'm not suggesting anything. $TSLA is trash. $MXWL is trash. What's the downside? 4 cents plus the borrow for 5 months? Who’s coming in for a topping bid? Maybe Fred could setup a gofundme? IMO, this deal breaks alongside $TSLA but you're not exposed to the Gerbers of the world.\", '@markbspeigeI Yes, you have been having nightmares before and after Christmas.  You hunky chunky whack fol. Tesla made you famous on 11/30/2016. Glad I passed on your invite to “join your investment group” done way better with you as contrary indicator', '@MrRoryReid @The_PlugSeeker Tesla Model 3 gets my vote, especially the performance all wheel drive version with a 0-60 of 3.4 sec and a 300 mile range for I think £47000. Not forgetting the supreme Ap(autopilot) and regular OTA updates and a bespoke charging structure which is unique.', 'Wer von euch hat ein Auto mit #API? Bin schon gespannt, was mir da für Spielereien für meinen #Tesla einfallen... 😁 https://t.co/SaCBSwA6Gl #Model3', \"Tesla's Latest Competitor Is a $15,500 Electric Three-Wheeler  https://t.co/VebbhFZNdF\", 'Carlos Penna Charolet | TResearch The 10 Most Prestigious Internships For 2018:\\n\\n1. Google\\n2. Apple\\n3. Facebook\\n4. Microsoft\\n5. Goldman Sachs\\n6. Tesla Motors\\n7. Amazon\\n8. JPMorgan Chase\\n9. Morgan Stanley\\n10. The Walt Disney Company\\n\\n(Forbes)', \"Everytime I look at my gas gauge I'm reminded that I need a #Tesla but I'm sure I would forget to charge the damn thing. Forgetting to charge my car is not an excuse to skip class. I checked.☹\", 'Tú sabías, claro que sabías, Nikola Tesla..', 'Now Playin CAPO PLAZA - Tesla feat. Sfera Ebbasta, DrefGold (Prod. AVA, Charlie Char Download App on Digital Store']\n",
            "['@gwestr @khelson10 @danforhan @robinivski @JohnMarcmail @Tesla Lol college', 'meetingからのTesla 場所: Maniwa https://t.co/pleWeOOtQ8', \"Vancouver's answer to Tesla is a $15,500 electric three-wheeler https://t.co/z0HKqrYFIL\", 'Elon Musk libera todas as patentes da Tesla; entenda https://t.co/L9YI8Iu2QG', \"@25CollegeFrogs @NASAJPL @MarsRovers @elonmusk Definitely, and he can't not bring Tesla the band too...\", '2019 Tesla model S 75D\\nFull dechrome satin black 1080\\nFull clear bra, mirrors and headlights\\nCeramic Pro\\nSatin black powdered wheels\\nSatin black lugs and center caps\\nFull window tint 20% plus windshield\\nEmblems satin black \\n#models #tesla #ceramicpro #powdercoat #customcar https://t.co/V88dNyT4Vv', '@nhparks @kawasook @TriTexan @Latrilife @Paul91701736 @elonmusk @TeslaQ3 @RenataKonkoly @jtrandds @tesla_truth @Sublux8tor @Michaelsully @FitzsimmonsK @EricSteiman @TArkesteijn @28delayslater @1mantruthsquad The ABL has nothing to do with this. Have you read the ABL? Really have you?', '最近見かけた冬場にもってこいのファッションで、これよくなーい？\\n\\nって友達に見せられて\\nいざやって見たら全然自分に合わない\\n\\nわろたにえん', '@Skiddins @0freetime @DanielHjr7 @elonmusk @Tesla Sure, but a large percentage of accidents are due to reaction time and limited scope of vision. That’s why driving with Autopilot is much safer than without.', 'I need a #Tesla @elonmusk please and thank you. Can’t afford it yet, but willing to work for you. I’ll be test “dummy” for neuralink.']\n",
            "['@elonmusk FYI the Tesla \"Go Anywhere\" travel/charging tool does not list the Mid-Range Model 3 as an option, forcing the user to choose only the Long-Range Model 3. https://t.co/N3jHK3PNdR', 'Memes are important. \\nhttps://t.co/A2nL1Pz0mT https://t.co/37jYDlZbPn', '@TheBowen @Tesla You’ve got to buy a Tesla first...', 'Valentine&amp;apos;s Day treat: &amp;apos;Romance mode&amp;apos; puts a roaring fire inside your\\xa0Tesla https://t.co/FPJxjvl4jV https://t.co/erSEm958iB', 'Tesla começa a produzir em larga escala telhas que geram energia solar (e são mais baratas do que as telhas convencionais) https://t.co/dIpZ2UuhRG', '#HotWheels 2019 Delorean Tesla Starman Batmobile Land Rover lot of 4 Back Future https://t.co/0v2rcSUKua #eBay', '@CyrilRamaphosa  @DPE_ZA  @radebe_jeff\\n13/20 cars. Straightforward technology if you don’t want to compete with BMW/Tesla and just want to go from A to B. Make it cheaper by keeping current vehicles, just converting motive power from petrol/diesel to electric motors.', 'Xcelerate to Offer Extended Warranties on Used EVs, Including Tesla Vehicles - https://t.co/ldM0RBkLbB - via @FutureCar_Media #Tesla #UsedCars #ModelS #EVs  https://t.co/cJ5q918LWR', '@passthebeano @markbspiegel @NHTSAgov @russ1mitchell The data is from 2016. Airbags in old Tesla deploy to fast. My airbags deployed in a minor crash. Even the airbag at passenger seat deployed, but there was no passenger or any weight on the seat. It cracked my dashboard and windshield - some thousand euros extra cost for nothing', '@kalichaudhuri @markbspiegel @scot_work @elonmusk @GerberKawasaki Wow a whole 47 miles on electric.  I guess Tesla can just close up shop now.  I mean they did sell a whole 78 in the month of January.  Is that before of after the demand cliff?  #TeslaKillerLOL']\n",
            "['@Kristennetten @Tesla @elonmusk Thank you so much. #TeslaFamily', 'acabo de ver un Tesla en callefa, orgullosa siempre de mi barrio', 'El auto-manejo Tesla supuestamente golpea a un robot, la gente afirma que el video viral es un truco de relaciones\\xa0públicas https://t.co/6lzJ8AyUd4 https://t.co/oNhpjihpIl', 'Tesla challenger Rivian gets $700 million investment led by Amazon - Business Insider https://t.co/fvlZwHUoQe', 'tesla&lt;3', '@MrBeastYT @elonmusk OK HE DID NOT DO IT ASK FOR A REFUND ON THE TESLA!!!!!', '@Sofiaan @Tesla @elonmusk It’s beautiful!  What a sweet family too! ✨', '#Tesla releases new Sentry Mode to protect your electric sedan: https://t.co/yH0Wy1BY7F https://t.co/1oiYoIyUpP', '@Tesla Hello, Dave... https://t.co/FDahTD1p6f', 'TESLA... una opción vanguardista....SaintGobain Sekurit....la elección !!!!!!  Feliz viernes!!!!! #AlianzaConstruye #Derramadero #MadeinSaltillo https://t.co/qlKfmip5d8']\n",
            "['The future farts $tsla @Tesla #Model3 https://t.co/hws9OHYt23', '@TMSP85 @TeslaThommy @elonmusk I generally agree with those numbers but your comment also glosses over the inefficiencies in each of their energy supply chains.\\n\\nBUT my original point was accelerating like crazy is known to wreck Tesla drivetrains. Agree something similar would be the case with gas too.', \"Why the Tesla Model 3 isn't branded as a Model 3 https://t.co/m3Dh5TSOPB https://t.co/RmBpAT4bKF\", \"Who are these Zoshling creatures? I'm afraid I lack knowledge. I will seek Tamara Tesla.\", '@datssoaj @Tesla Sure 😂', '@ABC Why the Telsa hit piece tonight?  Someone runs a red light and crashes- that’s not national news.  You said ‘Tesla’ about six times &amp; never reported the driver’s name.\\nP.S. I heard he was I injured. #safe', \"@tesla_lion @ValueAnalyst1 @SiberianOdyssey @iliketeslas @elonmusk @Tesla They can't even meet current demand, not to mention if they advertised..\", 'I test drove the Tesla model S OMG\\nhttps://t.co/CfebdQ1jyl My Tesla model S experience OMG', '昔の手話ほど、視覚的イメージが凄くて、ほんまに感動する。\\nたとえば、“不良”は今なら音声的に“悪い”+“人”とか表すけれど、昔の手話は、“曲がる”+“人”をワンセットにして、めちゃくちゃコンパクト。しかも、曲がる→“常道から逸れる”イメージ→“良くない＝悪い”に結びつけるあたりエクセレント‼️👏', 'C’est fou à quel point les Tesla sont populaires aux États-Unis. C’est très différent avec chez nous. Au Québec, on en voit des Tesla, mais il y a davantage de Chevrolet Volt (la plus vendue au Québec), de... https://t.co/sBsUzzDXeq']\n",
            "['@rpcarch @seanmmitchell Respectfully disagree. There’s no reason for this to be a “Tesla” article. An idiot blew a red and caused a heinous accident. End of story. But since it’s a Tesla, the news anchor says “Tesla” when he’d have otherwise used a standard non-descript noun like “car,” “sedan,” etc.', '@NunkMasKKs @carolita2019 @Nikola_Tesla_AR Peronista, como la mal agrio de la matanza, no tienen vergüenza pero que novedad no!!', 'Need me a Tesla', '@doggmarley @elonmusk @Tesla Bring the cops along.', 'So far in Q1 2019, @Tesla has registered nearly 100,000 @Model3VINs, up 55 percent from the same quarter-to-date period in Q4 2018.\\n\\n$TSLA #NoDemand https://t.co/zt8Gh9eeFz', '@Tesla When can we get it in San Jose??', \"@itzkriishna @JFKPokerTD @Tesla @elonmusk How long until you jump off the Tesla is the 'best car' sinking ship? \\n\\n1 more month? 2 more months? Never?\", 'Desktop Support Technician: Recruiter Tesla Location Reno, Nevada Salary Competitive Posted 13 Feb 2019 Closes 15 Mar 2019 Ref 73874 Sector Engineering Category Information Technology Contract Type Permanent Hours Full Time You need to sign in or create… https://t.co/OymSfHAenz https://t.co/BSRjmYgR4c', '@NikolaTeslaSays *Agravain, giving Tesla a kiss on the cheek, and Clara a scritch on the head, nods to confirm.*\\n\\nI believe I am.', '@KawasakiKR11 @evdefender @NHTSAgov Yes. It is possible that Autopilot is better then average Tesla driver.']\n",
            "['@EVs_Brookline Because we need to cross the chasm to the majority. My wife is late majority on this. I’m early majority. \\n\\nTesla could serve us now, but doesn’t fit the budget. https://t.co/jwszTngxO1', 'Crossed 20,000 miles today on the #Tesla #Model3.  Tomorrow will mark 7 months since I picked it up.  By far the most fun thing I have ever bought.  Those miles have gone by so fast and have enjoyed them all.  @TeslaMiles https://t.co/3evA0OadBz', '¡¡#Model3 muy pronto en #SuCMérida con postes con conectores #CCS compatibles!!\\n#Tesla #EV \\n.@jorgemilburn .@Tesla @ClubTeslaES \\nhttps://t.co/pbd1zOXemy', '@HeyAshleyRenne @Tesla I put a box of donuts in mine one day. Guy next to me said \"never seen anyone put donuts under the hood\"', 'Shell compite con  Samsung, LG y Tesla en baterías para los hogares https://t.co/WRHkTJsheF', '@_elver_barrera_ @mxriannn You taking the wrong type of pills you need them Tesla’s', \"@HillaryEvan @FremontPD @FremontFire Tesla's don't 'self-drive'!\", 'TESLA SPEC SHOOT WITH DJI INSPIRE 2 X7 https://t.co/3J0beiIFs3 https://t.co/zuop9dtSJj', 'Mi opinión sobre TESLA... ¿nos ENGAÑAN? https://t.co/vjQVMqfD8w via @YouTube', 'me: i\\'m going to really hate if they turn marie squad into just mozart, salieri, and marie\\nalso me: listen the concept of \"edison and tesla, but they\\'re both buff also one\\'s a furry and they try to beat the shit out of each other but are made to get along by an occultist is gold\"']\n",
            "['Nikola Tesla, an American citizen, was found dead on January 8, 1943 by his maid. He was found in his room, #3327, at the Hotel New Yorker in NYC at the time of his death. https://t.co/agTz4bJkFM', \"@joerogan you're a cool dude. You make millions of dollars a year yet you still come across as just a dude. Well a dude with a 150000 dollar Tesla .\", '@NikButts @elonmusk @Tesla I would buy a Tesla just for this', '@JGonzo233 Jump in front of his tesla', 'Elon Musk doubled down on a bold claim he made about how quickly Tesla vehicles will be able to drive themselves https://t.co/PKNG3dIFPe', 'Tecnologia de Nikola Tesla ha sido Revivida! https://t.co/3K8B2dJVPy vía @YouTube', '@magicw @dreederer Es geht nicht um die Marke Tesla. Es geht um die Entwicklung einer neuen Antriebstechnologie. Da investiere ich als Steuerzahler gerne mit.', 'Great to summon my Model 3 from the 8th floor when people are walking by. Too funny. Can’t wait to have the car park itself and watch peoples reactions then!  #tesla #teslamodel3 #teslamotors #teslasummon #Model3 #ElonMusk https://t.co/UeXwQXNFWC', '@vincent13031925 NIO will be tesla killer ! https://t.co/Eq7jNy2J0j', '@_TeslaTom @Tesla What do you get if someone wins with your referral?']\n",
            "['@0_emissions @Tesla https://t.co/KMOGqlxJnu', 'After several months of back-breaking, round-the-clock work on Tesla’s factory floor, Musk eventually reached the 5,000-unit milestone in July last year\\n\\nhttps://t.co/wxhrYBYKuH', '@ByungSora @albergoku94 @chichoJL82 @shivala85 @davizconz83 @Tesla_Liquid @RedfieldLink ¡NUNCA! 🤣 Pero bueno, no pasa nada, yo es que me gustan muchas cosas que subes al muro y digo coño a ver si algún día me dice algo para compartir cositas de videojuegos y charlar.', '@GazelleMonetArt @ven_000 @zayy_tesla', '@danahull @jonmcneill What about him being a DC based lawyer running a DC based law firm makes it surprising that he would return to DC. The 8 year Tesla veteran replacement was previously Tesla outside council at Latham and Watkins, a top tier firm.', 'Gotta love me some Tesla ^_^\\n\\nhttps://t.co/GMJUMsWRbs', 'Tesla pushes Sentry Mode update to optimize alarms for multiple break-in attempts - Teslarati https://t.co/Zh40WOr4PF', 'cheaper cost, longer life, higher density\\n#drycell #tesla #acquisitions\\n\\nhttps://t.co/8I2eZ93xQy', '#Tesla is bleeding executives and it could create problems for the company, experts say (TSLA) https://t.co/VnqtF7ANzB https://t.co/qWtpeBac8l', '足メダルって素晴らしい😎 #コンパス https://t.co/x0TPxsteaL']\n",
            "['Consumer Reports no longer recommends the Tesla Model 3, citing reliability issues https://t.co/oAj7q6rotE https://t.co/FM7R1q5FRM', 'Consumer Reports No Longer Recommends the Tesla Model 3 https://t.co/l8HU5JYVxP', '@WombatPickled @phoennix10 @ex_Tesla #vulgar\\n❤', '@eledhmel Pues uno es quien busca los temas de propio interés y en consecuencia se allega a las personas que generan esos temas. Quizá no debieras preguntar al exterior y revisar en ti porque encuentras expresiones mayormente de sexo.', \"@OwnedWilson @Yousseffarouk98 @Tesla Isn't that obvious to you? We are missing skills simply by not having enough engineers.\\n\\nBecause there are so few women in STEM, it's incredibly easy to address this by encouraging women to join.\", '@teslaagirl Supercharger access will be there for sure. For a fee but that’s a big part of Tesla appeal to many - big charging network', '@TwIttNTIN @M2bliquis @EmmWargon Il a quoi comme voiture ? Un électrique ? Tesla comme tout le monde?', \"Presumably you're only allowed to leave Tesla if you can escape the Maze of Death https://t.co/pvR624mqtN\", '@ContrarianShort @markbspiegel Titles are meaningless in Tesla land!', '@AlbertLouisHV @Tesla A ustedes por el excellence servicio. No compraría ni recomendaría otro automóvil. Gracias.']\n",
            "['Luxury Autonomous Vehicle Market 2019 Growth Analysis and Business Outlook – Daimler, Audi, BMW, Nio, Porsche, Tesla - Market Biz Mail https://t.co/rxNR1kNuCE', 'I need a tesla smh', '@teslaownersSV @Tesla I am very pleases with EAP on my #tesla #model3 , specially when used in traffic like DC/VA. Stressless driving. Without it, go ahead and buy other #EV and see if you can get same kind of fun and safety.', '@oli_braun @Tesla Me too!', '@PressToDigitate Tesla introduces the Mark III Travel Machine... https://t.co/Ntt85yKBmD', 'Tesla’s top attorney leaves after two months on job due to ‘poor cultural fit’ - https://t.co/rL2tQ5Aqdf', '@elonmusk In the immortal words of Will Smith, “that’s hot!”\\n\\nAnd in my immortal words, please add these four to @Tesla’s Board of Directors:\\n\\n• @WhitWolfeHerd of @bumble\\n• @Smile_Lee of @HeavenSentTweet\\n• @kmlake of @stitchfix\\n• @Gfilche of @HyperChangeTV\\n\\nhttps://t.co/yvGsK8m8Ci https://t.co/smQN5CNzL9', 'I want a Tesla Roadster and if you guys are hiring, I want a job too! @Tesla @elonmusk', 'TIL. The Tesla has a fart app. I just don’t even.', '@Tesla @elonmusk Dog mode? This is Sentient Sentry mode!']\n",
            "['@Zvezdichko @spacecom @SafeNotAnOption @jabe8 And Tesla is doing just fine, objectively.', '@yoshi_sudarso @Tesla Congrats on the new car!', 'Tesla builds an energy product offering that covers everything from energy production, with its solar products, to energy storage, with its Powerwall, to energy consumption, with its electric vehicles.\\n\\nA perfect customer for the company would own all of those products', '@The_Amish_Tesla The world may never know', \"@CGasparino @carney I check your post for your comedy and your Insight. To be honest, my eyes glaze over when you mention Fannie Mae or Tesla or GSA or whatever you're droning on about lately.\", \"Musk says the tech is 'mind-bogglingly stupid,' but hydrogen cars may test Tesla @CNBC  https://t.co/GfzcwEF41k\", \"@The_Amish_Tesla Sounds like she's right up my alley\", '@elonmusk @Tesla could define a media API for playback control, browsing and discovery.\\n\\nThen @AppleMusic, @Spotify, @TIDAL would implement it, and users could activate whatever service they prefer.\\n\\nMaybe existing @Sonos APIs could be reused with a different client key', 'an Insta food-influencer I follow is on a road trip, rented a Tesla and has been struggling with charging. Finding working chargers, had to charge using regular chargers to get to a supercharger. Hours at a Subway etc. Their struggle gave me anxiety.', 'only 4 EV Charging Stations at Epcot Center. @waltdisneyworld Where are the Superchargers @teslamotors Elon...help! @elonmusk These parks see a lot of Tesla Owners everyday. #tesla #teslasupercharger #teslaowner #epcot #waltdisneyworld #teslamotors #teslamodel3 https://t.co/NNajv2uJ2p']\n",
            "['https://t.co/NtHxj1pYUj 10 Future Tesla Models to Expect\\n\\nhttps://t.co/JOc60yrX24', \"@ClarkDennisM Soon as I'm ready, Panasonic has my biz. Those panels are nice. I won't be getting Tesla branded.\", '@Trumpery45 I can’t think of one post that more perfectly describes a Tesla owner than that.  +1 internets to you, sir!', 'TIL that physicist Nikola Tesla once paid an overdue hotel bill with a box containing a working model of his ‘death beam‘, warning employees never to open it because of the danger. They hid the box &amp; when it was discovered years later &amp; opened, found to … https://t.co/0ACts4s6gY', 'Tesla has two models on display on the first floor of the Wisconsin\\xa0Center\\xa0— Model X and Model 3. https://t.co/qCjGfKub0B', '@jarvok01 @SkyNewsAust @rowandean @Tesla Good point my friend that’s another issue water maybe we should look to preserve all the water from North Queensland instead of it going to sea', 'TIL that physicist Nikola Tesla once paid an overdue hotel bill with a box containing a working model of his ‘death beam‘, warning employees never to open it because of the danger. They hid the box &amp; when it was discovered years… https://t.co/D1vmv5Q5SR https://t.co/LoBWGC3lpB', '@WPipperger I agree that Elon has some troubling problems with sticking to the facts . Seems compulsive &amp; very strange .\\nBut he does get shit done Wolfie , while we are chatting here Tesla has become a ( for now ) 25 billion company which is impressive if demand keeps up . ( if )', '@Tesla can you make Ebikes please!!!', '@MJ_Reports @markbspiegel @Tesla @SanelaWPLG Rip. Prayers to the family.']\n",
            "['Elon Musk\\'s troubles with the SEC renewed … The Commission asking a court to hold Musk in contempt for his inaccurate tweet about Tesla producing \"around 500k\" in 2019. https://t.co/xsGRAsoUv8', 'And so we shall see the fall of Elon Musk. #Tesla', 'Faze Banks has a stupid, absurd amount of money. Dude’s ink alone is worth at least as much as a Tesla.', '@Tesla @elonmusk I park my X in the smaller garage and would like the mirrors to auto close OR have some alert if both the rear mirrors are about to touch the garage sides when entering. Idea1', 'The SEC isn\\'t messing around, cites Elon\\'s comments on 60 Minutes that \"we might make mistakes\" and that \"I do not respect the SEC\" in its filing: SEC asks judge to hold Tesla’s Elon Musk in contempt, saying he violated agreement on social media posts https://t.co/J2BtcBSJb1', '@BJafari Another Tesla tax. This is becoming impossible. https://t.co/QCPjJr2Rk3', 'Tesla (TSLA) stock plunges on SEC reportedly saying Elon Musk is violating their deal over\\xa0tweet https://t.co/95d21Kmg79 https://t.co/6bve2wVBo8', 'Stock market regulators ask federal court to hold @Tesla CEO Elon Musk in contempt for violating settlement about tweets.', \"@elonmusk OK so just today I've seen 10+ tesla in just one hour so that pretty cool to see that in France some people made good choices\", 'Tesla trumps Audi and Jaguar EVs in independent efficiency test https://t.co/9BPoShkrO8']\n",
            "['@ChooSparky @Tesla Bravo mate!', '@elonmusk Alaska is a state where we could be completely green, but we rely mostly on diesel fuel generators and heating oil. How can Tesla enrich the energy needs of rural Alaskans, or Alaska as a whole?', '@GerberKawasaki @mayemusk @business @Tesla @cleantechnica @MikeBloomberg The question all of America should ask \\n\\n\"Is SEC fair to Tesla Shareholders?\"\\n\\nWhatever SEC is doing is helping Shorts not actual Tesla Shareholders. Elon only compared 2011 to 2019. Did not give any new guidance (Hint:Q4)\\n\\nI was able to get that\\n\\nWhy didn\\'t SEC get that?\\n\\nWHY?', 'こういう事故が起こるリスクを承知でTeslaに乗りたいですか？という話。僕は乗りたくないです。安全に対する意識が低すぎる。 https://t.co/MfOmkPAf7u', '@music_theories @newburycomics @OfficialYJM Got it!!!!!  Thank you for posting this:)  grabbed the autographed Tesla too:)', \"Why can't shareholders sue the @SEC_Enforcement for what they do to us shareholders because of their false claims  ? @elonmusk @danahull @Tesla\", '@Tweetermeyer @carl_haggard More realistic to use matrix of electricity production, average thermo efficiency, CO2 emissions of each source. My guess is no net decrease in CO2 with Tesla. Coal fired plants not efficient, emit CO2 and rapidly spreading in China. There are no zero CO2 emission power sources.', '“Ofrecer alimentación es una tortura”.- (sic) diplomático de Rusia...\\n\\nTesla apúrate pa’ ver si refundamos otro planeta', '#Apple #Google #Netflix #Facebook #NVIDIA #Amazon #TSLA #Tesla #Alibaba #Baidu #Twitter $SPX $TSLA $HD $BA $AMZN $M $GE $T $CAT $FB $AAPL $GOOGL $GOOG $ETSY $FCAU $WMT $SJM  \\n\\nMajor News : Bull and Bear\\n\\nhttps://t.co/zp74lMixkd https://t.co/KV7cBenhRO', 'A white boy in my graphic design class came in flexing his Tesla like okay sis why are you here if you already have money']\n",
            "['@honter @1395FIVEaa @MatthewPantelis Had it been a Tesla, would have been front page news', '@elonmusk Does actually Tesla car can charge  the vehicle with Sunlight and can resist an EMP attack?', '@CaseyNeistat Either the conventional trucks block the supercharging stations or they block the Tesla doors', \"Is Elon Musk's Clash With the SEC a Big Deal for Tesla Stock? It Doesn't Seem That Way. https://t.co/nJqJe5fNml\", '@tesla_raj Possibly Musk won’t be CEO with the SEC violation :-(', 'And vocal Tesla fan, forum participant (moderator? owner?)', '@tesla_truth @bonnienorman Wasn’t Supercharging Originally a $2,500 option?', '@goose2448 @MackTrucks Well there you go they similar they all are. Nobody has quite reinvented the wheel yet when it comes to dashes. Maybe Tesla will have one big touch screen like star trek next generation.', 'Tesla and SpaceX cofounder Elon Musk has some fancy tech at home. https://t.co/Ky85Vcbbvj https://t.co/juEoKrLQ1g', '@TeslaJoy @tesla_unplugged So dizzy! lol']\n",
            "['@RadmanMoshe @Tesla @elonmusk Well,there was a time when Sears sold cars from their catalogue. Early 1900’s. It should work well online.', '@ContrarianShort @CGasparino @Tesla @elonmusk Tesla is the new Theranos', 'Videodreh für die #InnoDays19 von @OTTO_de mit @Tesla #ModelS von @UFODriveTweets. Seid gespannt! #Hackathon #PassengerCommerce https://t.co/uJAHNHoaTT', 'With Tesla delivering Model 3 Standard months earlier than I had expected, 2019 production and deliveries could exceed previous guidance.\\n\\n$TSLA', '@Tesla When does this come to Australia', 'Tesla Will Close Most of Its Stores, Only Sell Cars Online https://t.co/Fef25P53qO', 'The $35,000 Tesla Model 3 has arrived — but it comes with a price https://t.co/SzaRVymZvN https://t.co/gIoHUmND8e', 'Tesla Launches Base Model 3 For $35,000 With Shorter Range, New Interior https://t.co/Vsae2nxe7b', 'You can finally order a $35,000 Tesla Model 3 https://t.co/leUFg5M757 https://t.co/W8nYpZPugw', 'Tesla’s Model 3 Is Now Selling for $35,000 https://t.co/dICp5MkxED #Transportation #TransportationCarNews https://t.co/H5V1oFi16i']\n",
            "['@50bips @Lebeaucarnews Don’t tell Bob Lutz... his interview on TV today was basically an advertisement for Tesla.  He is soooo out of touch, his bashing just proves the point!', \"@skabooshka It's amazing, isn't it. What I don't understand about the Tesla cult is that you seem to have a large group there of absolute nitwits who seem to have an abundance of money. How does that work?\", '@elonmusk @annerajb @rowdystew @M3Exp Is March 15 also the date for some other big Tesla news. Perhaps a new reveal? maybe a very sexY new car? 😉', '.#Tesla lowers Model S and Model X prices $12,000 to $18,000 https://t.co/U59Q0AGvw9', '@Thinknoodles @Tesla @Thinkswife ;)', '@ElonAccessories @Tesla @elonmusk Thank you 🤗', \"@ThomasMcgukin @Tesla I'm an early adopter. Still very happy with my choice and very happy to see the M3 become more affordable. I own Tesla stock and buy more shares we have these brief price drops. I think you are very wrong.\", '@ManMadeMoon @FullyChargedDan Maybe current Tesla owners are ok with becoming brand-ambassadors and having randos looking and touching their very expensive cars.  Rich people are known to be a very approachable bunch!', 'The $35K Tesla Model 3 Is Finally Available https://t.co/dBeF1BmuRL via @motortrend #Tesla', '@efeatherston @BMWUSA @Tesla @MercedesBenz @Audi @Honda @VW @Toyota @Jeep @Ford @NissanUSA Nice. This must be a feature of 2018/2019 cars (some of them at least)']\n",
            "['11/ My point is: Wouldn’t be unthinkable  that more taxpayer money gets wasted on Tesla, and the current strategy ensures a high number of victims: voters who can’t afford a high price car, but maybe $35K.', '1/ Quick take about the recent developments in $tsla / $tslaq / #tesla.\\n\\nA friend of mine worked as management consultant in restructuring. They always said:\\n\\n“Cash is king. But equity is King Kong.”', 'https://t.co/F3RzNu5QlP   Second federal agency to probe fatal Florida Tesla crash', 'The National Highway Traffic Safety Administration (NHTSA) said it is investigating a fatal Tesla Inc Model S crash in Davie, Florida last Sunday that killed the driver and resulted in a massive vehicle fire, the second fatal crash this week the agency i… https://t.co/I5lmtJnMll', '@DoucetSt @yimboz @nico_rosberg @elonmusk @Tesla Yep! After I got my Model 3 I sold my Porsche of 19.5 years. Still love Porsche, but Tesla more. Hoping Porsche catches up soon.', \"@zaoyang One of the main point is off the table. I am referring to the $920m in debt that was due. It has been paid. Let's see how 2019 shapes up for Tesla. I think the company will be fine! I may be wrong but I doubt it!\", 'Two fatal Tesla crashes prompt investigation https://t.co/9xPV6Urqg8 https://t.co/Lrf4MyMEsK', 'BREAKING Two fatal Tesla crashes prompt investigation https://t.co/h9Py4cnEol https://t.co/foU5YVplxe', 'Tesla slashes retail employee compensation, seemingly pushing them out instead of layoffs - Electrek https://t.co/dg2JYCHNmR', '@eddiemac3356 @ex_Tesla @2170cell @elonmusk Monthly $50s will be sub 10 cents every month.  Divide total planner short into 48 parts. Buy 1/48th every month.  When the fbi raid for shutting down fraud comes the $45 unfilled gap will fill. You’ll make millions on a small trade. Low risk high return. Click buy- kick back 👍🏼']\n",
            "['https://t.co/bT0TJBbOmq - Tesla will finally unveil its new Model Y crossover SUV https://t.co/f0lBq1s0SK', 'Tesla will finally unveil its new Model Y crossover SUV https://t.co/L0gM6fzs9z https://t.co/JeSbyJ4zG3', '@NemesisGG Tesla model x', '@elonmusk DO YOU SELL USED TESLA VEHICLES AN HOW WOULD I PURCHASE AN GET SERVICE FOR A TESLA VEHICLE', 'El Tesla Model Y se lanzará el próximo 14 de marzo https://t.co/sLdAM0AeGL https://t.co/TrgCw6yU0H', '@elonmusk @flcnhvy @Mariano_Oscos @Tesla  glad theres no falcon wing doors on model Y, it would be nice to have sliding doors though', 'Tesla Model Y 14 Mart’ta tanıtılıyor https://t.co/BhoBOjcAnB #elektrikli #electriccars #electriccar #elektrikliotomobil #Tesla #ModelY #Model3 #S3XY', \"Two federal agencies, National Highway Traffic Safety Administration (@NHTSAgov) &amp; National Transportation Safety Board (@NTSB ), investigating fatal Tesla crash in Florida. Was #Tesla's Autopilot (SAE Level 2) engaged when the car hit a tractor trailer? https://t.co/fRpTksHik0\", '@CNET @elonmusk @Tesla', \"@Analyst_G Idk if it's true for others but in my experience I got my 1k deposit smooth in 3 days without any problems. Yes. I have the records. @business @elonmusk @Tesla\"]\n"
          ]
        }
      ]
    },
    {
      "cell_type": "code",
      "source": [
        "import nltk\n",
        "nltk.download('vader_lexicon')"
      ],
      "metadata": {
        "colab": {
          "base_uri": "https://localhost:8080/"
        },
        "id": "2TdNpt2JRthT",
        "outputId": "d885bf65-bae6-46a9-df53-d8f7abd3e53e"
      },
      "execution_count": null,
      "outputs": [
        {
          "output_type": "stream",
          "name": "stderr",
          "text": [
            "[nltk_data] Downloading package vader_lexicon to /root/nltk_data...\n"
          ]
        },
        {
          "output_type": "execute_result",
          "data": {
            "text/plain": [
              "True"
            ]
          },
          "metadata": {},
          "execution_count": 13
        }
      ]
    },
    {
      "cell_type": "markdown",
      "source": [
        "The compound score in VADER sentiment analysis ranges from -1 to +1. It represents the overall sentiment of a given text or sentence.\n",
        "\n",
        "The compound score can be interpreted as follows:\n",
        "\n",
        "Positive sentiment: Compound score greater than or equal to 0.05\n",
        "Neutral sentiment: Compound score between -0.05 and 0.05\n",
        "Negative sentiment: Compound score less than or equal to -0.05\n",
        "but in the study i choosed to use the compound score to be more precise"
      ],
      "metadata": {
        "id": "x32fi1BBkqwf"
      }
    },
    {
      "cell_type": "code",
      "source": [
        "from nltk.sentiment import SentimentIntensityAnalyzer\n",
        "sia = SentimentIntensityAnalyzer()"
      ],
      "metadata": {
        "id": "sgIaNKI9Rx7N"
      },
      "execution_count": null,
      "outputs": []
    },
    {
      "cell_type": "code",
      "source": [
        "#sentiment_scores = sia.polarity_scores(a)\n",
        "#sentiment_scores['compound']"
      ],
      "metadata": {
        "id": "yah7KiGOR2on"
      },
      "execution_count": null,
      "outputs": []
    },
    {
      "cell_type": "code",
      "source": [
        "polarity_score=[]\n",
        "for j in range(num_days):\n",
        "  x=0\n",
        "  for i in range(num_tweets):\n",
        "    x = x + (sia.polarity_scores(final[j][i]))['compound']\n",
        "  polarity_score.append(x/10)\n",
        "print(polarity_score)"
      ],
      "metadata": {
        "colab": {
          "base_uri": "https://localhost:8080/"
        },
        "id": "6rsbUbLjTFIb",
        "outputId": "cb49071d-100f-484f-a3e0-a2afde6ba77c"
      },
      "execution_count": null,
      "outputs": [
        {
          "output_type": "stream",
          "name": "stdout",
          "text": [
            "[0.09634999999999999, 0.31663, 0.38682, 0.16441999999999998, 0.34246999999999994, 0.16113, 0.17020000000000002, -0.06887000000000001, 0.27842, 0.0028800000000000015, 0.39843, -0.020610000000000007, 0.19168, 0.07465000000000002, 0.24808000000000002, 0.017970000000000003, 0.18380000000000002, 0.17407, 0.03279999999999999, 0.09406, -0.03585999999999999, 0.20872000000000002, 0.20121000000000003, 0.04694999999999999, -0.16823, 0.1323, -0.06256999999999999, -0.03628, 0.36289, -0.37828, 0.10085]\n"
          ]
        }
      ]
    },
    {
      "cell_type": "code",
      "source": [
        "len(polarity_score)\n",
        "len(final)"
      ],
      "metadata": {
        "colab": {
          "base_uri": "https://localhost:8080/"
        },
        "id": "VjREEHP8ZXXI",
        "outputId": "bb9c3fe3-e59f-47c2-dd5c-98ad31db7ace"
      },
      "execution_count": null,
      "outputs": [
        {
          "output_type": "execute_result",
          "data": {
            "text/plain": [
              "31"
            ]
          },
          "metadata": {},
          "execution_count": 45
        }
      ]
    },
    {
      "cell_type": "markdown",
      "source": [
        "### LSTM multivariate"
      ],
      "metadata": {
        "id": "A2H3VQe3PsDW"
      }
    },
    {
      "cell_type": "code",
      "source": [],
      "metadata": {
        "id": "4xkCK4eGPrEl"
      },
      "execution_count": null,
      "outputs": []
    }
  ]
}