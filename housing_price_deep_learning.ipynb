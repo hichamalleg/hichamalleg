{
  "nbformat": 4,
  "nbformat_minor": 0,
  "metadata": {
    "colab": {
      "provenance": [],
      "authorship_tag": "ABX9TyMtJ62mtBaYKLwUnZixnJeJ",
      "include_colab_link": true
    },
    "kernelspec": {
      "name": "python3",
      "display_name": "Python 3"
    },
    "language_info": {
      "name": "python"
    }
  },
  "cells": [
    {
      "cell_type": "markdown",
      "metadata": {
        "id": "view-in-github",
        "colab_type": "text"
      },
      "source": [
        "<a href=\"https://colab.research.google.com/github/hichamalleg/hichamalleg/blob/main/housing_price_deep_learning.ipynb\" target=\"_parent\"><img src=\"https://colab.research.google.com/assets/colab-badge.svg\" alt=\"Open In Colab\"/></a>"
      ]
    },
    {
      "cell_type": "code",
      "execution_count": null,
      "metadata": {
        "id": "fywPHcenIeQT"
      },
      "outputs": [],
      "source": [
        "import pandas as pd\n",
        "import numpy as np\n",
        "from sklearn.model_selection import train_test_split\n",
        "from keras.models import Sequential\n",
        "from keras.layers import Dense\n",
        "from keras.utils import to_categorical\n",
        "from sklearn.preprocessing import LabelEncoder"
      ]
    },
    {
      "cell_type": "code",
      "source": [
        "data = pd.read_csv('housing.csv')"
      ],
      "metadata": {
        "id": "m0SIjDauIulS"
      },
      "execution_count": null,
      "outputs": []
    },
    {
      "cell_type": "code",
      "source": [
        "data.head()"
      ],
      "metadata": {
        "colab": {
          "base_uri": "https://localhost:8080/",
          "height": 270
        },
        "id": "HItT-x4VJCXp",
        "outputId": "a2c90b83-6df2-4c8a-995c-5146b377aecd"
      },
      "execution_count": null,
      "outputs": [
        {
          "output_type": "execute_result",
          "data": {
            "text/plain": [
              "   longitude  latitude  housing_median_age  total_rooms  total_bedrooms  \\\n",
              "0    -122.23     37.88                41.0        880.0           129.0   \n",
              "1    -122.22     37.86                21.0       7099.0          1106.0   \n",
              "2    -122.24     37.85                52.0       1467.0           190.0   \n",
              "3    -122.25     37.85                52.0       1274.0           235.0   \n",
              "4    -122.25     37.85                52.0       1627.0           280.0   \n",
              "\n",
              "   population  households  median_income  median_house_value ocean_proximity  \n",
              "0       322.0       126.0         8.3252            452600.0        NEAR BAY  \n",
              "1      2401.0      1138.0         8.3014            358500.0        NEAR BAY  \n",
              "2       496.0       177.0         7.2574            352100.0        NEAR BAY  \n",
              "3       558.0       219.0         5.6431            341300.0        NEAR BAY  \n",
              "4       565.0       259.0         3.8462            342200.0        NEAR BAY  "
            ],
            "text/html": [
              "\n",
              "  <div id=\"df-16d03cae-1de1-4ac9-b176-d3eba7e5d1ce\">\n",
              "    <div class=\"colab-df-container\">\n",
              "      <div>\n",
              "<style scoped>\n",
              "    .dataframe tbody tr th:only-of-type {\n",
              "        vertical-align: middle;\n",
              "    }\n",
              "\n",
              "    .dataframe tbody tr th {\n",
              "        vertical-align: top;\n",
              "    }\n",
              "\n",
              "    .dataframe thead th {\n",
              "        text-align: right;\n",
              "    }\n",
              "</style>\n",
              "<table border=\"1\" class=\"dataframe\">\n",
              "  <thead>\n",
              "    <tr style=\"text-align: right;\">\n",
              "      <th></th>\n",
              "      <th>longitude</th>\n",
              "      <th>latitude</th>\n",
              "      <th>housing_median_age</th>\n",
              "      <th>total_rooms</th>\n",
              "      <th>total_bedrooms</th>\n",
              "      <th>population</th>\n",
              "      <th>households</th>\n",
              "      <th>median_income</th>\n",
              "      <th>median_house_value</th>\n",
              "      <th>ocean_proximity</th>\n",
              "    </tr>\n",
              "  </thead>\n",
              "  <tbody>\n",
              "    <tr>\n",
              "      <th>0</th>\n",
              "      <td>-122.23</td>\n",
              "      <td>37.88</td>\n",
              "      <td>41.0</td>\n",
              "      <td>880.0</td>\n",
              "      <td>129.0</td>\n",
              "      <td>322.0</td>\n",
              "      <td>126.0</td>\n",
              "      <td>8.3252</td>\n",
              "      <td>452600.0</td>\n",
              "      <td>NEAR BAY</td>\n",
              "    </tr>\n",
              "    <tr>\n",
              "      <th>1</th>\n",
              "      <td>-122.22</td>\n",
              "      <td>37.86</td>\n",
              "      <td>21.0</td>\n",
              "      <td>7099.0</td>\n",
              "      <td>1106.0</td>\n",
              "      <td>2401.0</td>\n",
              "      <td>1138.0</td>\n",
              "      <td>8.3014</td>\n",
              "      <td>358500.0</td>\n",
              "      <td>NEAR BAY</td>\n",
              "    </tr>\n",
              "    <tr>\n",
              "      <th>2</th>\n",
              "      <td>-122.24</td>\n",
              "      <td>37.85</td>\n",
              "      <td>52.0</td>\n",
              "      <td>1467.0</td>\n",
              "      <td>190.0</td>\n",
              "      <td>496.0</td>\n",
              "      <td>177.0</td>\n",
              "      <td>7.2574</td>\n",
              "      <td>352100.0</td>\n",
              "      <td>NEAR BAY</td>\n",
              "    </tr>\n",
              "    <tr>\n",
              "      <th>3</th>\n",
              "      <td>-122.25</td>\n",
              "      <td>37.85</td>\n",
              "      <td>52.0</td>\n",
              "      <td>1274.0</td>\n",
              "      <td>235.0</td>\n",
              "      <td>558.0</td>\n",
              "      <td>219.0</td>\n",
              "      <td>5.6431</td>\n",
              "      <td>341300.0</td>\n",
              "      <td>NEAR BAY</td>\n",
              "    </tr>\n",
              "    <tr>\n",
              "      <th>4</th>\n",
              "      <td>-122.25</td>\n",
              "      <td>37.85</td>\n",
              "      <td>52.0</td>\n",
              "      <td>1627.0</td>\n",
              "      <td>280.0</td>\n",
              "      <td>565.0</td>\n",
              "      <td>259.0</td>\n",
              "      <td>3.8462</td>\n",
              "      <td>342200.0</td>\n",
              "      <td>NEAR BAY</td>\n",
              "    </tr>\n",
              "  </tbody>\n",
              "</table>\n",
              "</div>\n",
              "      <button class=\"colab-df-convert\" onclick=\"convertToInteractive('df-16d03cae-1de1-4ac9-b176-d3eba7e5d1ce')\"\n",
              "              title=\"Convert this dataframe to an interactive table.\"\n",
              "              style=\"display:none;\">\n",
              "        \n",
              "  <svg xmlns=\"http://www.w3.org/2000/svg\" height=\"24px\"viewBox=\"0 0 24 24\"\n",
              "       width=\"24px\">\n",
              "    <path d=\"M0 0h24v24H0V0z\" fill=\"none\"/>\n",
              "    <path d=\"M18.56 5.44l.94 2.06.94-2.06 2.06-.94-2.06-.94-.94-2.06-.94 2.06-2.06.94zm-11 1L8.5 8.5l.94-2.06 2.06-.94-2.06-.94L8.5 2.5l-.94 2.06-2.06.94zm10 10l.94 2.06.94-2.06 2.06-.94-2.06-.94-.94-2.06-.94 2.06-2.06.94z\"/><path d=\"M17.41 7.96l-1.37-1.37c-.4-.4-.92-.59-1.43-.59-.52 0-1.04.2-1.43.59L10.3 9.45l-7.72 7.72c-.78.78-.78 2.05 0 2.83L4 21.41c.39.39.9.59 1.41.59.51 0 1.02-.2 1.41-.59l7.78-7.78 2.81-2.81c.8-.78.8-2.07 0-2.86zM5.41 20L4 18.59l7.72-7.72 1.47 1.35L5.41 20z\"/>\n",
              "  </svg>\n",
              "      </button>\n",
              "      \n",
              "  <style>\n",
              "    .colab-df-container {\n",
              "      display:flex;\n",
              "      flex-wrap:wrap;\n",
              "      gap: 12px;\n",
              "    }\n",
              "\n",
              "    .colab-df-convert {\n",
              "      background-color: #E8F0FE;\n",
              "      border: none;\n",
              "      border-radius: 50%;\n",
              "      cursor: pointer;\n",
              "      display: none;\n",
              "      fill: #1967D2;\n",
              "      height: 32px;\n",
              "      padding: 0 0 0 0;\n",
              "      width: 32px;\n",
              "    }\n",
              "\n",
              "    .colab-df-convert:hover {\n",
              "      background-color: #E2EBFA;\n",
              "      box-shadow: 0px 1px 2px rgba(60, 64, 67, 0.3), 0px 1px 3px 1px rgba(60, 64, 67, 0.15);\n",
              "      fill: #174EA6;\n",
              "    }\n",
              "\n",
              "    [theme=dark] .colab-df-convert {\n",
              "      background-color: #3B4455;\n",
              "      fill: #D2E3FC;\n",
              "    }\n",
              "\n",
              "    [theme=dark] .colab-df-convert:hover {\n",
              "      background-color: #434B5C;\n",
              "      box-shadow: 0px 1px 3px 1px rgba(0, 0, 0, 0.15);\n",
              "      filter: drop-shadow(0px 1px 2px rgba(0, 0, 0, 0.3));\n",
              "      fill: #FFFFFF;\n",
              "    }\n",
              "  </style>\n",
              "\n",
              "      <script>\n",
              "        const buttonEl =\n",
              "          document.querySelector('#df-16d03cae-1de1-4ac9-b176-d3eba7e5d1ce button.colab-df-convert');\n",
              "        buttonEl.style.display =\n",
              "          google.colab.kernel.accessAllowed ? 'block' : 'none';\n",
              "\n",
              "        async function convertToInteractive(key) {\n",
              "          const element = document.querySelector('#df-16d03cae-1de1-4ac9-b176-d3eba7e5d1ce');\n",
              "          const dataTable =\n",
              "            await google.colab.kernel.invokeFunction('convertToInteractive',\n",
              "                                                     [key], {});\n",
              "          if (!dataTable) return;\n",
              "\n",
              "          const docLinkHtml = 'Like what you see? Visit the ' +\n",
              "            '<a target=\"_blank\" href=https://colab.research.google.com/notebooks/data_table.ipynb>data table notebook</a>'\n",
              "            + ' to learn more about interactive tables.';\n",
              "          element.innerHTML = '';\n",
              "          dataTable['output_type'] = 'display_data';\n",
              "          await google.colab.output.renderOutput(dataTable, element);\n",
              "          const docLink = document.createElement('div');\n",
              "          docLink.innerHTML = docLinkHtml;\n",
              "          element.appendChild(docLink);\n",
              "        }\n",
              "      </script>\n",
              "    </div>\n",
              "  </div>\n",
              "  "
            ]
          },
          "metadata": {},
          "execution_count": 48
        }
      ]
    },
    {
      "cell_type": "code",
      "source": [
        "data.columns"
      ],
      "metadata": {
        "colab": {
          "base_uri": "https://localhost:8080/"
        },
        "id": "amCyNSdkKzoP",
        "outputId": "73df29a1-66a4-4c55-872f-314e966fd897"
      },
      "execution_count": null,
      "outputs": [
        {
          "output_type": "execute_result",
          "data": {
            "text/plain": [
              "Index(['longitude', 'latitude', 'housing_median_age', 'total_rooms',\n",
              "       'total_bedrooms', 'population', 'households', 'median_income',\n",
              "       'median_house_value', 'ocean_proximity'],\n",
              "      dtype='object')"
            ]
          },
          "metadata": {},
          "execution_count": 49
        }
      ]
    },
    {
      "cell_type": "code",
      "source": [
        "data.info()"
      ],
      "metadata": {
        "colab": {
          "base_uri": "https://localhost:8080/"
        },
        "id": "v1UhQzVWLISY",
        "outputId": "62ed7f15-8020-437e-804b-21a3826cd72e"
      },
      "execution_count": null,
      "outputs": [
        {
          "output_type": "stream",
          "name": "stdout",
          "text": [
            "<class 'pandas.core.frame.DataFrame'>\n",
            "RangeIndex: 20640 entries, 0 to 20639\n",
            "Data columns (total 10 columns):\n",
            " #   Column              Non-Null Count  Dtype  \n",
            "---  ------              --------------  -----  \n",
            " 0   longitude           20640 non-null  float64\n",
            " 1   latitude            20640 non-null  float64\n",
            " 2   housing_median_age  20640 non-null  float64\n",
            " 3   total_rooms         20640 non-null  float64\n",
            " 4   total_bedrooms      20433 non-null  float64\n",
            " 5   population          20640 non-null  float64\n",
            " 6   households          20640 non-null  float64\n",
            " 7   median_income       20640 non-null  float64\n",
            " 8   median_house_value  20640 non-null  float64\n",
            " 9   ocean_proximity     20640 non-null  object \n",
            "dtypes: float64(9), object(1)\n",
            "memory usage: 1.6+ MB\n"
          ]
        }
      ]
    },
    {
      "cell_type": "code",
      "source": [
        "encoder = LabelEncoder()\n",
        "data.ocean_proximity = encoder.fit_transform(data.ocean_proximity)"
      ],
      "metadata": {
        "id": "fECW3JKmMN5u"
      },
      "execution_count": null,
      "outputs": []
    },
    {
      "cell_type": "code",
      "source": [
        "data.isnull().sum()"
      ],
      "metadata": {
        "colab": {
          "base_uri": "https://localhost:8080/"
        },
        "id": "1sRGT0eSNIwX",
        "outputId": "2e7bd6b8-d64d-4b52-f40c-65d6d069b387"
      },
      "execution_count": null,
      "outputs": [
        {
          "output_type": "execute_result",
          "data": {
            "text/plain": [
              "longitude               0\n",
              "latitude                0\n",
              "housing_median_age      0\n",
              "total_rooms             0\n",
              "total_bedrooms        207\n",
              "population              0\n",
              "households              0\n",
              "median_income           0\n",
              "median_house_value      0\n",
              "ocean_proximity         0\n",
              "dtype: int64"
            ]
          },
          "metadata": {},
          "execution_count": 52
        }
      ]
    },
    {
      "cell_type": "code",
      "source": [
        "data.total_bedrooms.fillna(data.total_bedrooms.mean(), inplace=True)"
      ],
      "metadata": {
        "id": "x36GZESRNTaf"
      },
      "execution_count": null,
      "outputs": []
    },
    {
      "cell_type": "code",
      "source": [
        "data.isnull().sum()"
      ],
      "metadata": {
        "colab": {
          "base_uri": "https://localhost:8080/"
        },
        "id": "FsPQiuYcOvcv",
        "outputId": "5c34d47e-1b26-476e-eb97-bc3e66a06491"
      },
      "execution_count": null,
      "outputs": [
        {
          "output_type": "execute_result",
          "data": {
            "text/plain": [
              "longitude             0\n",
              "latitude              0\n",
              "housing_median_age    0\n",
              "total_rooms           0\n",
              "total_bedrooms        0\n",
              "population            0\n",
              "households            0\n",
              "median_income         0\n",
              "median_house_value    0\n",
              "ocean_proximity       0\n",
              "dtype: int64"
            ]
          },
          "metadata": {},
          "execution_count": 54
        }
      ]
    },
    {
      "cell_type": "code",
      "source": [
        "x = data.drop('median_house_value',axis = 1).values\n",
        "y = data.median_house_value.values"
      ],
      "metadata": {
        "id": "evV2c9SlO29c"
      },
      "execution_count": null,
      "outputs": []
    },
    {
      "cell_type": "code",
      "source": [
        "x_train , x_test , y_train , y_test = train_test_split(x,y,test_size = 0.2)"
      ],
      "metadata": {
        "id": "_LlvBUpaSK2G"
      },
      "execution_count": null,
      "outputs": []
    },
    {
      "cell_type": "code",
      "source": [
        "from sklearn.preprocessing import StandardScaler\n",
        "from sklearn.metrics import r2_score\n",
        "scaler = StandardScaler()\n",
        "x_train_stand = scaler.fit_transform(x_train)\n",
        "x_test_stand = scaler.transform(x_test)"
      ],
      "metadata": {
        "id": "BOvQGttySz_l"
      },
      "execution_count": null,
      "outputs": []
    },
    {
      "cell_type": "code",
      "source": [
        "model = Sequential([\n",
        "    Dense(32,'relu',input_dim =9 ),\n",
        "    Dense(16,'relu'),\n",
        "    Dense(1,'linear')\n",
        "])\n",
        "model.summary()"
      ],
      "metadata": {
        "colab": {
          "base_uri": "https://localhost:8080/"
        },
        "id": "o2Ql2a57QeSn",
        "outputId": "72a3ca89-6068-4323-c582-656f65e5bc35"
      },
      "execution_count": null,
      "outputs": [
        {
          "output_type": "stream",
          "name": "stdout",
          "text": [
            "Model: \"sequential_1\"\n",
            "_________________________________________________________________\n",
            " Layer (type)                Output Shape              Param #   \n",
            "=================================================================\n",
            " dense_3 (Dense)             (None, 32)                320       \n",
            "                                                                 \n",
            " dense_4 (Dense)             (None, 16)                528       \n",
            "                                                                 \n",
            " dense_5 (Dense)             (None, 1)                 17        \n",
            "                                                                 \n",
            "=================================================================\n",
            "Total params: 865\n",
            "Trainable params: 865\n",
            "Non-trainable params: 0\n",
            "_________________________________________________________________\n"
          ]
        }
      ]
    },
    {
      "cell_type": "code",
      "source": [
        "from keras import backend as K\n",
        "def r2_keras(y_true, y_pred):\n",
        "    y_true = K.flatten(y_true)\n",
        "    y_pred = K.flatten(y_pred)\n",
        "    SS_res =  K.sum(K.square(y_true - y_pred))\n",
        "    SS_tot = K.sum(K.square(y_true - K.mean(y_true)))\n",
        "    return (1 - SS_res/(SS_tot + K.epsilon()))"
      ],
      "metadata": {
        "id": "yOtovufzU9oP"
      },
      "execution_count": null,
      "outputs": []
    },
    {
      "cell_type": "code",
      "source": [
        "model.compile('adam','mean_squared_error',metrics=[r2_keras])"
      ],
      "metadata": {
        "id": "_bp0U9yLRx2P"
      },
      "execution_count": null,
      "outputs": []
    },
    {
      "cell_type": "code",
      "source": [
        "model.fit(x_train,y_train,epochs=100)"
      ],
      "metadata": {
        "colab": {
          "base_uri": "https://localhost:8080/",
          "height": 1000
        },
        "id": "BJZ6hYTdSBE9",
        "outputId": "5b5b3217-0804-485c-a152-be7012513502"
      },
      "execution_count": null,
      "outputs": [
        {
          "output_type": "stream",
          "name": "stdout",
          "text": [
            "Epoch 1/100\n",
            "516/516 [==============================] - 1s 2ms/step - loss: 9609883648.0000 - r2_keras: 0.2328\n",
            "Epoch 2/100\n",
            "516/516 [==============================] - 1s 2ms/step - loss: 9502294016.0000 - r2_keras: 0.2432\n",
            "Epoch 3/100\n",
            "516/516 [==============================] - 1s 2ms/step - loss: 9417628672.0000 - r2_keras: 0.2534\n",
            "Epoch 4/100\n",
            "516/516 [==============================] - 1s 2ms/step - loss: 9311920128.0000 - r2_keras: 0.2522\n",
            "Epoch 5/100\n",
            "516/516 [==============================] - 1s 2ms/step - loss: 9228825600.0000 - r2_keras: 0.2602\n",
            "Epoch 6/100\n",
            "516/516 [==============================] - 1s 2ms/step - loss: 9134651392.0000 - r2_keras: 0.2724\n",
            "Epoch 7/100\n",
            "516/516 [==============================] - 1s 2ms/step - loss: 9052556288.0000 - r2_keras: 0.2781\n",
            "Epoch 8/100\n",
            "516/516 [==============================] - 1s 3ms/step - loss: 8936673280.0000 - r2_keras: 0.2874\n",
            "Epoch 9/100\n",
            "516/516 [==============================] - 1s 3ms/step - loss: 8857170944.0000 - r2_keras: 0.2926\n",
            "Epoch 10/100\n",
            "516/516 [==============================] - 2s 3ms/step - loss: 8745615360.0000 - r2_keras: 0.3016\n",
            "Epoch 11/100\n",
            "516/516 [==============================] - 1s 2ms/step - loss: 8653067264.0000 - r2_keras: 0.3114\n",
            "Epoch 12/100\n",
            "516/516 [==============================] - 1s 2ms/step - loss: 8583878656.0000 - r2_keras: 0.3143\n",
            "Epoch 13/100\n",
            "516/516 [==============================] - 1s 2ms/step - loss: 8491809792.0000 - r2_keras: 0.3198\n",
            "Epoch 14/100\n",
            "516/516 [==============================] - 1s 2ms/step - loss: 8396429312.0000 - r2_keras: 0.3211\n",
            "Epoch 15/100\n",
            "516/516 [==============================] - 1s 2ms/step - loss: 8315396096.0000 - r2_keras: 0.3327\n",
            "Epoch 16/100\n",
            "516/516 [==============================] - 1s 2ms/step - loss: 8234349568.0000 - r2_keras: 0.3467\n",
            "Epoch 17/100\n",
            "516/516 [==============================] - 1s 2ms/step - loss: 8154462720.0000 - r2_keras: 0.3485\n",
            "Epoch 18/100\n",
            "516/516 [==============================] - 1s 2ms/step - loss: 8066164736.0000 - r2_keras: 0.3575\n",
            "Epoch 19/100\n",
            "516/516 [==============================] - 1s 2ms/step - loss: 7995329024.0000 - r2_keras: 0.3611\n",
            "Epoch 20/100\n",
            "516/516 [==============================] - 1s 2ms/step - loss: 7931511808.0000 - r2_keras: 0.3621\n",
            "Epoch 21/100\n",
            "516/516 [==============================] - 1s 3ms/step - loss: 7831179776.0000 - r2_keras: 0.3705\n",
            "Epoch 22/100\n",
            "516/516 [==============================] - 1s 3ms/step - loss: 7752211456.0000 - r2_keras: 0.3806\n",
            "Epoch 23/100\n",
            "516/516 [==============================] - 1s 3ms/step - loss: 7675155968.0000 - r2_keras: 0.3833\n",
            "Epoch 24/100\n",
            "516/516 [==============================] - 1s 2ms/step - loss: 7606325248.0000 - r2_keras: 0.3911\n",
            "Epoch 25/100\n",
            "516/516 [==============================] - 1s 2ms/step - loss: 7536147968.0000 - r2_keras: 0.3928\n",
            "Epoch 26/100\n",
            "516/516 [==============================] - 1s 2ms/step - loss: 7484574208.0000 - r2_keras: 0.3936\n",
            "Epoch 27/100\n",
            "516/516 [==============================] - 1s 2ms/step - loss: 7386787840.0000 - r2_keras: 0.4042\n",
            "Epoch 28/100\n",
            "516/516 [==============================] - 1s 2ms/step - loss: 7321229824.0000 - r2_keras: 0.4076\n",
            "Epoch 29/100\n",
            "516/516 [==============================] - 1s 2ms/step - loss: 7230960128.0000 - r2_keras: 0.4230\n",
            "Epoch 30/100\n",
            "516/516 [==============================] - 1s 2ms/step - loss: 7167400448.0000 - r2_keras: 0.4241\n",
            "Epoch 31/100\n",
            "516/516 [==============================] - 1s 2ms/step - loss: 7101390336.0000 - r2_keras: 0.4227\n",
            "Epoch 32/100\n",
            "516/516 [==============================] - 1s 2ms/step - loss: 7013548032.0000 - r2_keras: 0.4337\n",
            "Epoch 33/100\n",
            "516/516 [==============================] - 1s 2ms/step - loss: 6956238336.0000 - r2_keras: 0.4406\n",
            "Epoch 34/100\n",
            "516/516 [==============================] - 1s 2ms/step - loss: 6868845056.0000 - r2_keras: 0.4507\n",
            "Epoch 35/100\n",
            "516/516 [==============================] - 1s 3ms/step - loss: 6823818752.0000 - r2_keras: 0.4499\n",
            "Epoch 36/100\n",
            "516/516 [==============================] - 1s 3ms/step - loss: 6745128960.0000 - r2_keras: 0.4607\n",
            "Epoch 37/100\n",
            "516/516 [==============================] - 1s 2ms/step - loss: 6662713856.0000 - r2_keras: 0.4620\n",
            "Epoch 38/100\n",
            "516/516 [==============================] - 1s 2ms/step - loss: 6571278336.0000 - r2_keras: 0.4694\n",
            "Epoch 39/100\n",
            "516/516 [==============================] - 1s 2ms/step - loss: 6526949376.0000 - r2_keras: 0.4795\n",
            "Epoch 40/100\n",
            "516/516 [==============================] - 1s 2ms/step - loss: 6417096704.0000 - r2_keras: 0.4843\n",
            "Epoch 41/100\n",
            "516/516 [==============================] - 1s 2ms/step - loss: 6354535424.0000 - r2_keras: 0.4899\n",
            "Epoch 42/100\n",
            "516/516 [==============================] - 1s 2ms/step - loss: 6297316864.0000 - r2_keras: 0.4948\n",
            "Epoch 43/100\n",
            "516/516 [==============================] - 1s 2ms/step - loss: 6202625536.0000 - r2_keras: 0.5028\n",
            "Epoch 44/100\n",
            "516/516 [==============================] - 1s 2ms/step - loss: 6125232128.0000 - r2_keras: 0.5062\n",
            "Epoch 45/100\n",
            "516/516 [==============================] - 1s 2ms/step - loss: 6073405440.0000 - r2_keras: 0.5075\n",
            "Epoch 46/100\n",
            "516/516 [==============================] - 1s 2ms/step - loss: 5984849408.0000 - r2_keras: 0.5193\n",
            "Epoch 47/100\n",
            "516/516 [==============================] - 1s 2ms/step - loss: 5926392320.0000 - r2_keras: 0.5242\n",
            "Epoch 48/100\n",
            "516/516 [==============================] - 1s 2ms/step - loss: 5873591296.0000 - r2_keras: 0.5261\n",
            "Epoch 49/100\n",
            "516/516 [==============================] - 2s 3ms/step - loss: 5806859264.0000 - r2_keras: 0.5305\n",
            "Epoch 50/100\n",
            "516/516 [==============================] - 1s 3ms/step - loss: 5724632576.0000 - r2_keras: 0.5397\n",
            "Epoch 51/100\n",
            "516/516 [==============================] - 1s 2ms/step - loss: 5675691008.0000 - r2_keras: 0.5448\n",
            "Epoch 52/100\n",
            "516/516 [==============================] - 1s 2ms/step - loss: 5632292864.0000 - r2_keras: 0.5476\n",
            "Epoch 53/100\n",
            "516/516 [==============================] - 1s 2ms/step - loss: 5562642944.0000 - r2_keras: 0.5574\n",
            "Epoch 54/100\n",
            "516/516 [==============================] - 1s 2ms/step - loss: 5558984704.0000 - r2_keras: 0.5578\n",
            "Epoch 55/100\n",
            "516/516 [==============================] - 1s 2ms/step - loss: 5468892160.0000 - r2_keras: 0.5600\n",
            "Epoch 56/100\n",
            "516/516 [==============================] - 1s 2ms/step - loss: 5424152576.0000 - r2_keras: 0.5634\n",
            "Epoch 57/100\n",
            "516/516 [==============================] - 1s 2ms/step - loss: 5374517248.0000 - r2_keras: 0.5673\n",
            "Epoch 58/100\n",
            "516/516 [==============================] - 1s 2ms/step - loss: 5353095168.0000 - r2_keras: 0.5704\n",
            "Epoch 59/100\n",
            "516/516 [==============================] - 1s 2ms/step - loss: 5309703168.0000 - r2_keras: 0.5727\n",
            "Epoch 60/100\n",
            "516/516 [==============================] - 1s 2ms/step - loss: 5317978624.0000 - r2_keras: 0.5719\n",
            "Epoch 61/100\n",
            "516/516 [==============================] - 1s 2ms/step - loss: 5243751424.0000 - r2_keras: 0.5770\n",
            "Epoch 62/100\n",
            "516/516 [==============================] - 2s 3ms/step - loss: 5204017664.0000 - r2_keras: 0.5852\n",
            "Epoch 63/100\n",
            "516/516 [==============================] - 1s 3ms/step - loss: 5190225920.0000 - r2_keras: 0.5833\n",
            "Epoch 64/100\n",
            "516/516 [==============================] - 1s 2ms/step - loss: 5170924544.0000 - r2_keras: 0.5866\n",
            "Epoch 65/100\n",
            "516/516 [==============================] - 1s 2ms/step - loss: 5117566464.0000 - r2_keras: 0.5879\n",
            "Epoch 66/100\n",
            "516/516 [==============================] - 1s 2ms/step - loss: 5128379392.0000 - r2_keras: 0.5878\n",
            "Epoch 67/100\n",
            "516/516 [==============================] - 1s 2ms/step - loss: 5092124672.0000 - r2_keras: 0.5922\n",
            "Epoch 68/100\n",
            "516/516 [==============================] - 1s 2ms/step - loss: 5087074304.0000 - r2_keras: 0.5950\n",
            "Epoch 69/100\n",
            "516/516 [==============================] - 1s 2ms/step - loss: 5078702080.0000 - r2_keras: 0.5909\n",
            "Epoch 70/100\n",
            "516/516 [==============================] - 1s 2ms/step - loss: 5048247808.0000 - r2_keras: 0.5961\n",
            "Epoch 71/100\n",
            "516/516 [==============================] - 1s 2ms/step - loss: 5041531904.0000 - r2_keras: 0.5954\n",
            "Epoch 72/100\n",
            "516/516 [==============================] - 1s 2ms/step - loss: 5004401152.0000 - r2_keras: 0.6008\n",
            "Epoch 73/100\n",
            "516/516 [==============================] - 1s 2ms/step - loss: 4986031616.0000 - r2_keras: 0.6029\n",
            "Epoch 74/100\n",
            "516/516 [==============================] - 1s 2ms/step - loss: 4965929984.0000 - r2_keras: 0.6019\n",
            "Epoch 75/100\n",
            "516/516 [==============================] - 1s 3ms/step - loss: 4981897216.0000 - r2_keras: 0.5998\n",
            "Epoch 76/100\n",
            "516/516 [==============================] - 1s 3ms/step - loss: 4949006848.0000 - r2_keras: 0.6034\n",
            "Epoch 77/100\n",
            "516/516 [==============================] - 1s 2ms/step - loss: 4930075136.0000 - r2_keras: 0.6080\n",
            "Epoch 78/100\n",
            "516/516 [==============================] - 1s 2ms/step - loss: 4947515392.0000 - r2_keras: 0.6049\n",
            "Epoch 79/100\n",
            "516/516 [==============================] - 1s 2ms/step - loss: 4910683136.0000 - r2_keras: 0.6078\n",
            "Epoch 80/100\n",
            "516/516 [==============================] - 1s 2ms/step - loss: 4936762368.0000 - r2_keras: 0.6040\n",
            "Epoch 81/100\n",
            "516/516 [==============================] - 1s 2ms/step - loss: 4923643392.0000 - r2_keras: 0.6054\n",
            "Epoch 82/100\n",
            "516/516 [==============================] - 1s 2ms/step - loss: 4926000128.0000 - r2_keras: 0.6065\n",
            "Epoch 83/100\n",
            "516/516 [==============================] - 1s 3ms/step - loss: 4896702464.0000 - r2_keras: 0.6126\n",
            "Epoch 84/100\n",
            "516/516 [==============================] - 1s 2ms/step - loss: 4891835392.0000 - r2_keras: 0.6088\n",
            "Epoch 85/100\n",
            "516/516 [==============================] - 1s 2ms/step - loss: 4903830016.0000 - r2_keras: 0.6051\n",
            "Epoch 86/100\n",
            "516/516 [==============================] - 1s 2ms/step - loss: 4890596864.0000 - r2_keras: 0.6067\n",
            "Epoch 87/100\n",
            "516/516 [==============================] - 1s 2ms/step - loss: 4876151808.0000 - r2_keras: 0.6083\n",
            "Epoch 88/100\n",
            "516/516 [==============================] - 1s 3ms/step - loss: 4864904704.0000 - r2_keras: 0.6129\n",
            "Epoch 89/100\n",
            "516/516 [==============================] - 1s 3ms/step - loss: 4845587968.0000 - r2_keras: 0.6108\n",
            "Epoch 90/100\n",
            "516/516 [==============================] - 1s 2ms/step - loss: 4829807616.0000 - r2_keras: 0.6110\n",
            "Epoch 91/100\n",
            "516/516 [==============================] - 1s 2ms/step - loss: 4850486784.0000 - r2_keras: 0.6130\n",
            "Epoch 92/100\n",
            "516/516 [==============================] - 1s 2ms/step - loss: 4842153472.0000 - r2_keras: 0.6136\n",
            "Epoch 93/100\n",
            "516/516 [==============================] - 1s 2ms/step - loss: 4830575104.0000 - r2_keras: 0.6141\n",
            "Epoch 94/100\n",
            "516/516 [==============================] - 1s 2ms/step - loss: 4833662976.0000 - r2_keras: 0.6087\n",
            "Epoch 95/100\n",
            "516/516 [==============================] - 1s 2ms/step - loss: 4832082432.0000 - r2_keras: 0.6123\n",
            "Epoch 96/100\n",
            "516/516 [==============================] - 1s 2ms/step - loss: 4803094528.0000 - r2_keras: 0.6165\n",
            "Epoch 97/100\n",
            "268/516 [==============>...............] - ETA: 0s - loss: 4859510784.0000 - r2_keras: 0.6099"
          ]
        },
        {
          "output_type": "error",
          "ename": "KeyboardInterrupt",
          "evalue": "ignored",
          "traceback": [
            "\u001b[0;31m---------------------------------------------------------------------------\u001b[0m",
            "\u001b[0;31mKeyboardInterrupt\u001b[0m                         Traceback (most recent call last)",
            "\u001b[0;32m<ipython-input-75-d80490a850f0>\u001b[0m in \u001b[0;36m<module>\u001b[0;34m\u001b[0m\n\u001b[0;32m----> 1\u001b[0;31m \u001b[0mmodel\u001b[0m\u001b[0;34m.\u001b[0m\u001b[0mfit\u001b[0m\u001b[0;34m(\u001b[0m\u001b[0mx_train\u001b[0m\u001b[0;34m,\u001b[0m\u001b[0my_train\u001b[0m\u001b[0;34m,\u001b[0m\u001b[0mepochs\u001b[0m\u001b[0;34m=\u001b[0m\u001b[0;36m100\u001b[0m\u001b[0;34m)\u001b[0m\u001b[0;34m\u001b[0m\u001b[0;34m\u001b[0m\u001b[0m\n\u001b[0m",
            "\u001b[0;32m/usr/local/lib/python3.8/dist-packages/keras/utils/traceback_utils.py\u001b[0m in \u001b[0;36merror_handler\u001b[0;34m(*args, **kwargs)\u001b[0m\n\u001b[1;32m     63\u001b[0m         \u001b[0mfiltered_tb\u001b[0m \u001b[0;34m=\u001b[0m \u001b[0;32mNone\u001b[0m\u001b[0;34m\u001b[0m\u001b[0;34m\u001b[0m\u001b[0m\n\u001b[1;32m     64\u001b[0m         \u001b[0;32mtry\u001b[0m\u001b[0;34m:\u001b[0m\u001b[0;34m\u001b[0m\u001b[0;34m\u001b[0m\u001b[0m\n\u001b[0;32m---> 65\u001b[0;31m             \u001b[0;32mreturn\u001b[0m \u001b[0mfn\u001b[0m\u001b[0;34m(\u001b[0m\u001b[0;34m*\u001b[0m\u001b[0margs\u001b[0m\u001b[0;34m,\u001b[0m \u001b[0;34m**\u001b[0m\u001b[0mkwargs\u001b[0m\u001b[0;34m)\u001b[0m\u001b[0;34m\u001b[0m\u001b[0;34m\u001b[0m\u001b[0m\n\u001b[0m\u001b[1;32m     66\u001b[0m         \u001b[0;32mexcept\u001b[0m \u001b[0mException\u001b[0m \u001b[0;32mas\u001b[0m \u001b[0me\u001b[0m\u001b[0;34m:\u001b[0m\u001b[0;34m\u001b[0m\u001b[0;34m\u001b[0m\u001b[0m\n\u001b[1;32m     67\u001b[0m             \u001b[0mfiltered_tb\u001b[0m \u001b[0;34m=\u001b[0m \u001b[0m_process_traceback_frames\u001b[0m\u001b[0;34m(\u001b[0m\u001b[0me\u001b[0m\u001b[0;34m.\u001b[0m\u001b[0m__traceback__\u001b[0m\u001b[0;34m)\u001b[0m\u001b[0;34m\u001b[0m\u001b[0;34m\u001b[0m\u001b[0m\n",
            "\u001b[0;32m/usr/local/lib/python3.8/dist-packages/keras/engine/training.py\u001b[0m in \u001b[0;36mfit\u001b[0;34m(self, x, y, batch_size, epochs, verbose, callbacks, validation_split, validation_data, shuffle, class_weight, sample_weight, initial_epoch, steps_per_epoch, validation_steps, validation_batch_size, validation_freq, max_queue_size, workers, use_multiprocessing)\u001b[0m\n\u001b[1;32m   1648\u001b[0m                         ):\n\u001b[1;32m   1649\u001b[0m                             \u001b[0mcallbacks\u001b[0m\u001b[0;34m.\u001b[0m\u001b[0mon_train_batch_begin\u001b[0m\u001b[0;34m(\u001b[0m\u001b[0mstep\u001b[0m\u001b[0;34m)\u001b[0m\u001b[0;34m\u001b[0m\u001b[0;34m\u001b[0m\u001b[0m\n\u001b[0;32m-> 1650\u001b[0;31m                             \u001b[0mtmp_logs\u001b[0m \u001b[0;34m=\u001b[0m \u001b[0mself\u001b[0m\u001b[0;34m.\u001b[0m\u001b[0mtrain_function\u001b[0m\u001b[0;34m(\u001b[0m\u001b[0miterator\u001b[0m\u001b[0;34m)\u001b[0m\u001b[0;34m\u001b[0m\u001b[0;34m\u001b[0m\u001b[0m\n\u001b[0m\u001b[1;32m   1651\u001b[0m                             \u001b[0;32mif\u001b[0m \u001b[0mdata_handler\u001b[0m\u001b[0;34m.\u001b[0m\u001b[0mshould_sync\u001b[0m\u001b[0;34m:\u001b[0m\u001b[0;34m\u001b[0m\u001b[0;34m\u001b[0m\u001b[0m\n\u001b[1;32m   1652\u001b[0m                                 \u001b[0mcontext\u001b[0m\u001b[0;34m.\u001b[0m\u001b[0masync_wait\u001b[0m\u001b[0;34m(\u001b[0m\u001b[0;34m)\u001b[0m\u001b[0;34m\u001b[0m\u001b[0;34m\u001b[0m\u001b[0m\n",
            "\u001b[0;32m/usr/local/lib/python3.8/dist-packages/tensorflow/python/util/traceback_utils.py\u001b[0m in \u001b[0;36merror_handler\u001b[0;34m(*args, **kwargs)\u001b[0m\n\u001b[1;32m    148\u001b[0m     \u001b[0mfiltered_tb\u001b[0m \u001b[0;34m=\u001b[0m \u001b[0;32mNone\u001b[0m\u001b[0;34m\u001b[0m\u001b[0;34m\u001b[0m\u001b[0m\n\u001b[1;32m    149\u001b[0m     \u001b[0;32mtry\u001b[0m\u001b[0;34m:\u001b[0m\u001b[0;34m\u001b[0m\u001b[0;34m\u001b[0m\u001b[0m\n\u001b[0;32m--> 150\u001b[0;31m       \u001b[0;32mreturn\u001b[0m \u001b[0mfn\u001b[0m\u001b[0;34m(\u001b[0m\u001b[0;34m*\u001b[0m\u001b[0margs\u001b[0m\u001b[0;34m,\u001b[0m \u001b[0;34m**\u001b[0m\u001b[0mkwargs\u001b[0m\u001b[0;34m)\u001b[0m\u001b[0;34m\u001b[0m\u001b[0;34m\u001b[0m\u001b[0m\n\u001b[0m\u001b[1;32m    151\u001b[0m     \u001b[0;32mexcept\u001b[0m \u001b[0mException\u001b[0m \u001b[0;32mas\u001b[0m \u001b[0me\u001b[0m\u001b[0;34m:\u001b[0m\u001b[0;34m\u001b[0m\u001b[0;34m\u001b[0m\u001b[0m\n\u001b[1;32m    152\u001b[0m       \u001b[0mfiltered_tb\u001b[0m \u001b[0;34m=\u001b[0m \u001b[0m_process_traceback_frames\u001b[0m\u001b[0;34m(\u001b[0m\u001b[0me\u001b[0m\u001b[0;34m.\u001b[0m\u001b[0m__traceback__\u001b[0m\u001b[0;34m)\u001b[0m\u001b[0;34m\u001b[0m\u001b[0;34m\u001b[0m\u001b[0m\n",
            "\u001b[0;32m/usr/local/lib/python3.8/dist-packages/tensorflow/python/eager/polymorphic_function/polymorphic_function.py\u001b[0m in \u001b[0;36m__call__\u001b[0;34m(self, *args, **kwds)\u001b[0m\n\u001b[1;32m    878\u001b[0m \u001b[0;34m\u001b[0m\u001b[0m\n\u001b[1;32m    879\u001b[0m       \u001b[0;32mwith\u001b[0m \u001b[0mOptionalXlaContext\u001b[0m\u001b[0;34m(\u001b[0m\u001b[0mself\u001b[0m\u001b[0;34m.\u001b[0m\u001b[0m_jit_compile\u001b[0m\u001b[0;34m)\u001b[0m\u001b[0;34m:\u001b[0m\u001b[0;34m\u001b[0m\u001b[0;34m\u001b[0m\u001b[0m\n\u001b[0;32m--> 880\u001b[0;31m         \u001b[0mresult\u001b[0m \u001b[0;34m=\u001b[0m \u001b[0mself\u001b[0m\u001b[0;34m.\u001b[0m\u001b[0m_call\u001b[0m\u001b[0;34m(\u001b[0m\u001b[0;34m*\u001b[0m\u001b[0margs\u001b[0m\u001b[0;34m,\u001b[0m \u001b[0;34m**\u001b[0m\u001b[0mkwds\u001b[0m\u001b[0;34m)\u001b[0m\u001b[0;34m\u001b[0m\u001b[0;34m\u001b[0m\u001b[0m\n\u001b[0m\u001b[1;32m    881\u001b[0m \u001b[0;34m\u001b[0m\u001b[0m\n\u001b[1;32m    882\u001b[0m       \u001b[0mnew_tracing_count\u001b[0m \u001b[0;34m=\u001b[0m \u001b[0mself\u001b[0m\u001b[0;34m.\u001b[0m\u001b[0mexperimental_get_tracing_count\u001b[0m\u001b[0;34m(\u001b[0m\u001b[0;34m)\u001b[0m\u001b[0;34m\u001b[0m\u001b[0;34m\u001b[0m\u001b[0m\n",
            "\u001b[0;32m/usr/local/lib/python3.8/dist-packages/tensorflow/python/eager/polymorphic_function/polymorphic_function.py\u001b[0m in \u001b[0;36m_call\u001b[0;34m(self, *args, **kwds)\u001b[0m\n\u001b[1;32m    910\u001b[0m       \u001b[0;31m# In this case we have created variables on the first call, so we run the\u001b[0m\u001b[0;34m\u001b[0m\u001b[0;34m\u001b[0m\u001b[0;34m\u001b[0m\u001b[0m\n\u001b[1;32m    911\u001b[0m       \u001b[0;31m# defunned version which is guaranteed to never create variables.\u001b[0m\u001b[0;34m\u001b[0m\u001b[0;34m\u001b[0m\u001b[0;34m\u001b[0m\u001b[0m\n\u001b[0;32m--> 912\u001b[0;31m       \u001b[0;32mreturn\u001b[0m \u001b[0mself\u001b[0m\u001b[0;34m.\u001b[0m\u001b[0m_no_variable_creation_fn\u001b[0m\u001b[0;34m(\u001b[0m\u001b[0;34m*\u001b[0m\u001b[0margs\u001b[0m\u001b[0;34m,\u001b[0m \u001b[0;34m**\u001b[0m\u001b[0mkwds\u001b[0m\u001b[0;34m)\u001b[0m  \u001b[0;31m# pylint: disable=not-callable\u001b[0m\u001b[0;34m\u001b[0m\u001b[0;34m\u001b[0m\u001b[0m\n\u001b[0m\u001b[1;32m    913\u001b[0m     \u001b[0;32melif\u001b[0m \u001b[0mself\u001b[0m\u001b[0;34m.\u001b[0m\u001b[0m_variable_creation_fn\u001b[0m \u001b[0;32mis\u001b[0m \u001b[0;32mnot\u001b[0m \u001b[0;32mNone\u001b[0m\u001b[0;34m:\u001b[0m\u001b[0;34m\u001b[0m\u001b[0;34m\u001b[0m\u001b[0m\n\u001b[1;32m    914\u001b[0m       \u001b[0;31m# Release the lock early so that multiple threads can perform the call\u001b[0m\u001b[0;34m\u001b[0m\u001b[0;34m\u001b[0m\u001b[0;34m\u001b[0m\u001b[0m\n",
            "\u001b[0;32m/usr/local/lib/python3.8/dist-packages/tensorflow/python/eager/polymorphic_function/tracing_compiler.py\u001b[0m in \u001b[0;36m__call__\u001b[0;34m(self, *args, **kwargs)\u001b[0m\n\u001b[1;32m    132\u001b[0m       (concrete_function,\n\u001b[1;32m    133\u001b[0m        filtered_flat_args) = self._maybe_define_function(args, kwargs)\n\u001b[0;32m--> 134\u001b[0;31m     return concrete_function._call_flat(\n\u001b[0m\u001b[1;32m    135\u001b[0m         filtered_flat_args, captured_inputs=concrete_function.captured_inputs)  # pylint: disable=protected-access\n\u001b[1;32m    136\u001b[0m \u001b[0;34m\u001b[0m\u001b[0m\n",
            "\u001b[0;32m/usr/local/lib/python3.8/dist-packages/tensorflow/python/eager/polymorphic_function/monomorphic_function.py\u001b[0m in \u001b[0;36m_call_flat\u001b[0;34m(self, args, captured_inputs, cancellation_manager)\u001b[0m\n\u001b[1;32m   1743\u001b[0m         and executing_eagerly):\n\u001b[1;32m   1744\u001b[0m       \u001b[0;31m# No tape is watching; skip to running the function.\u001b[0m\u001b[0;34m\u001b[0m\u001b[0;34m\u001b[0m\u001b[0;34m\u001b[0m\u001b[0m\n\u001b[0;32m-> 1745\u001b[0;31m       return self._build_call_outputs(self._inference_function.call(\n\u001b[0m\u001b[1;32m   1746\u001b[0m           ctx, args, cancellation_manager=cancellation_manager))\n\u001b[1;32m   1747\u001b[0m     forward_backward = self._select_forward_and_backward_functions(\n",
            "\u001b[0;32m/usr/local/lib/python3.8/dist-packages/tensorflow/python/eager/polymorphic_function/monomorphic_function.py\u001b[0m in \u001b[0;36mcall\u001b[0;34m(self, ctx, args, cancellation_manager)\u001b[0m\n\u001b[1;32m    376\u001b[0m       \u001b[0;32mwith\u001b[0m \u001b[0m_InterpolateFunctionError\u001b[0m\u001b[0;34m(\u001b[0m\u001b[0mself\u001b[0m\u001b[0;34m)\u001b[0m\u001b[0;34m:\u001b[0m\u001b[0;34m\u001b[0m\u001b[0;34m\u001b[0m\u001b[0m\n\u001b[1;32m    377\u001b[0m         \u001b[0;32mif\u001b[0m \u001b[0mcancellation_manager\u001b[0m \u001b[0;32mis\u001b[0m \u001b[0;32mNone\u001b[0m\u001b[0;34m:\u001b[0m\u001b[0;34m\u001b[0m\u001b[0;34m\u001b[0m\u001b[0m\n\u001b[0;32m--> 378\u001b[0;31m           outputs = execute.execute(\n\u001b[0m\u001b[1;32m    379\u001b[0m               \u001b[0mstr\u001b[0m\u001b[0;34m(\u001b[0m\u001b[0mself\u001b[0m\u001b[0;34m.\u001b[0m\u001b[0msignature\u001b[0m\u001b[0;34m.\u001b[0m\u001b[0mname\u001b[0m\u001b[0;34m)\u001b[0m\u001b[0;34m,\u001b[0m\u001b[0;34m\u001b[0m\u001b[0;34m\u001b[0m\u001b[0m\n\u001b[1;32m    380\u001b[0m               \u001b[0mnum_outputs\u001b[0m\u001b[0;34m=\u001b[0m\u001b[0mself\u001b[0m\u001b[0;34m.\u001b[0m\u001b[0m_num_outputs\u001b[0m\u001b[0;34m,\u001b[0m\u001b[0;34m\u001b[0m\u001b[0;34m\u001b[0m\u001b[0m\n",
            "\u001b[0;32m/usr/local/lib/python3.8/dist-packages/tensorflow/python/eager/execute.py\u001b[0m in \u001b[0;36mquick_execute\u001b[0;34m(op_name, num_outputs, inputs, attrs, ctx, name)\u001b[0m\n\u001b[1;32m     50\u001b[0m   \u001b[0;32mtry\u001b[0m\u001b[0;34m:\u001b[0m\u001b[0;34m\u001b[0m\u001b[0;34m\u001b[0m\u001b[0m\n\u001b[1;32m     51\u001b[0m     \u001b[0mctx\u001b[0m\u001b[0;34m.\u001b[0m\u001b[0mensure_initialized\u001b[0m\u001b[0;34m(\u001b[0m\u001b[0;34m)\u001b[0m\u001b[0;34m\u001b[0m\u001b[0;34m\u001b[0m\u001b[0m\n\u001b[0;32m---> 52\u001b[0;31m     tensors = pywrap_tfe.TFE_Py_Execute(ctx._handle, device_name, op_name,\n\u001b[0m\u001b[1;32m     53\u001b[0m                                         inputs, attrs, num_outputs)\n\u001b[1;32m     54\u001b[0m   \u001b[0;32mexcept\u001b[0m \u001b[0mcore\u001b[0m\u001b[0;34m.\u001b[0m\u001b[0m_NotOkStatusException\u001b[0m \u001b[0;32mas\u001b[0m \u001b[0me\u001b[0m\u001b[0;34m:\u001b[0m\u001b[0;34m\u001b[0m\u001b[0;34m\u001b[0m\u001b[0m\n",
            "\u001b[0;31mKeyboardInterrupt\u001b[0m: "
          ]
        }
      ]
    },
    {
      "cell_type": "code",
      "source": [
        "model.evaluate(x_test_stand,y_test)"
      ],
      "metadata": {
        "colab": {
          "base_uri": "https://localhost:8080/"
        },
        "id": "pmGbKYWJVuAM",
        "outputId": "7d6b961a-b447-47ae-80e2-cc44193e4f44"
      },
      "execution_count": null,
      "outputs": [
        {
          "output_type": "stream",
          "name": "stdout",
          "text": [
            "129/129 [==============================] - 1s 2ms/step - loss: 46161063936.0000 - r2_keras: -2.7525\n"
          ]
        },
        {
          "output_type": "execute_result",
          "data": {
            "text/plain": [
              "[46161063936.0, -2.7524828910827637]"
            ]
          },
          "metadata": {},
          "execution_count": 76
        }
      ]
    },
    {
      "cell_type": "code",
      "source": [],
      "metadata": {
        "id": "tcWyFz8y6fOq"
      },
      "execution_count": null,
      "outputs": []
    }
  ]
}