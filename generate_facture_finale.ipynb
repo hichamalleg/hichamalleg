{
  "nbformat": 4,
  "nbformat_minor": 0,
  "metadata": {
    "colab": {
      "provenance": [],
      "authorship_tag": "ABX9TyMVLw9gGnpnJ6r7TzIp1C9p",
      "include_colab_link": true
    },
    "kernelspec": {
      "name": "python3",
      "display_name": "Python 3"
    },
    "language_info": {
      "name": "python"
    }
  },
  "cells": [
    {
      "cell_type": "markdown",
      "metadata": {
        "id": "view-in-github",
        "colab_type": "text"
      },
      "source": [
        "<a href=\"https://colab.research.google.com/github/hichamalleg/hichamalleg/blob/main/generate_facture_finale.ipynb\" target=\"_parent\"><img src=\"https://colab.research.google.com/assets/colab-badge.svg\" alt=\"Open In Colab\"/></a>"
      ]
    },
    {
      "cell_type": "code",
      "source": [
        "!pip install XlsxWriter"
      ],
      "metadata": {
        "colab": {
          "base_uri": "https://localhost:8080/"
        },
        "id": "H3LrkzNxD8CC",
        "outputId": "013ca36a-4f8b-4a8f-8487-d655b29fa551"
      },
      "execution_count": 1,
      "outputs": [
        {
          "output_type": "stream",
          "name": "stdout",
          "text": [
            "Collecting XlsxWriter\n",
            "  Downloading XlsxWriter-3.2.0-py3-none-any.whl.metadata (2.6 kB)\n",
            "Downloading XlsxWriter-3.2.0-py3-none-any.whl (159 kB)\n",
            "\u001b[?25l   \u001b[90m━━━━━━━━━━━━━━━━━━━━━━━━━━━━━━━━━━━━━━━━\u001b[0m \u001b[32m0.0/159.9 kB\u001b[0m \u001b[31m?\u001b[0m eta \u001b[36m-:--:--\u001b[0m\r\u001b[2K   \u001b[91m━━━━━━━━━━━━━━━━━\u001b[0m\u001b[91m╸\u001b[0m\u001b[90m━━━━━━━━━━━━━━━━━━━━━━\u001b[0m \u001b[32m71.7/159.9 kB\u001b[0m \u001b[31m2.5 MB/s\u001b[0m eta \u001b[36m0:00:01\u001b[0m\r\u001b[2K   \u001b[90m━━━━━━━━━━━━━━━━━━━━━━━━━━━━━━━━━━━━━━━━\u001b[0m \u001b[32m159.9/159.9 kB\u001b[0m \u001b[31m2.8 MB/s\u001b[0m eta \u001b[36m0:00:00\u001b[0m\n",
            "\u001b[?25hInstalling collected packages: XlsxWriter\n",
            "Successfully installed XlsxWriter-3.2.0\n"
          ]
        }
      ]
    },
    {
      "cell_type": "code",
      "source": [
        "import xlsxwriter\n",
        "import random\n",
        "from random import randrange"
      ],
      "metadata": {
        "id": "FJTv1iPPD_ap"
      },
      "execution_count": 2,
      "outputs": []
    },
    {
      "cell_type": "code",
      "source": [
        "# information fournisseur\n",
        "workbook = xlsxwriter.Workbook('FACTURES.xlsx')\n",
        "for i in range(101,160):\n",
        "  worksheet = workbook.add_worksheet('fACT'+str(i))\n",
        "  bold = workbook.add_format({'bold':True,'border':1})\n",
        "  border= workbook.add_format({ 'border':1})\n",
        "  worksheet.write('A1','DJANATI MOHAMED')\n",
        "  worksheet.write('A2','Hai Rih Ali Lot N° 03 Ouled Moussa - Boumerdes')\n",
        "  worksheet.write('A3','RCN° : 35 /02-3628470 A 03')\n",
        "  worksheet.write('A4','IF N° : 198116420210637')\n",
        "  worksheet.write('A5','ART  : 35206173222')\n",
        "  worksheet.write('E14','Le : ')\n",
        "  worksheet.write('B13',('FACTURE N° '+ str(i)+'/2022'),bold)\n",
        "  #zohir hachadi\n",
        "  worksheet.write('D7','DOIT: ETB HACHADI ZOHIR')\n",
        "  worksheet.write('D8','Adresse: Cite zouaoui Sidi Moussa  Alger ')\n",
        "  worksheet.write('D9','RCN° : 12A5012088')\n",
        "  worksheet.write('D10','IF N° : 198119160077717')\n",
        "  worksheet.write('D11','ART  : 16376198021')\n",
        "\n",
        "  # data we want to write the worksheet\n",
        "  facture = (\n",
        "      ['Pelle avec manche – HSSH0101 INGCO',1350,randrange(1,10)],\n",
        "      ['Projecteur 500W – LHFL5001 INGCO',1400,randrange(1,15)],\n",
        "      ['Ruban isolant en PVC Charreton  w',13000,randrange(1,2)],\n",
        "      ['Serrure à double entrée – DDEDL0602 INGCO',16000,randrange(1,3)],\n",
        "      ['Boite de baguette en acier inoxydable pour le soudage ',13100,randrange(1,3)],\n",
        "      ['Sérrure éléctrique Robisan ',26200,randrange(1,2)],\n",
        "      ['Brosse circulaire fil en acier TWIST 100mm M14',900,randrange(1,15)],\n",
        "      ['Burin Plat SDS Plus  En acier au chrome-molybdène',600,randrange(5,15)],\n",
        "      ['Coffret de 9 scies cloches 19 au 64mm – 220907 VIRAX',31200,randrange(1,2)],\n",
        "      ['Coffret de forets , HSS, 19pcs – 330.2610 Kstools',15100,randrange(1,2)],\n",
        "      ['Ruban isolant en PVC Charreton',130,randrange(2,14)],\n",
        "      ['Serrure à double entrée – DDEDL0602 INGCO',1600,randrange(2,12)],\n",
        "      ['Vasque encastrable individuel ROCA',27500,randrange(1,2)],\n",
        "      ['Siège a l anglaise en porcelaine ROCA',25000,randrange(1,2)],\n",
        "      ['Distributeur de papier hygiénique mural inox',13000,randrange(1,3)],\n",
        "      ['Distributeur de savon liquide mural inox ',14000,randrange(1,3)],\n",
        "      ['Préparateur d eau chaude sanitaire cumulus',33500,randrange(1,2)],\n",
        "      ['Tuyeau multicouche 2 couches',140,randrange(10,200)],\n",
        "      ['Ciment colle C2',900,randrange(20,200)],\n",
        "      ['Galet avec roulement DTA 80 mm',319.33,randrange(40,70)],\n",
        "      ['Galet avec roulement DTA 100 mm',478.99,randrange(45,85)],\n",
        "      ['Galet avec roulement DTA 120 mm',678.57,randrange(56,90)],\n",
        "      ['voyage de sable ',7000,randrange(2,7)]\n",
        "  )\n",
        "\n",
        "  # generate tuple of artucles with prices\n",
        "  prix = []\n",
        "  quantite = []\n",
        "  sumfinale = []\n",
        "  articles = ()\n",
        "  for i in range(len(facture)):\n",
        "      article=random.choice(facture)\n",
        "      articles+=article[0:2],\n",
        "      quantite.append(article[2])\n",
        "      prix.append(article[1])\n",
        "      sum1 = prix[i]*quantite[i]\n",
        "      sumfinale.append(sum1)\n",
        "      if sum(sumfinale) >= 74000:\n",
        "          break\n",
        "\n",
        "\n",
        "\n",
        "\n",
        "\n",
        "  # entete tableau\n",
        "  worksheet.write('A15','Désignation',bold)\n",
        "  worksheet.write('B15','Unité',bold)\n",
        "  worksheet.write('C15','Qté',bold)\n",
        "  worksheet.write('D15','Prix / U',bold)\n",
        "  worksheet.write('E15','Montant H,T',bold)\n",
        "  # show unité in every cell\n",
        "  for i in range(len(articles)):\n",
        "    worksheet.write(15+i,1,'U',border)\n",
        "\n",
        "  # production qte * price\n",
        "  for i in range(len(articles)):\n",
        "    worksheet.write(15+i,4,'=(D'+str(16+i)+'*C'+str(16+i)+')',border)\n",
        "\n",
        "  # start from the first cell,rows and columns are zero indexed\n",
        "  row = 15\n",
        "  col = 0\n",
        "  # iterate over the data and write it out row by row\n",
        "  for item, cost in (articles):\n",
        "      worksheet.write(row, col,     item,border)\n",
        "      worksheet.write(row, col + 3, cost,border)\n",
        "      row += 1\n",
        "\n",
        "  #iterate over the quantity and write it out by row\n",
        "  row = 15\n",
        "  col = 2\n",
        "  for qte in (quantite):\n",
        "    worksheet.write(row, col,qte,border )\n",
        "    row +=1\n",
        "\n",
        "  # sum cell as variable\n",
        "  sum_cell = len(quantite) +5\n",
        "  sum_tva = sum_cell + 1\n",
        "  timbre = sum_tva + 1\n",
        "\n",
        "  # write a total using a formula\n",
        "\n",
        "  worksheet.write(row,3,'TOTAL HT ',bold)\n",
        "  worksheet.write(row,4,'=SUM(E16:E'+str(sum_cell+10) + ')',border)\n",
        "\n",
        "  worksheet.write(row+1,3,'T.V.A 19% ',bold)\n",
        "  worksheet.write(row+1,4,('=(E'+str(sum_cell +11 )+'*0.19)'),border)\n",
        "\n",
        "  worksheet.write(row+2,3,'TIMBRE 1% ',bold)\n",
        "  worksheet.write(row+2,4,'=SUM(E'+str(sum_tva+10) +':E'+str(timbre+10)+')*0.01',border)\n",
        "\n",
        "  worksheet.write(row+3,3,'TOTAL TTC ',bold)\n",
        "  worksheet.write(row+3,4,'=SUM(E'+str(sum_tva+10)+':E'+str(timbre+11)+')',border)\n",
        "\n",
        "  worksheet.write(row+6,0,'Arrêtée la présente facture à la somme de :')\n",
        "\n",
        "\n",
        "workbook.close()"
      ],
      "metadata": {
        "id": "qPDkdJ7aD_0J"
      },
      "execution_count": 3,
      "outputs": []
    }
  ]
}